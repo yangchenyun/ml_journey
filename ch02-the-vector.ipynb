{
 "cells": [
  {
   "attachments": {},
   "cell_type": "markdown",
   "metadata": {},
   "source": [
    "# Chapter 2 - The Vector\n",
    "\n",
    "Summary:\n",
    "- Vector definition and notation: n-vector over R, n-vector over F, a D-vector over F\n",
    "- Vector representation using `dict` in Python\n",
    "- Vector operations: vector addition, scalar-vector multiplication and their property\n",
    "- Convex and affine combination for vector to form line segment and infinite lines\n",
    "- Vector dot-product, and its properties: commutativity, homogeneity\n",
    "- Linear equation, linear system.\n",
    "\n",
    "A few problems associated with future chapters:\n",
    "- \"Light out\" problem solution\n",
    "- Solving a linear system\n",
    "- Parity bit, checksum functions and function to locate an error\n",
    "- matrix-vector multiplication to solve filtering with kernel\n",
    "- Algorithm to quickly compute all dot-products"
   ]
  },
  {
   "attachments": {},
   "cell_type": "markdown",
   "metadata": {},
   "source": [
    "# Reference\n",
    "\n",
    "Quaternions is a system of mathematical notation used to represent rotations and orientations in three-dimensional space, \n",
    "it was invented by William Rowan Hamilton, a prodigy.\n",
    "\n",
    "Josiah Gibbs, made significant contributions to the fields of thermodynamics, statistical mechanics, \n",
    "and physical chemistry. He developed vector analysis as an alternative to quaternions."
   ]
  },
  {
   "attachments": {},
   "cell_type": "markdown",
   "metadata": {},
   "source": [
    "### Definition 2.1.1\n",
    "A vector with four entries, each of which is a real number, is called a 4-vector over $\\mathbb{R}$\n",
    "All the elements of a vector must from one field.\n",
    "\n",
    "### Definition 2.1.2\n",
    "For a field $\\mathbb{F}$ and a positive integer n, a vector with n entries, each belonging to $\\mathbb{F}$, is called an n-vector over $\\mathbb{F}$. The set of n-vectors over F is denoted $\\mathbb{F}^n$.\n",
    "\n",
    "Vector could be interpreted as function which maps ${0, 1, 2 ..., d-1}$ to $\\mathbb{F}$.\n",
    "\n",
    "### Definition\n",
    "multiset, or bag, is a set which could contain more than one copy of a element.\n",
    "\n",
    "### Definition 2.2.2 (CS definition)\n",
    "For __a finite set D__ and a field $\\mathbb{F}$, a D-vector over $\\mathbb{F}$ __is a function__ from D to $\\mathbb{F}$.\n",
    "\n",
    "Example, document vector could be defined as, $f: WORDS \\rightarrow \\mathbb{R}$\n",
    "\n",
    "With this definition, $\\mathbb{F}^D$ denotes the set of all D-vectors over $\\mathbb{F}$ "
   ]
  },
  {
   "cell_type": "code",
   "execution_count": 2,
   "metadata": {},
   "outputs": [],
   "source": [
    "import math\n",
    "\n",
    "from book.plotting import plot"
   ]
  },
  {
   "cell_type": "code",
   "execution_count": 3,
   "metadata": {},
   "outputs": [],
   "source": [
    "# vector is a function with finite domain, it could be represented as dict\n",
    "# zero values would be omittied in the sparse representation\n",
    "words_vector = {'on': 1, 'Spain': 1, 'in': 1, 'plain': 1, 'the': 2, 'mainly': 1, 'rain': 1, 'falls': 1}\n",
    "\n",
    "# n-vector with N as its domain (1, 2, ...), could be represented as list\n",
    "n_vector = [3.1415, 2.7192, -1.0, 2.0]\n",
    "\n",
    "# Both list and dict represents vector in its sparse form.\n",
    "\n",
    "# k-sparse, vector where k entries are nonzero.\n",
    "\n",
    "# Interesting problems:\n",
    "# - Find \"closest\" k-sparse vector, used in compression schemes\n",
    "# - Sparse matrix representation"
   ]
  },
  {
   "cell_type": "code",
   "execution_count": 4,
   "metadata": {},
   "outputs": [],
   "source": [
    "# representation in vector\n",
    "\n",
    "# binary string represented by GF(2)^n\n",
    "\"10111011\" # => [one, zero, one, ...]\n",
    "\n",
    "# Attributes. Each data set is a collection of {attr_name => attr_value ...}. \n",
    "# The collection is represented as vector.\n",
    "Jane = {'age':30, 'education level':16, 'income':85000}\n",
    "\n",
    "# State of system, country_name => population\n",
    "world = {'China':1341670000, 'India':1192570000, 'US':308745538, 'Indonesia':237556363, 'Brazil':190732694}\n",
    "\n",
    "# Probability distribution, event => real_number\n",
    "{1:1/6, 2:1/6, 3:1/6, 4:1/6, 5:1/6, 6:1/6}\n",
    "\n",
    "# Image, coordinates pair => RGB color\n",
    "\n",
    "# Point in space, N => Coordinates, it could represent high-dimension points as well\n",
    "L = [[2, 2], [3, 2], [1.75, 1], [2, 1], [2.25, 1], [2.5, 1], [2.75, 1], [3, 1], [3.25, 1]]"
   ]
  },
  {
   "attachments": {},
   "cell_type": "markdown",
   "metadata": {},
   "source": [
    "## 2.4 Vector addition\n"
   ]
  },
  {
   "cell_type": "code",
   "execution_count": 5,
   "metadata": {},
   "outputs": [],
   "source": [
    "# Definition 2.4.1: Addition of n-vectors is defined in terms of addition of corresponding entries:\n",
    "def add2(v, w):\n",
    "    return [v[0]+w[0], v[1]+w[1]]\n",
    "\n",
    "plot(L)\n",
    "plot(add2(v, [1, 2]) for v in L)"
   ]
  },
  {
   "cell_type": "code",
   "execution_count": 6,
   "metadata": {},
   "outputs": [],
   "source": [
    "def addn(v, w):\n",
    "    return [v[i] + w[i] for i in range(len(v))]\n",
    "\n",
    "# Definition, zero-vector in F^D is a vector with all D entries zero.\n",
    "def make_zero(v):\n",
    "    if isinstance(v, int):\n",
    "        return 0\n",
    "    if isinstance(v, float):\n",
    "        return 0.0\n",
    "    if isinstance(v, list):\n",
    "        return [make_zero(e) for e in v]\n",
    "    if isinstance(v, tuple):\n",
    "        return tuple([make_zero(e) for e in v])\n",
    "\n",
    "def zeroes(v): \n",
    "    zero = make_zero(v[0])\n",
    "    return [zero for d in v]\n",
    "zeroes(L)\n",
    "\n",
    "# Proposition 2.4.5 (Associativity and Commutativity of Vector Addition)\n",
    "assert addn(L[0], L[1]) == addn(L[1], L[0])\n",
    "assert addn(addn(L[0], L[1]), L[3]) == addn(L[0], addn(L[1], L[3]))"
   ]
  },
  {
   "cell_type": "code",
   "execution_count": 7,
   "metadata": {},
   "outputs": [],
   "source": [
    "# Vector could be seen as arrows and addition could be seen as composition in connecting two arrows."
   ]
  },
  {
   "cell_type": "code",
   "execution_count": 8,
   "metadata": {},
   "outputs": [],
   "source": [
    "# Definition 2.5.1: Multiplying a vector v by a scalar α is defined as multiplying each entry of v by α:\n",
    "def scalar_vector_mult(alpha, v):\n",
    "    return [alpha*v[i] for i in range(len(v))]\n",
    "\n",
    "# Proposition 2.5.5 (Associativity of scalar-vector multiplication):\n",
    "alpha = math.pi\n",
    "beta = math.e\n",
    "assert scalar_vector_mult(beta, scalar_vector_mult(alpha, L[0])) == scalar_vector_mult(alpha, scalar_vector_mult(beta, L[0]))\n",
    "\n",
    "# plot(scalar_vector_mult(0.5, v) for v in L)\n",
    "# plot(scalar_vector_mult(-0.5, v) for v in L)"
   ]
  },
  {
   "cell_type": "code",
   "execution_count": 9,
   "metadata": {},
   "outputs": [],
   "source": [
    "# Using alpha between [0, 1], it would represent the line segments from origin to the point v\n",
    "# Line segments through the origin\n",
    "v = [2, 3]\n",
    "plot([scalar_vector_mult(i/100, v) for i in range(101)], 1)\n",
    "\n",
    "# Using alpha in all R, it represent the inifinte line through origin and v "
   ]
  },
  {
   "cell_type": "code",
   "execution_count": 10,
   "metadata": {},
   "outputs": [],
   "source": [
    "# Using addition, we could plot lines not through origin as well\n",
    "plot([add2(scalar_vector_mult(i/100.0, [3,2]), [0.5,1]) for i in range(101)], 4)"
   ]
  },
  {
   "cell_type": "code",
   "execution_count": 11,
   "metadata": {},
   "outputs": [],
   "source": [
    "# Exercise 2.6.1\n",
    "w = [3, 4]\n",
    "# alpha[3, 4] + [2, 3], for alpha in R\n",
    "plot([add2(scalar_vector_mult(i/100.0, [3, 4]), [2, 3]) for i in range(101)], 4)\n",
    "\n",
    "# Exercise 2.6.2\n",
    "# alpha[5, -1] + [1, 4], for alpha in R"
   ]
  },
  {
   "cell_type": "code",
   "execution_count": 12,
   "metadata": {},
   "outputs": [],
   "source": [
    "# Proposition 2.6.3 (Scalar-vector multiplication distributes over vector addition)\n",
    "assert scalar_vector_mult(3, addn(L[0], L[1])) == addn(scalar_vector_mult(3, L[0]), scalar_vector_mult(3, L[1]))\n",
    "\n",
    "# Proposition 2.6.5 (scalar-vector multiplication distributes over scalar addition):\n",
    "a = 42\n",
    "b = 1961\n",
    "assert scalar_vector_mult(a + b, L[0]) == addn(scalar_vector_mult(a, L[0]), scalar_vector_mult(b, L[0]))\n",
    "\n",
    "# NOTE: both property here assumes property of + and * in the scalar's domain."
   ]
  },
  {
   "cell_type": "code",
   "execution_count": 13,
   "metadata": {},
   "outputs": [],
   "source": [
    "# Definition: An expression of the form αu+βv where α,β ≥ 0 and α+β = 1 is called __a convex combination__ of u and v.\n",
    "# Proposition 2.6.7: The u-to-v line segment consists of the set of convex combinations of u and v.\n",
    "\n",
    "def segment(pt1, pt2, n=100):\n",
    "    n = float(n)\n",
    "    return [addn(scalar_vector_mult(i/n, pt1),\n",
    "          scalar_vector_mult(1.0 - i/n, pt2)) for i in range(101)]\n",
    "\n",
    "plot(segment([3.5, 3], [0.5, 1]))"
   ]
  },
  {
   "cell_type": "code",
   "execution_count": 14,
   "metadata": {},
   "outputs": [],
   "source": [
    "# Definition: An expression of the form αu+βv where α+β = 1 is called __an affine combination__ of u and v.\n",
    "# Convex combination is a special form of affine combination.\n",
    "\n",
    "# Q: The term \"affine\" and \"convex\" names come from the fact that these combinations preserve the affine or convext \n",
    "# structure of the space. \n",
    "\n",
    "# Hypothesis 2.6.11: The line through u and v consists of the set of affine combinations of u and v."
   ]
  },
  {
   "cell_type": "code",
   "execution_count": 47,
   "metadata": {},
   "outputs": [
    {
     "data": {
      "text/plain": [
       "[3,\n",
       " 1,\n",
       " 0,\n",
       " Vec[f={'A': 3, 'C': 0, 'B': 9}, D=('A', 'C', 'B')],\n",
       " Vec[f={'A': 3, 'C': 0, 'B': 9}, D=('A', 'C', 'B')],\n",
       " Vec[f={'A': 2, 'C': 0, 'B': 6}, D=('A', 'C', 'B')],\n",
       " Vec[f={'A': -1, 'C': 0, 'B': -3}, D=('A', 'C', 'B')],\n",
       " True,\n",
       " False,\n",
       " False]"
      ]
     },
     "execution_count": 47,
     "metadata": {},
     "output_type": "execute_result"
    }
   ],
   "source": [
    "# Vector Implementation\n",
    "class Vec:\n",
    "    def __init__(self, labels, function):\n",
    "        # Domain is immutable\n",
    "        self.D = tuple(labels)\n",
    "        self.f = function\n",
    "\n",
    "    def __setitem__(self, d, v):\n",
    "        self.f[d] = v\n",
    "\n",
    "    def __getitem__(self, d):\n",
    "        if d in self.f:\n",
    "            return self.f[d]\n",
    "        else:\n",
    "            return 0\n",
    "    \n",
    "    def zeroes(self):\n",
    "        return Vec(self.D, {})\n",
    "\n",
    "    def scalar_mul(self, alpha):\n",
    "        return Vec(self.D, {d: alpha * self[d] for d in self.D})\n",
    "\n",
    "    def add(self, other):\n",
    "        assert self.D == other.D\n",
    "        assert isinstance(other, Vec)\n",
    "        return Vec(self.D, {d: other[d] + self[d] for d in self.D})\n",
    "\n",
    "    def neg(self):\n",
    "        return Vec(self.D, {d: -self[d] for d in self.D})\n",
    "\n",
    "    def dot(self, v):\n",
    "        u = self\n",
    "        assert u.D == v.D\n",
    "        return sum(u[d] * v[d] for d in u.D)\n",
    "\n",
    "    def k_sparse(self):\n",
    "        \"\"\"Returns the number of values defined in the sparse space.\"\"\"\n",
    "        return len(self.f.values())\n",
    "\n",
    "    # Python magic\n",
    "    __add__ = add\n",
    "    __neg__ = neg\n",
    "\n",
    "    def __sub__(self, other):\n",
    "        return self.add(-other)\n",
    "\n",
    "    def __mul__(self, rh):\n",
    "        if isinstance(rh, int) or isinstance(rh, float):\n",
    "            return self.scalar_mul(rh)\n",
    "        elif isinstance(rh, Vec):\n",
    "            return self.dot(rh)\n",
    "        else:\n",
    "            print(f\"unknow type: {type(rh)}\")\n",
    "            pass\n",
    "\n",
    "    def __rmul__(self, lh):\n",
    "        if isinstance(lh, int) or isinstance(lh, float):\n",
    "            return self.scalar_mul(lh)\n",
    "        elif isinstance(lh, Vec):\n",
    "            return self.dot(lh)\n",
    "        else:\n",
    "            print(f\"unknow type: {type(lh)}\")\n",
    "            pass\n",
    "\n",
    "    def __repr__(self):\n",
    "        return f\"Vec[f={self.f}, D={self.D}]\"\n",
    "    \n",
    "    def __eq__(self, other):\n",
    "        return (self.D == other.D) and self.f == other.f\n",
    "\n",
    "v = Vec({'A', 'B', 'C'}, {'A': 1})\n",
    "v['B'] = 3\n",
    "[\n",
    "    v['B'], v['A'], v['C'],\n",
    "    v * 3,\n",
    "    3 * v,\n",
    "    v + v,\n",
    "    -v,\n",
    "    v == v,\n",
    "    v == Vec({'A', 'B', 'C'}, {'A': 2}),\n",
    "    v == Vec({'A', 'B'}, {'A': 1}),\n",
    "]"
   ]
  },
  {
   "attachments": {},
   "cell_type": "markdown",
   "metadata": {},
   "source": [
    "## 2.8 Vectors over GF(2)"
   ]
  },
  {
   "cell_type": "code",
   "execution_count": 16,
   "metadata": {},
   "outputs": [
    {
     "data": {
      "text/plain": [
       "Vec[f={0: one, 1: 0, 2: one, 3: 0}, D=(0, 1, 2, 3)]"
      ]
     },
     "execution_count": 16,
     "metadata": {},
     "output_type": "execute_result"
    }
   ],
   "source": [
    "from book.GF2 import one, zero\n",
    "\n",
    "def gf2_vector(s):\n",
    "    \"\"\"Accepts binary string or list for GF(2) vector.\"\"\"\n",
    "    if isinstance(s, list):\n",
    "       s = ''.join([str(e) for e in s]) \n",
    "    f = dict(enumerate([one if ch == '1' else zero for ch in list(s)]))\n",
    "    return Vec(\n",
    "        list(f.keys()), # D is [0, 1, 2, ...]\n",
    "        f)\n",
    "\n",
    "v1 = gf2_vector(\"1101\")\n",
    "v2 = gf2_vector(\"0111\")\n",
    "v1 + v2"
   ]
  },
  {
   "cell_type": "code",
   "execution_count": 17,
   "metadata": {},
   "outputs": [],
   "source": [
    "# one-time pad encoding revisited\n",
    "k = gf2_vector([0,1,1,0,1,0,0,0,0,1])\n",
    "p = gf2_vector([0,0,0,1,1,1,0,1,0,1])\n",
    "c = p + k\n",
    "# recover the original k\n",
    "assert p == c + k\n",
    "assert c - k == c + k"
   ]
  },
  {
   "cell_type": "code",
   "execution_count": 18,
   "metadata": {},
   "outputs": [],
   "source": [
    "# Application: All-or-nothing secret-sharing \n",
    "import random\n",
    "\n",
    "def random_bit():\n",
    "    return 1 if random.uniform(0, 1) > 0.5 else 0\n",
    "\n",
    "def all_or_nothing(message):\n",
    "    v_a = gf2_vector([random_bit() for i in range(message.k_sparse())])\n",
    "    v_b = message - v_a\n",
    "    return v_a, v_b\n",
    "\n",
    "message = gf2_vector([0,1,1,0,1,0,0,0,0,1])\n",
    "v_a, v_b = all_or_nothing(message)\n",
    "assert v_b + v_a == message"
   ]
  },
  {
   "cell_type": "code",
   "execution_count": 19,
   "metadata": {},
   "outputs": [],
   "source": [
    "# Problem 2.8.3, share n-bit secret among 3 TAs, any two learns nothing\n",
    "# Solution, recursively applying the process above\n",
    "\n",
    "message = gf2_vector([0,1,1,0,1,0,0,0,0,1])\n",
    "v_a, m2 = all_or_nothing(message)\n",
    "v_b, v_c = all_or_nothing(m2)\n",
    "assert v_a + v_b + v_c == message"
   ]
  },
  {
   "cell_type": "code",
   "execution_count": 20,
   "metadata": {},
   "outputs": [],
   "source": [
    "# Computational Problem 2.8.4: Solving Lights Out:\n",
    "# Given an initial configuration of lights, find a sequence of button-pushes that turns out all the lights, or report that none exists.\n",
    "# Question 2.8.5: Is there a way to solve the puzzle for every possible starting configuration?\n",
    "# Or for n dimensions\n",
    "\n",
    "# (int, int) => GF(2)\n",
    "state = {(0, 0): one, (0, 1): one, (0, 2): one, (0, 3): one, (0, 4): 0,\n",
    "         (1, 0): one, (1, 1): one, (1, 2): one, (1, 3): 0,   (1, 4): one,\n",
    "         (2, 0): one, (2, 1): one, (2, 2): one, (2, 3): 0,   (2, 4): one,\n",
    "         (3, 0): 0,   (3, 1): 0,   (3, 2): 0,   (3, 3): one, (3, 4): one,\n",
    "         (4, 0): one, (4, 1): one, (4, 2): 0,   (4, 3): one, (4, 4): one}\n",
    "\n",
    " # move is a vector at any position\n",
    "def move(coord):\n",
    "    return {(0,0):one, (0,1):one, (1,0):one}\n",
    "\n",
    "# the s + m1 + m2 + ... mn = zeroes => m1 + m2 + ... + mn = s\n",
    "\n",
    "# The problem becomes its general form!!\n",
    "# Computational Problem 2.8.7: Representing a given vector as a sum of a subset of other given vectors over GF(2)"
   ]
  },
  {
   "attachments": {},
   "cell_type": "markdown",
   "metadata": {},
   "source": [
    "## 2.9 Dot-product and Linear System"
   ]
  },
  {
   "cell_type": "code",
   "execution_count": 21,
   "metadata": {},
   "outputs": [
    {
     "data": {
      "text/plain": [
       "-30"
      ]
     },
     "execution_count": 21,
     "metadata": {},
     "output_type": "execute_result"
    }
   ],
   "source": [
    "# also called scalar product\n",
    "\n",
    "def dot_product(u, v):\n",
    "    assert u.D == v.D\n",
    "    return sum(u[d] * v[d] for d in u.D)\n",
    "\n",
    "def list_dot(u, v):\n",
    "    return sum(u[d] * v[d] for d in range(len(u)))\n",
    "\n",
    "def to_vector(l):\n",
    "    \"\"\"Accepts binary string or list for GF(2) vector.\"\"\"\n",
    "    f = dict(enumerate(l))\n",
    "    return Vec(\n",
    "        list(f.keys()), # D is [0, 1, 2, ...]\n",
    "        f)\n",
    "\n",
    "u = [1, 1, 1, 1, 1]\n",
    "u = to_vector(u)\n",
    "v = [10, 20, 0, 40, -100]\n",
    "v = to_vector(v)\n",
    "dot_product(u, v)"
   ]
  },
  {
   "cell_type": "code",
   "execution_count": 22,
   "metadata": {},
   "outputs": [
    {
     "data": {
      "text/plain": [
       "0.0845"
      ]
     },
     "execution_count": 22,
     "metadata": {},
     "output_type": "execute_result"
    }
   ],
   "source": [
    "# Linear equations\n",
    "# Definition 2.9.6: A linear equation is an equation of the form a · x = β, where a is a vector, β is a scalar, and x is a __vector variable__.\n",
    "\n",
    "D = {'memory', 'radio', 'sensor', 'CPU'}\n",
    "rate = Vec(D, {'memory':0.06, 'radio':0.1, 'sensor':0.004, 'CPU':0.0025})\n",
    "duration = Vec(D, {'memory':1.0, 'radio':0.2, 'sensor':0.5, 'CPU':1.0})\n",
    "rate.dot(duration)\n",
    "\n",
    "# given a duration and consumption fixed, could we find the rate\n",
    "# Definition 2.9.10: In general, a system of linear equations is a collection of linear equations, (often abbreviated linear system)\n",
    "\n",
    "# Question 2.9.11: Uniqueness of solution to a linear system\n",
    "\n",
    "# Computational Problem 2.9.12: Solving a linear system\n",
    "# - input: a list of vectors a1, . . . , am, and corresponding scalars β1, . . . , βm (the right-hand sides)\n",
    "# - output: a vector xˆ satisfying the linear system 2.3 or a report that none exists."
   ]
  },
  {
   "cell_type": "code",
   "execution_count": 23,
   "metadata": {},
   "outputs": [
    {
     "data": {
      "text/plain": [
       "[2, 2, 0, 0]"
      ]
     },
     "execution_count": 23,
     "metadata": {},
     "output_type": "execute_result"
    }
   ],
   "source": [
    "# Application: dot product can be used to measure similarity \n",
    "\n",
    "# Fun fact, why 44100Hz in sampling?\n",
    "# The highest frequency that humans can hear is typically around 20,000 Hz; based on the Nyquist-Shannon sampling theorem which states \n",
    "# that in order to accurately reconstruct a continuous signal from its samples, the sampling rate must be at least twice the highest \n",
    "# frequency present in the signal. 44100 is common used in early digial audio equipment.\n",
    "\n",
    "# How measure two audio segments?\n",
    "haystack = [1, -1, 1, 1, 1, -1, 1, 1, 1] \n",
    "needle = [1, -1, 1, 1, -1, 1]\n",
    "[\n",
    "    list_dot(needle,\n",
    "                 haystack[i:i+len(needle)])\n",
    "    for i in range(len(haystack) - len(needle) + 1)\n",
    "]\n",
    "\n",
    "# This could be seen as a __linear filter__\n",
    "# Another way is pad the needle to be the same length of the haystack and apply the product"
   ]
  },
  {
   "cell_type": "code",
   "execution_count": 24,
   "metadata": {},
   "outputs": [],
   "source": [
    "# Application: parity bit\n",
    "# Capture errors during bits transmission\n",
    "\n",
    "# Challenge-response scheme\n",
    "# Instead of sending password directly, generate a challenge, which could only be solved with procession of original password\n",
    "\n",
    "# Question 2.9.18: Number of solutions to a linear system over GF(2) How many solutions are there to a given linear system over GF (2)?\n",
    "\n",
    "# Computational Problem 2.9.19: Computing all solutions to a linear system over GF(2) \n",
    "#                               Find all solutions to a given linear system over GF (2).\n",
    "\n",
    "# Question 2.9.20: Does a system of linear equations imply any other linear equations? \n",
    "#                  If so, what other linear equations?"
   ]
  },
  {
   "cell_type": "code",
   "execution_count": 26,
   "metadata": {},
   "outputs": [],
   "source": [
    "# dot product property\n",
    "\n",
    "# Proposition 2.9.21 (Commutativity of dot-product): u · v = v · u\n",
    "u = to_vector([1, 1, 1, 1, 1])\n",
    "v = to_vector([10, 20, 0, 40, -100])\n",
    "assert u.dot(v) == v.dot(u)\n",
    "\n",
    "# Proposition 2.9.22 (Homogeneity of dot-product): (α u) · v = α (u · v)\n",
    "alpha = 42\n",
    "assert (alpha * u).dot(v) == alpha * u.dot(v)\n",
    "\n",
    "# Proposition 2.9.25 (Dot-product distributes over vector addition): (u + v) · w = u·w+v·w\n",
    "w = to_vector([2, 4, 6, 8, 10])\n",
    "assert (u + v).dot(w) == u.dot(w) + v.dot(w)"
   ]
  },
  {
   "cell_type": "code",
   "execution_count": 53,
   "metadata": {},
   "outputs": [
    {
     "data": {
      "text/plain": [
       "[Vec[f={3: 3.0, 2: -19.0, 1: 18.0, 0: -67.0}, D=(0, 1, 2, 3)],\n",
       " Vec[f={2: 3.0, 1: -3.0, 0: 15.5}, D=(0, 1, 2)]]"
      ]
     },
     "execution_count": 53,
     "metadata": {},
     "output_type": "execute_result"
    }
   ],
   "source": [
    "# 2.11 Solve triangular system\n",
    "def triangular_solve_n(row_list, b):\n",
    "    vlen = row_list[0].k_sparse()\n",
    "    x = row_list[0].zeroes()\n",
    "    for j, v in enumerate(reversed(row_list)):\n",
    "        i = (vlen - 1) - j\n",
    "        x[i] = (b[i] - x * v) / v[i]  # NOTE: v[i] != 0\n",
    "    return x\n",
    "    \n",
    "triangle1 = [\n",
    "    to_vector([1, 0.5, -2, 4]),\n",
    "    to_vector([0, 3, 3 ,2]),\n",
    "    to_vector([0, 0, 1, 5]),\n",
    "    to_vector([0, 0, 0, 2]),\n",
    "]\n",
    "triangle2 = [\n",
    "    to_vector([2, 3, -4]),\n",
    "    to_vector([0, 1, 2]),\n",
    "    to_vector([0, 0, 5]),\n",
    "]\n",
    "\n",
    "[\n",
    "    triangular_solve_n(triangle1, [-8, 3, -4, 6]),\n",
    "    triangular_solve_n(triangle2, [10, 3, 15]),\n",
    "]\n",
    "\n",
    "# Answer to linear system questions: is it unique, is it a solution?\n",
    "\n",
    "# Proposition 2.11.5: For a triangular system specified by a length-n list rowlist of n-vectors and an n-vector b, \n",
    "# if rowlist[i][i] ̸= 0 for i = 0,1,...,n − 1 then the solution found by triangular_solve_n(rowlist, b) \n",
    "# is the only solution to the system.\n",
    "\n",
    "# Proposition 2.11.6: For a length-n list rowlist of n-vector, if rowlist[i][i] = 0 for some integer i \n",
    "# then there is a vector b for which the triangular system has no solution."
   ]
  },
  {
   "cell_type": "code",
   "execution_count": 55,
   "metadata": {},
   "outputs": [
    {
     "data": {
      "text/plain": [
       "Vec[f={'d': -4.0, 'c': 1.4, 'b': 1.9000000000000004, 'a': 3.2750000000000004}, D=('c', 'b', 'd', 'a')]"
      ]
     },
     "execution_count": 55,
     "metadata": {},
     "output_type": "execute_result"
    }
   ],
   "source": [
    "# Extend the solver to other domain, (F^n -> F^D)\n",
    "\n",
    "def triangular_solve(row_list, label_list, b):\n",
    "    D = row_list[0].D\n",
    "    x = row_list[0].zeroes)\n",
    "    for j in reversed(range(len(D))):\n",
    "        c = label_list[j]\n",
    "        row = row_list[j]\n",
    "        x[c] = (b[j] - x * row) / row[c]\n",
    "    return x\n",
    "\n",
    "label_list = ['a','b','c','d']\n",
    "D = set(label_list)\n",
    "rowlist=[Vec(D,{'a':4, 'b':-2,'c':0.5,'d':1}), Vec(D,{'b':2,'c':3,'d':3}),\n",
    "               Vec(D,{'c':5, 'd':1}), Vec(D,{'d':2.})]\n",
    "b = [6, -4, 3, -8]\n",
    "triangular_solve(rowlist, label_list, b)"
   ]
  }
 ],
 "metadata": {
  "kernelspec": {
   "display_name": "base",
   "language": "python",
   "name": "python3"
  },
  "language_info": {
   "codemirror_mode": {
    "name": "ipython",
    "version": 3
   },
   "file_extension": ".py",
   "mimetype": "text/x-python",
   "name": "python",
   "nbconvert_exporter": "python",
   "pygments_lexer": "ipython3",
   "version": "3.10.8"
  },
  "orig_nbformat": 4
 },
 "nbformat": 4,
 "nbformat_minor": 2
}
