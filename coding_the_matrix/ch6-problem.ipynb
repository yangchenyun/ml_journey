{
 "cells": [
  {
   "cell_type": "code",
   "execution_count": 15,
   "metadata": {},
   "outputs": [
    {
     "name": "stdout",
     "output_type": "stream",
     "text": [
      "inject:  \n",
      " 0 1 2\n",
      "------\n",
      " 1 0 0\n",
      "eject:  \n",
      " 0 1 2\n",
      "------\n",
      " 1 0 3\n",
      "inject:  \n",
      " 0 1 2\n",
      "------\n",
      " 0 1 0\n",
      "eject:  \n",
      " 0 1 2\n",
      "------\n",
      " 0 4 4\n",
      "inject:  \n",
      " 0 1 2\n",
      "------\n",
      " 0 0 1\n",
      "eject:  \n",
      " 0 1 2\n",
      "------\n",
      " 2 4 0\n"
     ]
    }
   ],
   "source": [
    "# Problem 6.7.4\n",
    "from book.vecutil import list2vec\n",
    "from book.vec import Vec\n",
    "from ch5_problem import exchange\n",
    "\n",
    "def round_value_vec(v):\n",
    "  \"\"\"Round the values of a vector.\"\"\"\n",
    "  return Vec(v.D, {d: round(v[d]) for d in v.f.keys()})\n",
    "\n",
    "def morph(S, B):\n",
    "    \"\"\"\n",
    "    input, span S = span B\n",
    "    output, T which\n",
    "      - T include B\n",
    "      - span T = span S\n",
    "      - |T| = |S| \"\"\"\n",
    "    T = set(S)\n",
    "    B_in_T = []\n",
    "\n",
    "    for Bi in B:\n",
    "        if Bi in T:\n",
    "            B_in_T.append(Bi)\n",
    "            continue\n",
    "\n",
    "        injected = Bi\n",
    "        ejected = exchange(list(T), B_in_T, injected)\n",
    "        # NOTE: A hack to work around float numbers\n",
    "        ejected = round_value_vec(ejected)\n",
    "        T.add(inject)\n",
    "        T.remove(ejected)\n",
    "        B_in_T.append(Bi)\n",
    "        yield injected, ejected\n",
    "    \n",
    "    \n",
    "S = [list2vec(v) for v in [[2,4,0],[1,0,3],[0,4,4],[1,1,1]]]\n",
    "B = [list2vec(v) for v in [[1,0,0],[0,1,0],[0,0,1]]]\n",
    "inject = B[0]\n",
    "\n",
    "for (z,w) in morph(S, B):\n",
    "    print('inject: ', z)\n",
    "    print('eject: ', w)"
   ]
  },
  {
   "cell_type": "code",
   "execution_count": 25,
   "metadata": {},
   "outputs": [
    {
     "data": {
      "text/plain": [
       "[False, True, True, True, True]"
      ]
     },
     "execution_count": 25,
     "metadata": {},
     "output_type": "execute_result"
    }
   ],
   "source": [
    "# Problem 6.7.6\n",
    "from ch5_problem import accept_list\n",
    "from book.GF2 import one\n",
    "from book.independence import rank\n",
    "\n",
    "@accept_list\n",
    "def my_is_independent(L):\n",
    "    return rank(L) == len(L)\n",
    "\n",
    "[\n",
    "    my_is_independent([[2, 4, 0], [8, 16, 4], [0, 0, 7]]),\n",
    "    my_is_independent([[2, 4, 0], [8, 16, 4]]),\n",
    "    # Test cases\n",
    "    my_is_independent([[1, 3, 0, 0], [2, 1, 1, 0], [0, 0, 1, 0], [1, 1, 4, -1]]),\n",
    "    my_is_independent([[one, 0, one, 0], [0, one, 0, 0], [one, one, one, one], [one, 0, 0, one]]),\n",
    "]"
   ]
  },
  {
   "cell_type": "code",
   "execution_count": 32,
   "metadata": {},
   "outputs": [
    {
     "data": {
      "text/plain": [
       "[2, 4, 4]"
      ]
     },
     "execution_count": 32,
     "metadata": {},
     "output_type": "execute_result"
    }
   ],
   "source": [
    "# Problem 6.7.7\n",
    "from ch5_problem import subset_basis\n",
    "\n",
    "@accept_list\n",
    "def my_rank(L):\n",
    "    return len(subset_basis(L))\n",
    "\n",
    "[\n",
    "    my_rank([[1,2,3],[4,5,6],[1.1,1.1,1.1]]),\n",
    "    my_rank([[1, 3, 0, 0], [2, 1, 1, 0], [0, 0, 1, 0], [1, 1, 4, -1]]),\n",
    "    my_rank([[one, 0, one, 0], [0, one, 0, 0], [one, one, one, one], [one, 0, 0, one]]),\n",
    "]"
   ]
  },
  {
   "cell_type": "code",
   "execution_count": 72,
   "metadata": {},
   "outputs": [
    {
     "data": {
      "text/plain": [
       "[[(Vec({0, 1, 2},{0: -216.0, 1: -8.0, 2: 174.0}),\n",
       "   Vec({0, 1},{0: 0.0, 1: -0.0})),\n",
       "  (Vec({0, 1, 2},{0: 0.0, 1: 0.0, 2: 0.0}),\n",
       "   Vec({0, 1},{0: -66.00000000000003, 1: 31.000000000000014})),\n",
       "  (Vec({0, 1, 2},{0: -80.00000000000001, 1: -3.0, 2: 64.66666666666667}),\n",
       "   Vec({0, 1},{0: 15.000000000000009, 1: -7.0000000000000036})),\n",
       "  (Vec({0, 1, 2},{0: -246.0, 1: -10.0, 2: 198.66666666666666}),\n",
       "   Vec({0, 1},{0: 67.00000000000003, 1: -31.000000000000014}))],\n",
       " [(Vec({0, 1, 2},{0: 0, 1: 0, 2: 0}), Vec({0},{0: 0})),\n",
       "  (Vec({0, 1, 2},{0: one, 1: one, 2: one}), Vec({0},{0: 0})),\n",
       "  (Vec({0, 1, 2},{0: one, 1: one, 2: 0}), Vec({0},{0: one}))]]"
      ]
     },
     "execution_count": 72,
     "metadata": {},
     "output_type": "execute_result"
    }
   ],
   "source": [
    "import solve\n",
    "from book.independence import is_independent\n",
    "from book.independence import rank\n",
    "from ch5_problem import vec2rep\n",
    "from book.matutil import coldict2mat\n",
    "\n",
    "# Problem 6.7.11\n",
    "@accept_list\n",
    "def direct_sum_decompose(U_basis, V_basis, w):\n",
    "    assert is_independent(U_basis)\n",
    "    assert is_independent(V_basis)\n",
    "    assert rank(U_basis + V_basis) == rank(U_basis) + rank(V_basis)\n",
    "\n",
    "    u_len = len(U_basis) \n",
    "\n",
    "    w_rep = vec2rep(U_basis + V_basis, w)\n",
    "    w_list = [w_rep[d] for d in w_rep.D]\n",
    "    u = list2vec(w_list[:u_len])\n",
    "    v = list2vec(w_list[u_len:])\n",
    "\n",
    "    # Assert the decomposition is correct\n",
    "    assert (coldict2mat(U_basis) * u + coldict2mat(V_basis) * v) == w\n",
    "\n",
    "    return u, v\n",
    "\n",
    "[\n",
    "\n",
    "    [\n",
    "        direct_sum_decompose(\n",
    "            [[2, 1, 0, 0, 6, 0], [11, 5, 0, 0, 1, 0], [3, 1.5, 0, 0, 7.5, 0]],\n",
    "            [[0, 0, 7, 0, 0, 1], [0, 0, 15, 0, 0, 2]],\n",
    "            w\n",
    "        ) for w in [\n",
    "            [2, 5, 0, 0, 1, 0],\n",
    "            [0, 0, 3, 0, 0, -4],\n",
    "            [1, 2, 0, 0, 2, 1],\n",
    "            [-6, 2, 4, 0, 4, 5]\n",
    "        ]\n",
    "    ],\n",
    "\n",
    "    [\n",
    "        direct_sum_decompose(\n",
    "            [[one, one, 0, one, 0, one], [\n",
    "                one, one, 0, 0, 0, one], [one, 0, 0, 0, 0, 0]],\n",
    "            [[one, one, one, 0, one, one]],\n",
    "            w\n",
    "        ) for w in [\n",
    "            [0, 0, 0, 0, 0, 0],\n",
    "            [one, 0, 0, one, 0, 0],\n",
    "            [one, one, one, one, one, one],\n",
    "        ]\n",
    "    ]\n",
    "]\n"
   ]
  },
  {
   "cell_type": "code",
   "execution_count": 108,
   "metadata": {},
   "outputs": [
    {
     "data": {
      "text/plain": [
       "[False, True, False, True, True, False, True]"
      ]
     },
     "execution_count": 108,
     "metadata": {},
     "output_type": "execute_result"
    }
   ],
   "source": [
    "from book.matutil import mat2coldict, mat2rowdict, listlist2mat, rowdict2mat, coldict2mat\n",
    "# problem 6.7.12\n",
    "def is_invertible(M):\n",
    "    \"\"\"Use the n = nullA + rank A theorem to check if a matrix is invertible.\n",
    "    NullA + rankA = n\n",
    "    |C| == |R|\n",
    "    rank(C) == size(C)\n",
    "    \"\"\"\n",
    "    rows = mat2rowdict(M)\n",
    "    row_n = len(rows)\n",
    "    cols = mat2coldict(M)\n",
    "    col_n = len(cols)\n",
    "    return row_n == col_n and row_n == rank(list(rows.values()))\n",
    "\n",
    "[\n",
    "    is_invertible(listlist2mat([[1, 2, 3], [3, 1, 1]])),\n",
    "    is_invertible(listlist2mat([[1, 0, 1, 0], [0, 2, 1, 0], [0, 0, 3, 1], [0, 0, 0, 4]])),\n",
    "    is_invertible(listlist2mat([[1, 0], [0, 1], [2, 1]])),\n",
    "    is_invertible(listlist2mat([[1, 0], [0, 1]])),\n",
    "    is_invertible(listlist2mat([[1, 0, 1], [0, 1, 1], [1, 1, 0]])),\n",
    "    is_invertible(listlist2mat([[one, 0, one], [0, one, one], [one, one, 0]])),\n",
    "    is_invertible(listlist2mat([[one, one], [0, one]])),\n",
    "]"
   ]
  },
  {
   "cell_type": "code",
   "execution_count": 109,
   "metadata": {},
   "outputs": [
    {
     "data": {
      "text/plain": [
       "[Mat(({0, 1, 2}, {0, 1, 2}), {(0, 0): 0, (1, 0): one, (2, 0): 0, (0, 1): one, (1, 1): 0, (2, 1): 0, (0, 2): 0, (1, 2): 0, (2, 2): one}),\n",
       " Mat(({0, 1, 2, 3}, {0, 1, 2, 3}), {(0, 0): one, (1, 0): one, (2, 0): 0, (3, 0): one, (0, 1): 0, (1, 1): one, (2, 1): 0, (3, 1): one, (0, 2): one, (1, 2): one, (2, 2): 0, (3, 2): 0, (0, 3): one, (1, 3): 0, (2, 3): one, (3, 3): 0})]"
      ]
     },
     "execution_count": 109,
     "metadata": {},
     "output_type": "execute_result"
    }
   ],
   "source": [
    "from book.matutil import identity\n",
    "\n",
    "# Problem 6.7.13\n",
    "def find_matrix_inverse(A):\n",
    "    assert A.D[0] == A.D[1] # square matrix\n",
    "\n",
    "    I = identity(A.D[0], one) # only works with GF2 field\n",
    "    I_cols = mat2coldict(I)\n",
    "    A_inv_cols = [solve.solve(A, I_cols[col]) for col in I_cols]\n",
    "    A_inv = coldict2mat(A_inv_cols)\n",
    "\n",
    "    assert A*A_inv == I\n",
    "    assert A_inv*A ==  I\n",
    "\n",
    "    return A_inv\n",
    "\n",
    "[\n",
    "    find_matrix_inverse(listlist2mat([[0, one, 0], [one, 0, 0], [0, 0, one]])),\n",
    "    find_matrix_inverse(listlist2mat([[one, one, one, one], [one, one, one, 0], [0, one, 0, one], [0, 0, one, 0]])),\n",
    "]"
   ]
  },
  {
   "cell_type": "code",
   "execution_count": 117,
   "metadata": {},
   "outputs": [
    {
     "data": {
      "text/plain": [
       "[Mat(({0, 1, 2, 3}, {0, 1, 2, 3}), {(0, 0): 1.0, (1, 0): 0.0, (2, 0): 0.0, (3, 0): 0.0, (0, 1): -0.5, (1, 1): 1.0, (2, 1): 0.0, (3, 1): 0.0, (0, 2): -0.05000000000000002, (1, 2): -0.3, (2, 2): 1.0, (3, 2): 0.0, (0, 3): -3.545, (1, 3): -0.87, (2, 3): -0.1, (3, 3): 1.0})]"
      ]
     },
     "execution_count": 117,
     "metadata": {},
     "output_type": "execute_result"
    }
   ],
   "source": [
    "from book.triangular import triangular_solve\n",
    "\n",
    "# def triangular_solve(rowlist, label_list, b):\n",
    "# problem 6.7.14\n",
    "def find_triangular_matrix_inverse(A):\n",
    "    rows = mat2rowdict(A)\n",
    "    I = identity(A.D[0], 1)\n",
    "    I_cols = mat2coldict(I)\n",
    "\n",
    "    # Use the dot-product form\n",
    "    # A * [inv_c1, inv_c2] = [I_c1, I_c2, ...]\n",
    "    A_inv_cols = [triangular_solve(list(rows.values()), list(rows.keys()), I_cols[col]) for col in I_cols]\n",
    "    A_inv = coldict2mat(A_inv_cols)\n",
    "\n",
    "    assert A*A_inv == I\n",
    "    assert A_inv*A ==  I\n",
    "\n",
    "    return A_inv\n",
    "\n",
    "A = listlist2mat([[1, .5, .2, 4],[0, 1, .3, .9],[0,0,1,.1],[0,0,0,1]])\n",
    "[\n",
    "    find_triangular_matrix_inverse(A),\n",
    "]"
   ]
  }
 ],
 "metadata": {
  "kernelspec": {
   "display_name": "base",
   "language": "python",
   "name": "python3"
  },
  "language_info": {
   "codemirror_mode": {
    "name": "ipython",
    "version": 3
   },
   "file_extension": ".py",
   "mimetype": "text/x-python",
   "name": "python",
   "nbconvert_exporter": "python",
   "pygments_lexer": "ipython3",
   "version": "3.10.8"
  },
  "orig_nbformat": 4
 },
 "nbformat": 4,
 "nbformat_minor": 2
}
