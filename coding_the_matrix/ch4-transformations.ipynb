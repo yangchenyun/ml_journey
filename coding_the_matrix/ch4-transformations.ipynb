{
 "cells": [
  {
   "cell_type": "code",
   "execution_count": 51,
   "metadata": {},
   "outputs": [],
   "source": [
    "from book.mat import Mat\n",
    "from book.vec import Vec\n",
    "from book.vecutil import list2vec\n",
    "from book.matutil import *\n",
    "\n",
    "import numpy as np\n",
    "import matplotlib.pyplot as plt"
   ]
  },
  {
   "cell_type": "code",
   "execution_count": 52,
   "metadata": {},
   "outputs": [
    {
     "name": "stderr",
     "output_type": "stream",
     "text": [
      "Clipping input data to the valid range for imshow with RGB data ([0..1] for floats or [0..255] for integers).\n"
     ]
    },
    {
     "data": {
      "image/png": "[encoded data removed]",
      "text/plain": [
       "<Figure size 640x480 with 1 Axes>"
      ]
     },
     "metadata": {},
     "output_type": "display_data"
    }
   ],
   "source": [
    "img_arr = np.ones((10, 10, 3), dtype=int)\n",
    "\n",
    "for index in np.ndindex(img_arr.shape[:2]):\n",
    "    img_arr[index] = np.append(index, 100) * 25\n",
    "\n",
    "# Display the image using Matplotlib\n",
    "plt.imshow(img_arr)\n",
    "plt.show()"
   ]
  },
  {
   "cell_type": "code",
   "execution_count": 63,
   "metadata": {},
   "outputs": [],
   "source": [
    "# homogeneous coordinates, (x, y, u) \n",
    "# \"texel\" (short for texture element) \n",
    "# Define generalized image, each pixel is a quadrilateral\n",
    "# A generalized pixel would be defined by its corners, which are called pixel coordinates\n",
    "# The mapping of corners to points in the plane is given by location matrix\n",
    "# The mapping of pixels to color, is using the top-left pixel coordinate\n",
    "\n",
    "# from PIL import Image\n",
    "# webp_image = Image.open('model.jpeg')\n",
    "# png_image = webp_image.convert('RGBA')\n",
    "# png_image.save('model.png', format='PNG')\n",
    "\n",
    "from book.image_mat_util import *\n",
    "zebra_img = file2mat(\"zebra.png\")\n",
    "model_img = file2mat(\"model.png\")"
   ]
  },
  {
   "cell_type": "code",
   "execution_count": 56,
   "metadata": {},
   "outputs": [
    {
     "name": "stdout",
     "output_type": "stream",
     "text": [
      "Hit Enter once the image is displayed.... "
     ]
    }
   ],
   "source": [
    "mat2display(*zebra_img)"
   ]
  },
  {
   "cell_type": "code",
   "execution_count": 131,
   "metadata": {},
   "outputs": [],
   "source": [
    "import random\n",
    "\n",
    "# Task 4.15.2\n",
    "def identity():\n",
    "    D = {'x', 'y', 'u'}\n",
    "    return Mat((D, D), {(r, c): 1 for r in D for c in D if r == c})\n",
    "\n",
    "I = identity()\n",
    "\n",
    "def apply_loc(img_loc_m, transform, rand=False):\n",
    "    loc_cols = mat2coldict(img_loc_m)\n",
    "    for k in loc_cols:\n",
    "        if rand:\n",
    "            if random.uniform(0, 1) > 0.5:\n",
    "                loc_cols[k] = transform * loc_cols[k]\n",
    "        else:\n",
    "            loc_cols[k] = transform * loc_cols[k]\n",
    "        \n",
    "    return coldict2mat(loc_cols)\n",
    "\n",
    "# mat2display(apply_loc(model_img[0], I, rand=True), model_img[1])"
   ]
  },
  {
   "cell_type": "code",
   "execution_count": 151,
   "metadata": {},
   "outputs": [
    {
     "name": "stdout",
     "output_type": "stream",
     "text": [
      "Hit Enter once the image is displayed.... "
     ]
    }
   ],
   "source": [
    "# 4.15.6 Translation\n",
    "# 2D: [[1+alpha, 0], [0, 1+beta]]\n",
    "# 3D: [[1+alpha, 0, 0], [0, 1+beta, 0], [0, 0, 1]]\n",
    "def translate(alpha, beta):\n",
    "    D = {'x', 'y', 'u'}\n",
    "    return I + Mat((D, D), {\n",
    "        ('x', 'u'): alpha,\n",
    "        ('y', 'u'): beta,\n",
    "        })\n",
    "\n",
    "T = translate(0, 100)\n",
    "# mat2display(apply_loc(zebra_img[0], T), zebra_img[1])"
   ]
  },
  {
   "cell_type": "code",
   "execution_count": 135,
   "metadata": {},
   "outputs": [
    {
     "name": "stdout",
     "output_type": "stream",
     "text": [
      "Hit Enter once the image is displayed.... "
     ]
    }
   ],
   "source": [
    "# 4.15.7 Scaling\n",
    "def scale(x, y):\n",
    "    D = {'x', 'y', 'u'}\n",
    "    return Mat((D, D), {\n",
    "        ('x', 'x'): x,\n",
    "        ('y', 'y'): y,\n",
    "        ('u', 'u'): 1})\n",
    "\n",
    "S = scale(4, 0.5)\n",
    "# mat2display(apply_loc(model_img[0], S), model_img[1])"
   ]
  },
  {
   "cell_type": "code",
   "execution_count": 140,
   "metadata": {},
   "outputs": [
    {
     "name": "stdout",
     "output_type": "stream",
     "text": [
      "Hit Enter once the image is displayed.... "
     ]
    }
   ],
   "source": [
    "# 4.15.8 Rotation\n",
    "# [[cos, -sin, 0], [sin, cos, 0], [0, 0, 1]]\n",
    "def rotate(theta):\n",
    "    D = {'x', 'y', 'u'}\n",
    "    return Mat((D, D), {\n",
    "        ('x', 'x'): math.cos(theta),\n",
    "        ('x', 'y'): -math.sin(theta),\n",
    "        ('x', 'u'): 0,\n",
    "        ('y', 'y'): math.cos(theta),\n",
    "        ('y', 'x'): math.sin(theta),\n",
    "        ('y', 'u'): 0,\n",
    "        ('u', 'u'): 1,\n",
    "        ('u', 'x'): 1,\n",
    "        ('u', 'y'): 1 })\n",
    "\n",
    "R = rotate(-math.pi/6)\n",
    "mat2display(apply_loc(zebra_img[0], R), zebra_img[1])"
   ]
  },
  {
   "cell_type": "code",
   "execution_count": 152,
   "metadata": {},
   "outputs": [
    {
     "name": "stdout",
     "output_type": "stream",
     "text": [
      "Hit Enter once the image is displayed.... "
     ]
    }
   ],
   "source": [
    "# 4.15.9 Rotation about a center other than the origin\n",
    "def rotate_about(theta, x, y):\n",
    "    return rotate(theta) * translate(x, y)\n",
    "\n",
    "RC = rotate_about(-math.pi/6, 0, 100)\n",
    "mat2display(apply_loc(zebra_img[0], RC), zebra_img[1])"
   ]
  },
  {
   "cell_type": "code",
   "execution_count": 160,
   "metadata": {},
   "outputs": [],
   "source": [
    "# 4.15.10 Reflection\n",
    "def reflect_x():\n",
    "    D = {'x', 'y', 'u'}\n",
    "    return Mat((D, D), {\n",
    "        ('x', 'x'): -1,\n",
    "        ('y', 'y'): 1,\n",
    "        ('u', 'u'): 1})\n",
    "\n",
    "def reflect_y():\n",
    "    D = {'x', 'y', 'u'}\n",
    "    return Mat((D, D), {\n",
    "        ('x', 'x'): 1,\n",
    "        ('y', 'y'): -1,\n",
    "        ('u', 'u'): 1})\n",
    "\n",
    "# mat2display(apply_loc(zebra_img[0], translate(200, 0)*reflect_x()), zebra_img[1])\n",
    "# mat2display(apply_loc(zebra_img[0], translate(0, 200)*reflect_y()), zebra_img[1])"
   ]
  },
  {
   "cell_type": "code",
   "execution_count": 172,
   "metadata": {},
   "outputs": [
    {
     "name": "stdout",
     "output_type": "stream",
     "text": [
      "Hit Enter once the image is displayed.... "
     ]
    }
   ],
   "source": [
    "# 4.15.11 Color transformations\n",
    "def scale_color(r, g, b):\n",
    "    D = {'r', 'g', 'b'}\n",
    "    return Mat((D, D), {\n",
    "        ('r', 'r'): r,\n",
    "        ('g', 'g'): g,\n",
    "        ('b', 'b'): b})\n",
    "\n",
    "CS = scale_color(5.0, 1.0, 1.0)\n",
    "mat2display(zebra_img[0], apply_loc(zebra_img[1], CS))"
   ]
  },
  {
   "cell_type": "code",
   "execution_count": 186,
   "metadata": {},
   "outputs": [
    {
     "name": "stdout",
     "output_type": "stream",
     "text": [
      "Hit Enter once the image is displayed.... "
     ]
    }
   ],
   "source": [
    "# Task 4.15.10:\n",
    "def grayscale(): \n",
    "    D = {'r', 'g', 'b'}\n",
    "    v = Vec(D, {'r': 77.0/256, 'g': 151.0/256, 'b': 28.0/256})\n",
    "    return rowdict2mat({ 'r': v, 'g': v, 'b': v, })\n",
    "\n",
    "# grayscale()\n",
    "mat2display(model_img[0], apply_loc(model_img[1], grayscale()))"
   ]
  },
  {
   "cell_type": "code",
   "execution_count": null,
   "metadata": {},
   "outputs": [],
   "source": [
    "# Task 4.15.12 Reflection more generally\n",
    "# ???"
   ]
  }
 ],
 "metadata": {
  "kernelspec": {
   "display_name": "base",
   "language": "python",
   "name": "python3"
  },
  "language_info": {
   "codemirror_mode": {
    "name": "ipython",
    "version": 3
   },
   "file_extension": ".py",
   "mimetype": "text/x-python",
   "name": "python",
   "nbconvert_exporter": "python",
   "pygments_lexer": "ipython3",
   "version": "3.10.8"
  },
  "orig_nbformat": 4
 },
 "nbformat": 4,
 "nbformat_minor": 2
}
