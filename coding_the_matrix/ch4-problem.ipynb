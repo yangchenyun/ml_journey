{
 "cells": [
  {
   "cell_type": "code",
   "execution_count": 2,
   "metadata": {},
   "outputs": [],
   "source": [
    "from sympy import *\n",
    "from sympy.abc import *"
   ]
  },
  {
   "cell_type": "code",
   "execution_count": 3,
   "metadata": {},
   "outputs": [
    {
     "data": {
      "text/plain": [
       "[Matrix([\n",
       " [1.0],\n",
       " [  0]]),\n",
       " Matrix([\n",
       " [   0],\n",
       " [4.44]]),\n",
       " Matrix([\n",
       " [14],\n",
       " [20],\n",
       " [26]])]"
      ]
     },
     "execution_count": 3,
     "metadata": {},
     "output_type": "execute_result"
    }
   ],
   "source": [
    "# 4.17.1\n",
    "[\n",
    "    Matrix(2, 2, [1, 1, 1, -1]) * Matrix([[0.5, 0.5]]).transpose(),\n",
    "    Matrix(2, 2, [0, 0, 0, 1]) * Matrix([[1.2, 4.44]]).transpose(),\n",
    "    Matrix(3, 3, [1, 2, 3, 2, 3, 4, 3, 4 ,5]) * Matrix([[1, 2, 3]]).transpose(),\n",
    "]"
   ]
  },
  {
   "cell_type": "code",
   "execution_count": 4,
   "metadata": {},
   "outputs": [
    {
     "data": {
      "text/latex": [
       "$\\displaystyle \\left[\\begin{matrix}y\\\\x\\end{matrix}\\right]$"
      ],
      "text/plain": [
       "Matrix([\n",
       "[y],\n",
       "[x]])"
      ]
     },
     "execution_count": 4,
     "metadata": {},
     "output_type": "execute_result"
    }
   ],
   "source": [
    "# 4.17.2\n",
    "Matrix(2, 2, [0, 1, 1 ,0]) * Matrix([[x, y]]).transpose()"
   ]
  },
  {
   "cell_type": "code",
   "execution_count": 5,
   "metadata": {},
   "outputs": [
    {
     "data": {
      "text/latex": [
       "$\\displaystyle \\left[\\begin{matrix}x + z\\\\y\\\\x\\end{matrix}\\right]$"
      ],
      "text/plain": [
       "Matrix([\n",
       "[x + z],\n",
       "[    y],\n",
       "[    x]])"
      ]
     },
     "execution_count": 5,
     "metadata": {},
     "output_type": "execute_result"
    }
   ],
   "source": [
    "# 4.17.3\n",
    "Matrix(3, 3, [1, 0, 1, 0, 1, 0, 1, 0, 0]) * Matrix([[x, y, z]]).transpose()"
   ]
  },
  {
   "cell_type": "code",
   "execution_count": 6,
   "metadata": {},
   "outputs": [
    {
     "data": {
      "text/latex": [
       "$\\displaystyle \\left[\\begin{matrix}2 x\\\\4 y\\\\3 z\\end{matrix}\\right]$"
      ],
      "text/plain": [
       "Matrix([\n",
       "[2*x],\n",
       "[4*y],\n",
       "[3*z]])"
      ]
     },
     "execution_count": 6,
     "metadata": {},
     "output_type": "execute_result"
    }
   ],
   "source": [
    "# 4.17.4\n",
    "Matrix(3, 3, [2, 0, 0, 0, 4, 0, 0, 0, 3]) * Matrix([[x, y, z]]).transpose()"
   ]
  },
  {
   "cell_type": "code",
   "execution_count": 7,
   "metadata": {},
   "outputs": [
    {
     "data": {
      "text/plain": [
       "[Matrix([\n",
       " [8, 13],\n",
       " [8, 14]]),\n",
       " Matrix([\n",
       " [24, 11, 4],\n",
       " [ 1,  3, 0]]),\n",
       " Matrix([[3, 13]]),\n",
       " Matrix([[14]]),\n",
       " Matrix([\n",
       " [1, 2, 3],\n",
       " [2, 4, 6],\n",
       " [3, 6, 9]]),\n",
       " Matrix([\n",
       " [-2,  4],\n",
       " [ 1,  1],\n",
       " [ 1, -3]])]"
      ]
     },
     "execution_count": 7,
     "metadata": {},
     "output_type": "execute_result"
    }
   ],
   "source": [
    "# 4.17.6\n",
    "[\n",
    "    Matrix(2, 2, [2, 3, 4, 2]) * Matrix(2, 2, [1, 2, 2, 3]),\n",
    "    Matrix(2, 3, [2, 4, 1, 3, 0, -1]) * Matrix(3, 3, [1, 2, 0, 5, 1, 1, 2, 3, 0]),\n",
    "    Matrix([[2, 2, 1]]) * Matrix(3, 2, [3, 1, -2, 6, 1, -1]),\n",
    "    Matrix([[1, 2, 3]]) *  Matrix([[1, 2, 3]]).transpose(),\n",
    "    Matrix([[1, 2, 3]]).transpose() * Matrix([[1, 2, 3]]),\n",
    "    Matrix(2, 3, [4, 1, -3, 2, 2, -2]).transpose() * Matrix(2, 2, [-1, 1, 1, 0]),\n",
    "]"
   ]
  },
  {
   "cell_type": "code",
   "execution_count": 8,
   "metadata": {},
   "outputs": [
    {
     "data": {
      "text/plain": [
       "[Matrix([\n",
       " [1, a + b],\n",
       " [0,     1]]),\n",
       " Matrix([\n",
       " [1, a*k],\n",
       " [0,   1]])]"
      ]
     },
     "execution_count": 8,
     "metadata": {},
     "output_type": "execute_result"
    }
   ],
   "source": [
    "# 4.17.7, all row swaps \n",
    "# 4.17.8\n",
    "[\n",
    "    Matrix(2, 2, [1, a, 0, 1]) * Matrix(2, 2, [1, b, 0, 1]),\n",
    "    Matrix(2, 2, [1, a, 0, 1]) ** k,\n",
    "]"
   ]
  },
  {
   "cell_type": "code",
   "execution_count": 9,
   "metadata": {},
   "outputs": [
    {
     "data": {
      "text/plain": [
       "(Matrix([\n",
       " [0, 0, 0, 0],\n",
       " [0, 0, 1, 0],\n",
       " [0, 0, 0, 0],\n",
       " [0, 0, 0, 0]]),\n",
       " Matrix([\n",
       " [0, 0, 2, 0],\n",
       " [0, 0, 5, 0],\n",
       " [0, 0, 4, 0],\n",
       " [0, 0, 6, 0]]),\n",
       " Matrix([\n",
       " [0, 0, 0, 0],\n",
       " [4, 4, 4, 0],\n",
       " [0, 0, 0, 0],\n",
       " [0, 0, 0, 0]]))"
      ]
     },
     "metadata": {},
     "output_type": "display_data"
    },
    {
     "data": {
      "text/plain": [
       "(Matrix([\n",
       " [0, 0, 0, 0],\n",
       " [0, 1, 0, 0],\n",
       " [0, 0, 0, 0],\n",
       " [0, 0, 1, 0]]),\n",
       " Matrix([\n",
       " [0, 2, -1, 0],\n",
       " [0, 5,  3, 0],\n",
       " [0, 4,  0, 0],\n",
       " [0, 6, -5, 0]]),\n",
       " Matrix([\n",
       " [0, 0,  0, 0],\n",
       " [1, 5, -2, 3],\n",
       " [0, 0,  0, 0],\n",
       " [4, 4,  4, 0]]))"
      ]
     },
     "metadata": {},
     "output_type": "display_data"
    },
    {
     "data": {
      "text/plain": [
       "(Matrix([\n",
       " [1, 0, 0, 0],\n",
       " [1, 0, 0, 0],\n",
       " [0, 0, 0, 0],\n",
       " [0, 0, 0, 0]]),\n",
       " Matrix([\n",
       " [6, 0, 0, 0],\n",
       " [6, 0, 0, 0],\n",
       " [8, 0, 0, 0],\n",
       " [5, 0, 0, 0]]),\n",
       " Matrix([\n",
       " [4, 2, 1, -1],\n",
       " [4, 2, 1, -1],\n",
       " [0, 0, 0,  0],\n",
       " [0, 0, 0,  0]]))"
      ]
     },
     "metadata": {},
     "output_type": "display_data"
    },
    {
     "data": {
      "text/plain": [
       "(Matrix([\n",
       " [0, 1, 0, 1],\n",
       " [0, 0, 0, 0],\n",
       " [0, 0, 0, 0],\n",
       " [0, 1, 0, 0]]),\n",
       " Matrix([\n",
       " [0,  3, 0,  4],\n",
       " [0,  4, 0,  1],\n",
       " [0,  4, 0,  4],\n",
       " [0, -6, 0, -1]]),\n",
       " Matrix([\n",
       " [0, 11,  0, -2],\n",
       " [0,  0,  0,  0],\n",
       " [0,  0,  0,  0],\n",
       " [1,  5, -2,  3]]))"
      ]
     },
     "metadata": {},
     "output_type": "display_data"
    },
    {
     "data": {
      "text/plain": [
       "(Matrix([\n",
       " [0,  0, 0, 2],\n",
       " [0,  0, 0, 0],\n",
       " [0,  0, 0, 0],\n",
       " [0, -3, 0, 0]]),\n",
       " Matrix([\n",
       " [0,  3, 0,  8],\n",
       " [0, -9, 0,  2],\n",
       " [0,  0, 0,  8],\n",
       " [0, 15, 0, -2]]),\n",
       " Matrix([\n",
       " [-2,  12, 4, -10],\n",
       " [ 0,   0, 0,   0],\n",
       " [ 0,   0, 0,   0],\n",
       " [-3, -15, 6,  -9]]))"
      ]
     },
     "metadata": {},
     "output_type": "display_data"
    },
    {
     "data": {
      "text/plain": [
       "(Matrix([\n",
       " [-1, 0, 0, 0],\n",
       " [ 0, 2, 0, 0],\n",
       " [ 0, 0, 2, 0],\n",
       " [ 0, 0, 0, 3]]),\n",
       " Matrix([\n",
       " [-4,  4,  2,  -3],\n",
       " [-1, 10, -4,   9],\n",
       " [-4,  8,  8,   0],\n",
       " [ 1, 12,  4, -15]]),\n",
       " Matrix([\n",
       " [-4, -2, -1,   1],\n",
       " [ 2, 10, -4,   6],\n",
       " [ 8,  8,  8,   0],\n",
       " [-3, 18,  6, -15]]))"
      ]
     },
     "metadata": {},
     "output_type": "display_data"
    },
    {
     "data": {
      "text/plain": [
       "[None, None, None, None, None, None]"
      ]
     },
     "execution_count": 9,
     "metadata": {},
     "output_type": "execute_result"
    }
   ],
   "source": [
    "# Use matrix-vector/vector-matrix, is a good trick to manually compute sparse matrix\n",
    "\n",
    "A = Matrix(4, 4, [4, 2, 1, -1, 1, 5, -2, 3, 4, 4, 4, 0, -1, 6, 2, -5])\n",
    "Ma = Matrix.zeros(4, 4); Ma[1, 2] = 1\n",
    "Mb = Matrix.zeros(4, 4); Mb[1, 1] = 1; Mb[3, 2] = 1\n",
    "Mc = Matrix.zeros(4, 4); Mc[0, 0] = 1; Mc[1, 0] = 1\n",
    "Md = Matrix.zeros(4, 4); Md[0, 1] = 1; Md[0, 3] = 1; Md[3, 1] = 1\n",
    "Me = Matrix.zeros(4, 4); Me[0, 3] = 2; Me[3, 1] = -3\n",
    "Mf = Matrix.zeros(4, 4); Mf[0, 0] = -1; Mf[1, 1] = 2; Mf[2, 2] = 2; Mf[3, 3] = 3\n",
    "\n",
    "[display(e) for e in \n",
    "    zip(\n",
    "    [Ma, Mb, Mc, Md, Me, Mf],\n",
    "    [A * Ma, A * Mb, A * Mc, A * Md, A * Me, A * Mf],\n",
    "    [Ma * A, Mb * A, Mc * A, Md * A, Me * A, Mf * A],\n",
    ")]\n"
   ]
  },
  {
   "cell_type": "code",
   "execution_count": 10,
   "metadata": {},
   "outputs": [
    {
     "data": {
      "text/plain": [
       "Vec({0, 1, 2},{0: 1, 1: 5, 2: 6})"
      ]
     },
     "execution_count": 10,
     "metadata": {},
     "output_type": "execute_result"
    }
   ],
   "source": [
    "from book.mat import Mat\n",
    "from book.matutil import *\n",
    "from book.vecutil import *\n",
    "\n",
    "# Matrix-vector and vector-matrix multiplication definitions\n",
    "\n",
    "def lin_comb_mat_vec_mult(M,v):\n",
    "    cols = mat2coldict(M)\n",
    "    return sum([v[i] * cols[i] for i in cols])\n",
    "\n",
    "m1 = listlist2mat([[-1, 1, 2], [1, 2, 3], [2, 2, 1]])\n",
    "v1 = list2vec([1, 2, 0])\n",
    "\n",
    "lin_comb_mat_vec_mult(m1,v1)"
   ]
  },
  {
   "cell_type": "code",
   "execution_count": 11,
   "metadata": {},
   "outputs": [
    {
     "data": {
      "text/plain": [
       "Vec({0, 1},{0: -40, 1: 80})"
      ]
     },
     "execution_count": 11,
     "metadata": {},
     "output_type": "execute_result"
    }
   ],
   "source": [
    "def lin_comb_vec_mat_mult(M,v):\n",
    "    rows = mat2rowdict(M)\n",
    "    return sum([v[i] * rows[i] for i in rows])\n",
    "\n",
    "m2 = listlist2mat([[-5, 10], [-4, 8], [-3, 6], [-2, 4]])\n",
    "v2 = list2vec([4, 3, 2, 1])\n",
    "\n",
    "lin_comb_vec_mat_mult(m2, v2)"
   ]
  },
  {
   "cell_type": "code",
   "execution_count": 12,
   "metadata": {},
   "outputs": [
    {
     "data": {
      "text/plain": [
       "Vec({0, 1, 2},{0: 1, 1: 5, 2: 6})"
      ]
     },
     "execution_count": 12,
     "metadata": {},
     "output_type": "execute_result"
    }
   ],
   "source": [
    "def dot_product_mat_vec_mult(M,v):\n",
    "    rows = mat2rowdict(M)\n",
    "    return list2vec([v * rows[i] for i in rows])\n",
    "\n",
    "dot_product_mat_vec_mult(m1,v1)"
   ]
  },
  {
   "cell_type": "code",
   "execution_count": 13,
   "metadata": {},
   "outputs": [
    {
     "data": {
      "text/plain": [
       "Vec({0, 1},{0: -40, 1: 80})"
      ]
     },
     "execution_count": 13,
     "metadata": {},
     "output_type": "execute_result"
    }
   ],
   "source": [
    "def dot_product_vec_mat_mult(M,v):\n",
    "    cols = mat2coldict(M)\n",
    "    return list2vec([v * cols[i] for i in cols])\n",
    "\n",
    "dot_product_vec_mat_mult(m2,v2)"
   ]
  },
  {
   "cell_type": "code",
   "execution_count": 14,
   "metadata": {},
   "outputs": [],
   "source": [
    "def Mv_mat_mat_mult(A, B):\n",
    "    cols = mat2coldict(B)\n",
    "    return coldict2mat({i: A * cols[i] for i in cols})\n",
    "    \n",
    "def vM_mat_mat_mult(A, B):\n",
    "    rows = mat2rowdict(A)\n",
    "    return rowdict2mat({i: rows[i] * B for i in rows})\n",
    "\n",
    "assert Mv_mat_mat_mult(m1, m1) == m1 * m1\n",
    "assert Mv_mat_mat_mult(m1, m1) == vM_mat_mat_mult(m1, m1)"
   ]
  },
  {
   "cell_type": "code",
   "execution_count": 15,
   "metadata": {},
   "outputs": [],
   "source": [
    "# Dot products via matrix-matrix multiplication\n",
    "# A, column labels: countries, row labels: UN votes\n",
    "with open(\"./book/UN_voting_data.txt\") as f:\n",
    "    lines = f.read().strip().split(\"\\n\")\n",
    "\n",
    "    # The line consists of the country name, followed by 0, -1, 1 as votes\n",
    "    # parse the line into dictinoary where key is country, values is a list of votes\n",
    "\n",
    "votes = {line.split()[0]: list2vec([int(v) for v in line.split()[1:]]) for line in lines}\n",
    "A = coldict2mat(votes)\n",
    "M = A.transpose() * A"
   ]
  },
  {
   "cell_type": "code",
   "execution_count": 16,
   "metadata": {},
   "outputs": [
    {
     "name": "stdout",
     "output_type": "stream",
     "text": [
      "Greated aggrement:  ('Thailand', 'Philippines') 4229\n",
      "Most opposed:  ('Belarus', 'United_States_of_America') -1927\n",
      "[(-1927, ('Belarus', 'United_States_of_America')), (-1485, ('Afghanistan', 'United_States_of_America')), (12, ('Afghanistan', 'Kiribati')), (148, ('Afghanistan', 'Marshall_Islands')), (433, ('Afghanistan', 'France')), (480, ('Afghanistan', 'Georgia')), (1052, ('Afghanistan', 'Portugal')), (3569, ('Afghanistan', 'India'))]\n"
     ]
    }
   ],
   "source": [
    "# 1. Which pair of countries are most opposed? (They have the most negative dot-product.)\n",
    "# 2. What are the ten most opposed pairs of countries?\n",
    "# 3. Which pair of distinct countries are in the greatest agreement (have the most positive dot-product)?\n",
    "import heapq\n",
    "\n",
    "max = 0\n",
    "min = 2 ** 31 - 1\n",
    "most_opposed = None\n",
    "least_opposed = None\n",
    "\n",
    "least_opposed_list = []\n",
    "def top_n(heap, item, score, n):\n",
    "    \"\"\"Return the top n items from a list using a min heap.\"\"\"\n",
    "    if len(heap) < n:\n",
    "        heapq.heappush(heap, item)\n",
    "    else:\n",
    "        if score > heap[0]:\n",
    "            heapq.heapreplace(heap, item)\n",
    "\n",
    "for c1 in M.D[0]:\n",
    "    for c2 in M.D[1]:\n",
    "        if c1 == c2:\n",
    "            continue\n",
    "        if M[c1, c2] < min:\n",
    "            least_opposed = (c1, c2)\n",
    "            min = M[c1, c2] \n",
    "            top_n(least_opposed_list, (c1, c2), -M[c1, c2], 10)\n",
    "        if M[c1, c2] > max:\n",
    "            most_opposed = (c1, c2)\n",
    "            max = M[c1, c2] \n",
    "\n",
    "print(\"Greated aggrement: \", most_opposed, M[most_opposed[0], most_opposed[1]])\n",
    "print(\"Most opposed: \", least_opposed, M[least_opposed[0], least_opposed[1]])\n",
    "print(sorted([(M[p], p) for p in least_opposed_list]))"
   ]
  },
  {
   "cell_type": "code",
   "execution_count": 17,
   "metadata": {},
   "outputs": [],
   "source": [
    "# GPT-3 solution\n",
    "from itertools import combinations\n",
    "from typing import List, Tuple\n",
    "\n",
    "def calculate_correlations(data: List[str]) -> List[Tuple[str, str, float]]:\n",
    "    # Extract the votes from the data\n",
    "    votes = []\n",
    "    countries = []\n",
    "    for line in data:\n",
    "        parts = line.strip().split(' ')\n",
    "        country = parts[0]\n",
    "        votes.append(list(map(int, parts[1:])))\n",
    "        countries.append(country)\n",
    "\n",
    "    # Calculate correlations between countries' votes\n",
    "    correlations = []\n",
    "    for i, j in combinations(range(len(countries)), 2):\n",
    "        corr = sum(a*b for a, b in zip(votes[i], votes[j]))# / len(votes[i])\n",
    "        correlations.append((countries[i], countries[j], corr))\n",
    "\n",
    "    return correlations\n",
    "\n",
    "# Example usage with a larger dataset\n",
    "with open(\"./book/UN_voting_data.txt\") as f:\n",
    "    data = f.readlines()\n",
    "\n",
    "correlations = calculate_correlations(data)"
   ]
  },
  {
   "cell_type": "code",
   "execution_count": 18,
   "metadata": {},
   "outputs": [
    {
     "name": "stdout",
     "output_type": "stream",
     "text": [
      "[('Ireland', 'Belarus', 1386), ('Ireland', 'Turkey', 2502), ('Ireland', 'Paraguay', 2218), ('Ireland', 'Eritrea', 611), ('Ireland', 'Libya', 1880), ('Ireland', 'Montenegro', 383), ('Ireland', 'India', 1786), ('Ireland', 'Niger', 1931), ('Ireland', 'Sri_Lanka', 2105), ('Ireland', 'Vanuatu', 1067)]\n"
     ]
    }
   ],
   "source": [
    "print(correlations[:10])"
   ]
  },
  {
   "cell_type": "code",
   "execution_count": 19,
   "metadata": {},
   "outputs": [],
   "source": [
    "# Problem 4.17.20\n",
    "def dictlist_helper(dlist, k):\n",
    "    return [d[k] for d in dlist]\n"
   ]
  },
  {
   "cell_type": "code",
   "execution_count": 29,
   "metadata": {},
   "outputs": [
    {
     "data": {
      "text/latex": [
       "$\\displaystyle \\left[\\begin{matrix}1.0\\\\0\\end{matrix}\\right]$"
      ],
      "text/plain": [
       "Matrix([\n",
       "[1.0],\n",
       "[  0]])"
      ]
     },
     "metadata": {},
     "output_type": "display_data"
    },
    {
     "data": {
      "text/latex": [
       "$\\displaystyle \\left[\\begin{matrix}4.44089209850063 \\cdot 10^{-16}\\\\1.0\\end{matrix}\\right]$"
      ],
      "text/plain": [
       "Matrix([\n",
       "[4.44089209850063e-16],\n",
       "[                 1.0]])"
      ]
     },
     "metadata": {},
     "output_type": "display_data"
    },
    {
     "data": {
      "text/plain": [
       "[Matrix([\n",
       " [1.0, 4.44089209850063e-16],\n",
       " [  0,                  1.0]]),\n",
       " Matrix([\n",
       " [                 1.0,   0],\n",
       " [2.22044604925031e-16, 1.0]])]"
      ]
     },
     "execution_count": 29,
     "metadata": {},
     "output_type": "execute_result"
    }
   ],
   "source": [
    "# Problem 4.17.21:\n",
    "M = Matrix([[3, 4], [2, 1]])\n",
    "X = Matrix([[-1/5], [2/5]])\n",
    "display(M*X)\n",
    "\n",
    "Y = Matrix([[4/5], [-3/5]])\n",
    "display(M*Y)\n",
    "\n",
    "M_inv = Matrix([[-1/5, 4/5], [2/5, -3/5]])\n",
    "\n",
    "[\n",
    "    M*M_inv,\n",
    "    M_inv*M\n",
    "]"
   ]
  },
  {
   "cell_type": "code",
   "execution_count": 33,
   "metadata": {},
   "outputs": [
    {
     "data": {
      "text/plain": [
       "[Matrix([\n",
       " [1, 0],\n",
       " [0, 1]]),\n",
       " Matrix([\n",
       " [1, 0],\n",
       " [0, 1]])]"
      ]
     },
     "execution_count": 33,
     "metadata": {},
     "output_type": "execute_result"
    }
   ],
   "source": [
    "# Problem 4.17.22\n",
    "m1 = Matrix(2, 2, [5, 1, 9, 2])\n",
    "m2 = Matrix(2, 2, [2, -1, -9, 5])\n",
    "[\n",
    "    m1*m2,\n",
    "    m2*m1,\n",
    "]"
   ]
  },
  {
   "cell_type": "code",
   "execution_count": 35,
   "metadata": {},
   "outputs": [
    {
     "data": {
      "text/plain": [
       "[Matrix([\n",
       " [1.0, 0],\n",
       " [  0, 1]]),\n",
       " Matrix([\n",
       " [1.0, 0],\n",
       " [  0, 1]])]"
      ]
     },
     "execution_count": 35,
     "metadata": {},
     "output_type": "execute_result"
    }
   ],
   "source": [
    "m1 = Matrix(2, 2, [2, 0, 0, 1])\n",
    "m2 = Matrix(2, 2, [1/2, 0, 0, 1])\n",
    "[\n",
    "    m1*m2,\n",
    "    m2*m1,\n",
    "]"
   ]
  },
  {
   "cell_type": "code",
   "execution_count": 37,
   "metadata": {},
   "outputs": [
    {
     "data": {
      "text/plain": [
       "[Matrix([\n",
       " [ 1, 1.0],\n",
       " [-4, 1.0]]),\n",
       " Matrix([\n",
       " [ 3, 1.33333333333333],\n",
       " [-6,             -1.0]])]"
      ]
     },
     "execution_count": 37,
     "metadata": {},
     "output_type": "execute_result"
    }
   ],
   "source": [
    "m1 = Matrix(2, 2, [3, 1, 0, 2])\n",
    "m2 = Matrix(2, 2, [1, 1/6, -2, 1/2])\n",
    "[\n",
    "    m1*m2,\n",
    "    m2*m1,\n",
    "]"
   ]
  },
  {
   "cell_type": "code",
   "execution_count": 38,
   "metadata": {},
   "outputs": [
    {
     "data": {
      "text/plain": [
       "[Matrix([\n",
       " [1, 2],\n",
       " [0, 1]]),\n",
       " Matrix([\n",
       " [0, 1, 0],\n",
       " [0, 1, 0],\n",
       " [1, 1, 1]])]"
      ]
     },
     "execution_count": 38,
     "metadata": {},
     "output_type": "execute_result"
    }
   ],
   "source": [
    "m1 = Matrix(2, 3, [1, 0, 1, 0, 1, 0])\n",
    "m2 = Matrix(3, 2, [0, 1, 0, 1, 1, 1])\n",
    "[\n",
    "    m1*m2,\n",
    "    m2*m1,\n",
    "]"
   ]
  }
 ],
 "metadata": {
  "kernelspec": {
   "display_name": "base",
   "language": "python",
   "name": "python3"
  },
  "language_info": {
   "codemirror_mode": {
    "name": "ipython",
    "version": 3
   },
   "file_extension": ".py",
   "mimetype": "text/x-python",
   "name": "python",
   "nbconvert_exporter": "python",
   "pygments_lexer": "ipython3",
   "version": "3.10.8"
  },
  "orig_nbformat": 4
 },
 "nbformat": 4,
 "nbformat_minor": 2
}
