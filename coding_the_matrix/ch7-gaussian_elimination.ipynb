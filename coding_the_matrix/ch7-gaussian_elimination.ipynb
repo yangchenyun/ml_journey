{
 "cells": [
  {
   "attachments": {},
   "cell_type": "markdown",
   "metadata": {},
   "source": [
    "# Chapter 7 Gaussian elimination\n",
    "\n",
    "## Echelon Form\n",
    "### Definition 7.1.1\n",
    "An m × n matrix A is in echelon form if it satisfies the following condition: for any row, if that row’s first nonzero entry is in position k then every previous row’s first nonzero entry is in some position less than k.\n",
    "\n",
    "A generalization of triangular form.\n",
    "\n",
    "## Echelon Conversion\n",
    "Lemma 7.1.2 If a matrix is in echelon form, the nonzero rows form a basis for the row space.\n",
    "\n",
    "Prove by induction using the grow algorithm.\n",
    "\n",
    "### Row addition preserves row space.\n",
    "Use row-addition matrix to perform the echelon conversion, prove it would preserve the row space.\n",
    "\n",
    "### Computational issues\n",
    "In exact float arithmatics would cause issues, in practice, select the largest row (for division)\n",
    "\n",
    "### Lemma 7.1.3: For matrices A and N, Row NA ⊆ Row A.\n",
    "### Corollary 7.1.4: For matrices A and M, if M is invertible then Row MA = Row A.\n",
    "\n",
    "Intuition, an invertible transformation is one-to-one; and preserves vector space of Row A.\n",
    "\n",
    "### Proposition 7.3.1: For any matrix A, there is an invertible matrix M such that MA is in echelon form.\n",
    "\n",
    "\n",
    "## Tracking the Row Addition Matrix to find Linear Solution\n",
    "Starting with I, track the row addition performed on A\n",
    "We could derive M*A = Echelon Form\n",
    "\n",
    "## Theorem 7.6.1 (Prime Factorization Theorem): \n",
    "For every positive integer N, there is a unique bag of primes whose product is N."
   ]
  },
  {
   "cell_type": "code",
   "execution_count": 2,
   "metadata": {},
   "outputs": [],
   "source": [
    "# My attempt\n",
    "def convert_in_echelon(rowlist, col_label_list):\n",
    "    def find_pivot(row_index, col_label_list, k):\n",
    "        for c in col_label_list[prev_k+1:]:\n",
    "            for r in row_index:\n",
    "                if rowlist[r][c] != 0:\n",
    "                    return r, c\n",
    "\n",
    "        # NOTE: all the rows are zeros, pick the last column as k\n",
    "        return row_index[0], col_label_list[-1]\n",
    "\n",
    "    def _convert_in_echelon(remaining_rows, prev_k):\n",
    "        \"\"\"Convert rowlist to echelon with previous row's nonzero entry at prev_k.\"\"\"\n",
    "        if not remaining_rows:\n",
    "            return []\n",
    "        assert all([rowlist[r][c] == 0\n",
    "                    for c in col_label_list if c <= prev_k\n",
    "                    for r in remaining_rows])\n",
    "        # Find the first c which have non-zero value among remaining rows\n",
    "        pivot, k = find_pivot(remaining_rows, col_label_list, prev_k)\n",
    "        remaining_rows.remove(pivot)\n",
    "\n",
    "        return [pivot] + _convert_in_echelon(remaining_rows, k)\n",
    "\n",
    "    remaining_rows = list(range(len(rowlist)))\n",
    "    prev_k = -1\n",
    "\n",
    "    return [rowlist[r] for r in _convert_in_echelon(remaining_rows, prev_k)]\n",
    "\n",
    "rowlist = [\n",
    "    [0, 2, 3, 4, 5],\n",
    "    [0, 0, 0, 3, 2],\n",
    "    [1, 2, 3, 4, 5],\n",
    "    [0, 0, 0, 6, 7],\n",
    "    [0, 0, 0, 9, 9]\n",
    "]\n",
    "rowlist2 = [\n",
    "    [0, 0, 0, 0, 0, 9],\n",
    "    [0, 0, 1, 0, 3, 4],\n",
    "    [0, 0, 0, 0, 1, 2],\n",
    "    [0, 2, 3, 0, 5, 6],\n",
    "]\n",
    "\n",
    "# [\n",
    "#     convert_in_echelon(rowlist, list(range(5))),\n",
    "#     convert_in_echelon(rowlist2, list(range(6)))\n",
    "# ]"
   ]
  },
  {
   "cell_type": "code",
   "execution_count": 3,
   "metadata": {},
   "outputs": [
    {
     "data": {
      "text/plain": [
       "[Vec({0, 1, 2, 3, 4},{0: 1, 1: 2, 2: 3, 3: 4, 4: 5}),\n",
       " Vec({0, 1, 2, 3, 4},{0: 0, 1: 2, 2: 3, 3: 4, 4: 5}),\n",
       " Vec({0, 1, 2, 3, 4},{0: 0, 1: 0, 2: 0, 3: 3, 4: 2}),\n",
       " Vec({0, 1, 2, 3, 4},{0: 0.0, 1: 0.0, 2: 0.0, 3: 0.0, 4: 3.0})]"
      ]
     },
     "execution_count": 3,
     "metadata": {},
     "output_type": "execute_result"
    }
   ],
   "source": [
    "from book.vecutil import list2vec\n",
    "from ch5_problem import accept_list\n",
    "\n",
    "rowlist = [\n",
    "    [0, 2, 3, 4, 5],\n",
    "    [0, 0, 0, 3, 2],\n",
    "    [1, 2, 3, 4, 5],\n",
    "    [0, 0, 0, 6, 7],\n",
    "    [0, 0, 0, 9, 8]\n",
    "]\n",
    "\n",
    "@accept_list\n",
    "def row_reduce(rowlist):\n",
    "    col_label_list = sorted(rowlist[0].D, key=hash)\n",
    "    rows_left = set(range(len(rowlist)))\n",
    "    new_rowlist = []\n",
    "\n",
    "    for c in col_label_list:\n",
    "        rows_with_nonzero = [r for r in rows_left if rowlist[r][c] != 0]\n",
    "        if rows_with_nonzero:\n",
    "            pivot = rows_with_nonzero[0]\n",
    "            new_rowlist.append(rowlist[pivot])\n",
    "            rows_left.remove(pivot)\n",
    "            # to eliminate the non-zero entries for remaining rows at column pivot\n",
    "            for r in rows_with_nonzero[1:]:\n",
    "                multiplier = rowlist[r][c]/rowlist[pivot][c]\n",
    "                rowlist[r] -= multiplier * rowlist[pivot]\n",
    "    return new_rowlist\n",
    "\n",
    "row_reduce(rowlist)"
   ]
  },
  {
   "cell_type": "code",
   "execution_count": 4,
   "metadata": {},
   "outputs": [
    {
     "data": {
      "text/plain": [
       "[Vec({0, 1, 2, 3},{0: one, 1: 0, 2: one, 3: one}),\n",
       " Vec({0, 1, 2, 3},{0: 0, 1: one, 2: 0, 3: 0}),\n",
       " Vec({0, 1, 2, 3},{0: 0, 1: 0, 2: one, 3: one}),\n",
       " Vec({0, 1, 2, 3},{0: 0, 1: 0, 2: 0, 3: one})]"
      ]
     },
     "execution_count": 4,
     "metadata": {},
     "output_type": "execute_result"
    }
   ],
   "source": [
    "from book.GF2 import one\n",
    "\n",
    "gf_list = [\n",
    "    [0, 0, one, one],\n",
    "    [one, 0, one, one],\n",
    "    [one, 0, 0, one],\n",
    "    [one, one, one, one]\n",
    "]\n",
    "\n",
    "row_reduce(gf_list)"
   ]
  },
  {
   "cell_type": "code",
   "execution_count": 6,
   "metadata": {},
   "outputs": [
    {
     "data": {
      "text/plain": [
       "([Vec({0, 1, 2, 3, 4},{0: 1, 1: 2, 2: 3, 3: 4, 4: 5}),\n",
       "  Vec({0, 1, 2, 3, 4},{0: 0, 1: 2, 2: 3, 3: 4, 4: 5}),\n",
       "  Vec({0, 1, 2, 3, 4},{0: 0, 1: 0, 2: 0, 3: 3, 4: 2}),\n",
       "  Vec({0, 1, 2, 3, 4},{0: 0.0, 1: 0.0, 2: 0.0, 3: 0.0, 4: 3.0})],\n",
       " [Vec({0, 1, 2, 3, 4},{2: 1}),\n",
       "  Vec({0, 1, 2, 3, 4},{0: 1}),\n",
       "  Vec({0, 1, 2, 3, 4},{1: 1}),\n",
       "  Vec({0, 1, 2, 3, 4},{0: 0.0, 1: -2.0, 2: 0.0, 3: 1.0, 4: 0.0}),\n",
       "  Vec({0, 1, 2, 3, 4},{0: 0.0, 1: -1.6666666666666667, 2: 0.0, 3: -0.6666666666666666, 4: 1.0})])"
      ]
     },
     "execution_count": 6,
     "metadata": {},
     "output_type": "execute_result"
    }
   ],
   "source": [
    "from book.vec import Vec\n",
    "\n",
    "@accept_list\n",
    "def row_reduce(rowlist):\n",
    "    one = 1\n",
    "    m = len(rowlist)\n",
    "    row_labels = set(range(m))\n",
    "    M_rowlist = [Vec(row_labels, {i:one}) for i in range(m)]\n",
    "    new_M_rowlist = []\n",
    "\n",
    "    col_label_list = sorted(rowlist[0].D, key=hash)\n",
    "    rows_left = set(range(len(rowlist)))\n",
    "    new_rowlist = []\n",
    "    M_new_rowlist = []\n",
    "\n",
    "    for c in col_label_list:\n",
    "        rows_with_nonzero = [r for r in rows_left if rowlist[r][c] != 0]\n",
    "        if rows_with_nonzero:\n",
    "            pivot = rows_with_nonzero[0]\n",
    "            new_rowlist.append(rowlist[pivot])\n",
    "            M_new_rowlist.append(M_rowlist[pivot])\n",
    "            rows_left.remove(pivot)\n",
    "            # to eliminate the non-zero entries for remaining rows at column pivot\n",
    "            for r in rows_with_nonzero[1:]:\n",
    "                multiplier = rowlist[r][c]/rowlist[pivot][c]\n",
    "                rowlist[r] -= multiplier * rowlist[pivot]\n",
    "                M_rowlist[r] -= multiplier * M_rowlist[pivot]\n",
    "\n",
    "    for r in rows_left: M_new_rowlist.append(M_rowlist[r])\n",
    "\n",
    "    return new_rowlist, M_new_rowlist\n",
    "\n",
    "row_reduce(rowlist)"
   ]
  }
 ],
 "metadata": {
  "kernelspec": {
   "display_name": "base",
   "language": "python",
   "name": "python3"
  },
  "language_info": {
   "codemirror_mode": {
    "name": "ipython",
    "version": 3
   },
   "file_extension": ".py",
   "mimetype": "text/x-python",
   "name": "python",
   "nbconvert_exporter": "python",
   "pygments_lexer": "ipython3",
   "version": "3.10.8"
  },
  "orig_nbformat": 4
 },
 "nbformat": 4,
 "nbformat_minor": 2
}
