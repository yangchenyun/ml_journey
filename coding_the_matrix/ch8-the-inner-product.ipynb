{
 "cells": [
  {
   "attachments": {},
   "cell_type": "markdown",
   "metadata": {},
   "source": [
    "# Chapter 8 - The Inner Product\n",
    "\n",
    "## norm of vector \"length\"\n",
    "\n",
    "The concept is defined by property:\n",
    "- non negative\n",
    "- 0 only for zero vector\n",
    "- close in scalar multiplication\n",
    "- |u + v| ≤ |u| + |v|\n",
    "\n",
    "### inner product\n",
    "Define an operation inner product for vector: <u, v>; this operation _could be different_ on different field.\n",
    "\n",
    "In $\\mathbb{R}$, the inner product is defined as dot-product, it inherits properties:\n",
    "\n",
    "- linearity in the first argument: ⟨u + v, w⟩ = ⟨u, w⟩ + ⟨v, w⟩ \n",
    "- symmetry: ⟨u, v⟩ = ⟨v, u⟩\n",
    "- homogeneity: ⟨α u, v⟩ = α ⟨u, v⟩\n",
    "\n",
    "The norm of vector could be defined as: |v| = sqrt(⟨v, v⟩)\n",
    "\n",
    "## Orthogonality\n",
    "\n",
    "### Definition\n",
    "Define u and v to be orthogonal if ⟨u,v⟩ = 0\n",
    "\n",
    "Indeed, every vector is orthogonal to v when v is the zero vector.\n",
    "\n",
    "### Theorem 8.3.1 (Pythagorean Theorem for vectors over the reals): \n",
    "If vectors u and v over the reals are orthogonal then\n",
    "\n",
    "    |u+v|^2 =|u|^2 +|v|^2\n",
    "\n",
    "### Lemma 8.3.2 (Orthogonality Properties)\n",
    "For any vectors u and v and any scalar α, \n",
    "Property O1: If u is orthogonal to v then α u is orthogonal to α v for every scalar α. \n",
    "Property O2: If u and v are both orthogonal to w then u + v is orthogonal to w.\n",
    "\n",
    "### Lemma 8.3.3: \n",
    "If u is orthogonal to v then, for any scalars α,β, \n",
    "\n",
    "    | α u + β v | 2 = α^2 | u | 2 + β^2 | v | 2\n",
    "\n",
    "### Decompose vector\n",
    "For any vector b and any vector v, define vectors b||v and b⊥v to be, respectively, \n",
    "the projection of b along v and the projection of b orthogonal to v:\n",
    "- b = b||v + b⊥v\n",
    "- b||v = σ v\n",
    "- b⊥v is orthogonal to v\n",
    "\n",
    "### Lemma 8.3.8\n",
    "Let b and v be vectors. The point in Span {v} closest to b is b||v, and the distance is |b⊥v|.\n",
    "\n",
    "### Lemma 8.3.11, calculated\n",
    "For any vector b and any vector v over the $\\mathbb{R}$:\n",
    "\n",
    "1. There is a scalar σ such that b−σv is orthogonal to v.\n",
    "2. The point p on Span {v} that minimizes ∥b − p∥ is σ v.\n",
    "3. The value of σ is ⟨b,v⟩ / ⟨v,v⟩ "
   ]
  },
  {
   "cell_type": "code",
   "execution_count": 13,
   "metadata": {},
   "outputs": [
    {
     "data": {
      "text/plain": [
       "[Vec({0, 1},{0: -1.0, 1: 3.0})]"
      ]
     },
     "execution_count": 13,
     "metadata": {},
     "output_type": "execute_result"
    }
   ],
   "source": [
    "from book.vecutil import *\n",
    "# Quiz 8.3.12\n",
    "def project_along(b, v):\n",
    "    sigma = (b*v) / (v*v) if v*v > 1e-20 else 0\n",
    "    return sigma * v\n",
    "\n",
    "def project_orthogonal_1(b, v):\n",
    "    return b - project_along(b, v)\n",
    "\n",
    "b = list2vec([2, 4])\n",
    "v = list2vec([6, 2])\n",
    "[\n",
    "    project_orthogonal_1(b, v)\n",
    "]"
   ]
  },
  {
   "cell_type": "code",
   "execution_count": 17,
   "metadata": {},
   "outputs": [
    {
     "data": {
      "text/plain": [
       "[Mat(({0, 1}, {0, 1}), {(0, 0): 0.022500000000000006, (0, 1): 0.0075000000000000015, (1, 0): 0.0075000000000000015, (1, 1): 0.0025000000000000005})]"
      ]
     },
     "execution_count": 17,
     "metadata": {},
     "output_type": "execute_result"
    }
   ],
   "source": [
    "from book.matutil import *\n",
    "# Problem 8.3.15:\n",
    "def projection_matrix(v):\n",
    "    v_norm = coldict2mat([v / (v*v)])\n",
    "    return v_norm * v_norm.transpose()\n",
    "\n",
    "[\n",
    "    projection_matrix(v)\n",
    "]"
   ]
  },
  {
   "cell_type": "code",
   "execution_count": 18,
   "metadata": {},
   "outputs": [],
   "source": [
    "# Problem 8.3.16\n",
    "# rank = size of basis of column / row space of Matrix\n",
    "# rank = 1, all the columns are linearly dependent\n",
    "\n",
    "# Problem 8.3.17\n",
    "# 1. n^2, use dot-product interpretation, n rows * n-vector\n",
    "# 2. ?? "
   ]
  },
  {
   "cell_type": "code",
   "execution_count": 78,
   "metadata": {},
   "outputs": [
    {
     "name": "stdout",
     "output_type": "stream",
     "text": [
      "(300, 30) (300,)\n"
     ]
    }
   ],
   "source": [
    "from book.cancer_data import *\n",
    "def shape(M):\n",
    "    if isinstance(M, Vec):\n",
    "        return (len(M.D),)\n",
    "    else:\n",
    "        return len(M.D[0]), len(M.D[1])\n",
    "# 8.4 Lab: machine learning\n",
    "A, b = read_training_data('book/train.data')\n",
    "assert A.D[0] == b.D\n",
    "print(shape(A), shape(b))"
   ]
  },
  {
   "cell_type": "code",
   "execution_count": 42,
   "metadata": {},
   "outputs": [
    {
     "data": {
      "text/plain": [
       "Vec({'B', 'A'},{'B': -1, 'A': 1})"
      ]
     },
     "execution_count": 42,
     "metadata": {},
     "output_type": "execute_result"
    }
   ],
   "source": [
    "# hypothesis vector, w, H(f) = w*f\n",
    "def signum(u):\n",
    "    return Vec(u.D, {i: 1 if u[i] >= 0 else -1 for i in u.D})\n",
    "\n",
    "signum(Vec({'A','B'}, {'A':3, 'B':-2}))"
   ]
  },
  {
   "cell_type": "code",
   "execution_count": 124,
   "metadata": {},
   "outputs": [
    {
     "data": {
      "text/plain": [
       "[0.4866666666666667, 0.5133333333333333, 0.4866666666666667]"
      ]
     },
     "execution_count": 124,
     "metadata": {},
     "output_type": "execute_result"
    }
   ],
   "source": [
    "import random\n",
    "\n",
    "def fraction_wrong(A, b, w):\n",
    "    n = len(b.D)\n",
    "    # dot product in range [-n, n], -n is all wrong, n is all right\n",
    "    return 1/2 + ((signum(A*w) * b) / (2*n))\n",
    "\n",
    "all_one_w = Vec(A.D[1], {i: 1 for i in A.D[1]})\n",
    "all_zero_w = Vec(A.D[1], {i: -1 for i in A.D[1]})\n",
    "random_w = Vec(A.D[1], {i: random.choice([-1, 1]) for i in A.D[1]})\n",
    "\n",
    "[\n",
    "    fraction_wrong(A, b, all_one_w),\n",
    "    fraction_wrong(A, b, all_zero_w),\n",
    "    fraction_wrong(A, b, random_w),\n",
    "]"
   ]
  },
  {
   "cell_type": "code",
   "execution_count": 153,
   "metadata": {},
   "outputs": [
    {
     "data": {
      "text/plain": [
       "[1461169191.191651, 1461971671.8656526, 1135597639.570312]"
      ]
     },
     "execution_count": 153,
     "metadata": {},
     "output_type": "execute_result"
    }
   ],
   "source": [
    "# A very rough measurement of errors\n",
    "def mse(A, b, w):\n",
    "    l = A*w - b\n",
    "    return l*l\n",
    "[\n",
    "    mse(A, b, all_one_w),\n",
    "    mse(A, b, all_zero_w),\n",
    "    mse(A, b, random_w),\n",
    "]"
   ]
  },
  {
   "cell_type": "code",
   "execution_count": 215,
   "metadata": {},
   "outputs": [
    {
     "data": {
      "text/plain": [
       "[Vec({'area(worst)', 'fractal dimension(worst)', 'texture(mean)', 'concave points(mean)', 'compactness(mean)', 'concavity(worst)', 'fractal dimension(mean)', 'area(mean)', 'compactness(worst)', 'perimeter(worst)', 'compactness(stderr)', 'radius(worst)', 'area(stderr)', 'smoothness(worst)', 'concave points(stderr)', 'smoothness(stderr)', 'smoothness(mean)', 'fractal dimension(stderr)', 'concave points(worst)', 'perimeter(stderr)', 'symmetry(worst)', 'texture(stderr)', 'symmetry(stderr)', 'radius(stderr)', 'concavity(stderr)', 'texture(worst)', 'concavity(mean)', 'symmetry(mean)', 'radius(mean)', 'perimeter(mean)'},{'area(worst)': 1450912284.3342988, 'fractal dimension(worst)': 101380.81951281568, 'texture(mean)': 23825371.457551107, 'concave points(mean)': 83008.75914763153, 'compactness(mean)': 147523.68534069866, 'concavity(worst)': 419219.53997671866, 'fractal dimension(mean)': 72765.22301727664, 'area(mean)': 1015221747.5450637, 'compactness(worst)': 366815.67796184006, 'perimeter(worst)': 150838982.96594766, 'compactness(stderr)': 34492.846456914434, 'radius(worst)': 22715709.804052535, 'area(stderr)': 74095895.07783657, 'smoothness(worst)': 161236.44289337075, 'concave points(stderr)': 15786.603663543818, 'smoothness(stderr)': 8048.577541830328, 'smoothness(mean)': 116294.67432286381, 'fractal dimension(stderr)': 4634.86320669812, 'concave points(worst)': 175776.1664440724, 'perimeter(stderr)': 4541411.21676058, 'symmetry(worst)': 359570.24009373743, 'texture(stderr)': 1410890.3471910348, 'symmetry(stderr)': 24387.10798986596, 'radius(stderr)': 640482.7930492802, 'concavity(stderr)': 43579.66823481916, 'texture(worst)': 31995106.60117342, 'concavity(mean)': 149669.74040615986, 'symmetry(mean)': 220059.29267246582, 'radius(mean)': 19061833.33371148, 'perimeter(mean)': 125175677.48328267}),\n",
       " Vec({'area(worst)', 'fractal dimension(worst)', 'texture(mean)', 'concave points(mean)', 'compactness(mean)', 'concavity(worst)', 'fractal dimension(mean)', 'area(mean)', 'compactness(worst)', 'perimeter(worst)', 'compactness(stderr)', 'radius(worst)', 'area(stderr)', 'smoothness(worst)', 'concave points(stderr)', 'smoothness(stderr)', 'smoothness(mean)', 'fractal dimension(stderr)', 'concave points(worst)', 'perimeter(stderr)', 'symmetry(worst)', 'texture(stderr)', 'symmetry(stderr)', 'radius(stderr)', 'concavity(stderr)', 'texture(worst)', 'concavity(mean)', 'symmetry(mean)', 'radius(mean)', 'perimeter(mean)'},{'area(worst)': -1451140262.3342988, 'fractal dimension(worst)': -101383.64347281566, 'texture(mean)': -23826310.217551127, 'concave points(mean)': -83025.04637963155, 'compactness(mean)': -147541.3936006987, 'concavity(worst)': -419295.50148471905, 'fractal dimension(mean)': -72764.22533727661, 'area(mean)': -1015352443.1450645, 'compactness(worst)': -366871.96632183983, 'perimeter(worst)': -150852833.24594778, 'compactness(stderr)': -34495.46111891444, 'radius(worst)': -22717667.198052514, 'area(stderr)': -74109051.24983653, 'smoothness(worst)': -161240.36183337081, 'concave points(stderr)': -15787.658105543796, 'smoothness(stderr)': -8048.292355830328, 'smoothness(mean)': -116295.9364828638, 'fractal dimension(stderr)': -4634.86060809812, 'concave points(worst)': -175805.30252207228, 'perimeter(stderr)': -4542010.062160586, 'symmetry(worst)': -359582.94789373694, 'texture(stderr)': -1410860.373191033, 'symmetry(stderr)': -24386.494169865935, 'radius(stderr)': -640563.5090492797, 'concavity(stderr)': -43582.562884819126, 'texture(worst)': -31996663.96117342, 'concavity(mean)': -149699.1294401599, 'symmetry(mean)': -220061.6004724658, 'radius(mean)': -19063091.16171146, 'perimeter(mean)': -125184624.38328265}),\n",
       " Vec({'area(worst)', 'fractal dimension(worst)', 'texture(mean)', 'concave points(mean)', 'compactness(mean)', 'concavity(worst)', 'fractal dimension(mean)', 'area(mean)', 'compactness(worst)', 'perimeter(worst)', 'compactness(stderr)', 'radius(worst)', 'area(stderr)', 'smoothness(worst)', 'concave points(stderr)', 'smoothness(stderr)', 'smoothness(mean)', 'fractal dimension(stderr)', 'concave points(worst)', 'perimeter(stderr)', 'symmetry(worst)', 'texture(stderr)', 'symmetry(stderr)', 'radius(stderr)', 'concavity(stderr)', 'texture(worst)', 'concavity(mean)', 'symmetry(mean)', 'radius(mean)', 'perimeter(mean)'},{'area(worst)': 1280460868.7867782, 'fractal dimension(worst)': 88734.95894109926, 'texture(mean)': 20861257.400946073, 'concave points(mean)': 73044.29357984272, 'compactness(mean)': 129290.00850422056, 'concavity(worst)': 368739.743556735, 'fractal dimension(mean)': 63598.668840354585, 'area(mean)': 894359986.5178466, 'compactness(worst)': 322282.8202459334, 'perimeter(worst)': 132649508.74488826, 'compactness(stderr)': 30084.94506293684, 'radius(worst)': 19975894.862605244, 'area(stderr)': 64668306.55522576, 'smoothness(worst)': 141180.78161301595, 'concave points(stderr)': 13796.00042501425, 'smoothness(stderr)': 6998.544153258248, 'smoothness(mean)': 101727.77834091052, 'fractal dimension(stderr)': 4028.267809925986, 'concave points(worst)': 154798.88005121195, 'perimeter(stderr)': 3960391.0750031727, 'symmetry(worst)': 315050.4913562431, 'texture(stderr)': 1226957.235637419, 'symmetry(stderr)': 21208.91886512247, 'radius(stderr)': 558711.486972033, 'concavity(stderr)': 37953.286054735596, 'texture(worst)': 28032018.96000801, 'concavity(mean)': 131387.24843510528, 'symmetry(mean)': 192505.62376289754, 'radius(mean)': 16747842.208626576, 'perimeter(mean)': 109984572.58723286})]"
      ]
     },
     "execution_count": 215,
     "metadata": {},
     "output_type": "execute_result"
    }
   ],
   "source": [
    "def mse_grad(A, b, w):\n",
    "    return A.transpose()*(2*A*w - b)\n",
    "\n",
    "[\n",
    "    mse_grad(A, b, all_one_w),\n",
    "    mse_grad(A, b, all_zero_w),\n",
    "    mse_grad(A, b, random_w),\n",
    "]"
   ]
  },
  {
   "cell_type": "code",
   "execution_count": 223,
   "metadata": {},
   "outputs": [],
   "source": [
    "def gradient_descent_step(A, b, w, σ):\n",
    "    return w - σ * mse_grad(A, b, w)\n",
    "\n",
    "def gradient_descent(A, b, init_w, σ, T):\n",
    "    check_interval = T/50\n",
    "    w = init_w\n",
    "    for i in range(T):\n",
    "        w = gradient_descent_step(A, b, w, σ)\n",
    "        if i % check_interval == 0:\n",
    "            print(f'iteration {i}, fraction wrong {fraction_wrong(A, b, w):.2f}, mse {mse(A, b, w)}')\n",
    "    return w"
   ]
  },
  {
   "cell_type": "code",
   "execution_count": null,
   "metadata": {},
   "outputs": [],
   "source": [
    "# NOTE: \n",
    "\n",
    "# The initial set up is indeed sensitive:\n",
    "# - For all ones, the fraction of error continues rising while mse is decreasing.\n",
    "# - For all zeros, the fraction of error is always over 0.5\n",
    "# - Learning rate too high would blow up the error calculation.\n",
    "\n",
    "# Problem:\n",
    "# - The optimization is mse, and the error is fraction wrong, which is not the same thing.\n",
    "#   The result indeed optimizes for the absolute value of mse, which leads to more border decisions.\n",
    "# - Lack of bias?\n",
    "trained_w = gradient_descent(A, b, random_w, 1e-4, T=10000)"
   ]
  },
  {
   "cell_type": "code",
   "execution_count": 233,
   "metadata": {},
   "outputs": [
    {
     "data": {
      "text/plain": [
       "['on training data',\n",
       " 0.5166666666666667,\n",
       " 'on validate data',\n",
       " 0.49230769230769234]"
      ]
     },
     "execution_count": 233,
     "metadata": {},
     "output_type": "execute_result"
    }
   ],
   "source": [
    "A_v, b_v = read_training_data('book/validate.data')\n",
    "[\n",
    "    \"on training data\",\n",
    "    fraction_wrong(A, b, trained_w2),\n",
    "    \"on validate data\",\n",
    "    fraction_wrong(A_v, b_v, trained_w2),\n",
    "]"
   ]
  },
  {
   "cell_type": "code",
   "execution_count": 268,
   "metadata": {},
   "outputs": [],
   "source": [
    "import numpy as np\n",
    "\n",
    "def parse_data(f):\n",
    "    data_string = None\n",
    "    with open(f, 'r') as f:\n",
    "        data_string = f.read()\n",
    "\n",
    "    data_lines = data_string.strip().split('\\n')\n",
    "    parsed_data = []\n",
    "    for line in data_lines:\n",
    "        split_line = line.split(',')\n",
    "        ID, label, features = int(split_line[0]), 1 if split_line[1] == 'M' else 0, list(map(float, split_line[2:]))\n",
    "        parsed_data.append([ID, label] + features)\n",
    "\n",
    "    data = np.array(parsed_data)\n",
    "    X = data[:, 2:]\n",
    "    Y = data[:, 1]\n",
    "    return X, Y\n",
    "\n",
    "def sigmoid(x):\n",
    "    return 1 / (1 + np.exp(-x))\n",
    "\n",
    "def cross_entropy(y_true, y_pred):\n",
    "    epsilon = 1e-8  # Needed to prevent log(0)\n",
    "    return -np.mean(y_true * np.log(y_pred + epsilon) + (1 - y_true) * np.log(1 - y_pred + epsilon))\n",
    "\n",
    "def gradient_cross_entropy(X, y_true, y_pred):\n",
    "    return np.dot(X.T, (y_pred - y_true)) / len(y_true)\n",
    "\n",
    "X_train, Y_train = parse_data(\"book/train.data\")\n",
    "\n",
    "# Initialize weights\n",
    "weights = np.zeros(X_train.shape[1])\n"
   ]
  },
  {
   "cell_type": "code",
   "execution_count": 271,
   "metadata": {},
   "outputs": [],
   "source": [
    "# Set learning rate and number of epochs\n",
    "learning_rate = 1e-5\n",
    "epochs = 500000\n",
    "\n",
    "# Optimize the model using gradient descent\n",
    "y = Y_train\n",
    "for epoch in range(epochs):\n",
    "    y_pred = sigmoid(np.dot(X, weights))\n",
    "    loss = cross_entropy(y, y_pred)\n",
    "    gradient = gradient_cross_entropy(X, y, y_pred)\n",
    "    weights = weights - learning_rate * gradient\n",
    "\n",
    "    if epoch % 10000 == 0:\n",
    "        # print(f'Epoch {epoch}, Loss: {loss}')\n",
    "        pass"
   ]
  },
  {
   "cell_type": "code",
   "execution_count": 275,
   "metadata": {},
   "outputs": [
    {
     "data": {
      "text/plain": [
       "[(0.9566666666666667,\n",
       "  0.965034965034965,\n",
       "  0.9452054794520548,\n",
       "  0.9550173010380623),\n",
       " (0.9076923076923077,\n",
       "  0.7432432432432432,\n",
       "  0.9166666666666666,\n",
       "  0.8208955223880596)]"
      ]
     },
     "execution_count": 275,
     "metadata": {},
     "output_type": "execute_result"
    }
   ],
   "source": [
    "def evaluate(X, y_true, weights):\n",
    "\n",
    "    y_pred = sigmoid(np.dot(X, weights))\n",
    "    y_pred = np.round(y_pred)\n",
    "\n",
    "    tp = np.sum((y_true == 1) & (y_pred == 1))\n",
    "    tn = np.sum((y_true == 0) & (y_pred == 0))\n",
    "    fp = np.sum((y_true == 0) & (y_pred == 1))\n",
    "    fn = np.sum((y_true == 1) & (y_pred == 0))\n",
    "\n",
    "    accuracy = (tp + tn) / (tp + tn + fp + fn)\n",
    "    precision = tp / (tp + fp)\n",
    "    recall = tp / (tp + fn)\n",
    "    f1_score = 2 * precision * recall / (precision + recall)\n",
    "\n",
    "    return accuracy, precision, recall, f1_score\n",
    "\n",
    "X_test, Y_test = parse_data(\"book/validate.data\")\n",
    "\n",
    "[\n",
    "    # accuracy, precision, recall, f1_score\n",
    "    evaluate(X, Y, weights),\n",
    "    evaluate(X_test, Y_test, weights),\n",
    "]"
   ]
  }
 ],
 "metadata": {
  "kernelspec": {
   "display_name": "base",
   "language": "python",
   "name": "python3"
  },
  "language_info": {
   "codemirror_mode": {
    "name": "ipython",
    "version": 3
   },
   "file_extension": ".py",
   "mimetype": "text/x-python",
   "name": "python",
   "nbconvert_exporter": "python",
   "pygments_lexer": "ipython3",
   "version": "3.10.8"
  },
  "orig_nbformat": 4
 },
 "nbformat": 4,
 "nbformat_minor": 2
}
