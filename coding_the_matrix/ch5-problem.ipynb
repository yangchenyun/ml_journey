{
 "cells": [
  {
   "cell_type": "code",
   "execution_count": 1,
   "id": "80b8c427-d183-499b-95c5-81ee1c0ab486",
   "metadata": {
    "collapsed": false
   },
   "outputs": [],
   "source": [
    "# Reviews and Exercises\n",
    "# 1. What's coordinate representation of a vector?\n",
    "# A vector could be written as a linear combination of generators of a vector space.\n",
    "# The generators [a1, a2, a3, ...] are called coordinate system.\n",
    "# The coefficients are called coordinate representation in terms of the coordinate system.\n",
    "#\n",
    "# (How to ensure existence and uniqueness of representation?)\n",
    "#\n",
    "# 2. How can you express conversion between a vector and its coordinate representation using matrices?\n",
    "# Let A = [a1, a2, a3, ...] be a coordinate system.\n",
    "# By definition v = A*u, u = [u1, u2, u3, ...] is the coordinate representation of v in terms of A.\n",
    "# To find the coordinate representation is equivalent of solving v = A*x.\n",
    "#\n",
    "# 3. What's linear dependence?\n",
    "# It is a proper to describe a set of vectors; a set of vectors are linear dependent if\n",
    "# \n",
    "# One vector could be represented as a linear combination of the others.\n",
    "# It is equiavelent to\n",
    "# The zero vector could be expressed as non-trivial linear combination of the vectors.\n",
    "#\n",
    "# 4. How would you prove a set of vectors are linearly independent?\n",
    "# Approach 1: using definition, prove that the zero vector is not in the span of the vectors. (except trivial case)\n",
    "#\n",
    "# Computational Problem 5.5.5: Testing linear dependence, gaussian_elimination algorithm\n",
    "#\n",
    "# 5. Grow algorithm\n",
    "# Start with empty set T, each step add the vector which are 1. minimal weight, 2. linearly independent from other vectors of T\n",
    "# Stop when this process cannot be continued.\n",
    "#\n",
    "# 6. Shrink algorithm\n",
    "# Start with B, each step remove the vector which are 1. maximal weight, 2. linearly dependent from other vectors of B (span B remains the same)\n",
    "# Stop when this process cannot be continued.\n",
    "#\n",
    "# 7. How do the concepts of linear dependence and spanning apply to subsets of edges of graphs?\n",
    "# Define path as sequence of edges [{x1, x2}, {x2, x3}, {x3, x4}, ...]\n",
    "# A set of edges S is spanning if there is for any {x, y} in G, there is a path in S from x to y.\n",
    "# \n",
    "# linear dependence: a set of edges are linear dependent means there is a cycle between in a graph formed by those edges. \n",
    "#\n",
    "# Key properties:\n",
    "# 1. Subset of linearly independent edges are independent.\n",
    "#    Any subset of MSF edges is linear independent (on cycle).\n",
    "# 2. Span Lemma. Given V, vi in V is in the span of V - {vi} if and only if V is linerally dependent\n",
    "#    An edge is in the span of other MSF edges if and only if it is in a cycle.\n",
    "#\n",
    "# 8. What is a basis?\n",
    "# Linear independent set of generators of V. (Span B = V, B is linear independent)\n",
    "# \n",
    "# Lemma 5.6.9: The standard generators for FD form a basis.\n",
    "# Lemma 5.6.11 (Subset-Basis Lemma): Any finite set T of vectors contains a subset B that is a basis for Span T.\n",
    "#\n",
    "# 9. What is unique representation?\n",
    "# Unique-Representation Lemma, if the coordinates system is forms of basis for V,\n",
    "# then the coordinate representation is unique.\n",
    "# \n",
    "# 10. What is change of basis?\n",
    "# Given two coordinates systems of basis for V, the same vector could be represented: v = A*u, v = B*m\n",
    "# Change of basis is defining function to convert u to m\n",
    "# \n",
    "# Let f(x) = A*x, g(x) = B*x; because A and B are basis, using\n",
    "# Unique-Representation Lemma, f and g are one-to-one and onto, thus invertible.\n",
    "# \n",
    "# m -> u, u = A.inv()*B*m\n",
    "# u -> m, m = B.inv()*A*u\n",
    "#\n",
    "# 11. What is the Exchange Lemma?\n",
    "# Suppose z is a vector in Span S and not in A such that A ∪ {z} is linearly independent.\n",
    "# There _always exists_ a w in S - A could be exchanged with z, span S = Span ({z} ∪ (S - {w}))\n",
    "#\n",
    "# Ways to construct new basis."
   ]
  },
  {
   "cell_type": "code",
   "execution_count": 64,
   "id": "6ae1ca9d-bed3-413a-9cee-c0ad6bb6a569",
   "metadata": {
    "collapsed": false
   },
   "outputs": [],
   "source": [
    "import importlib\n",
    "\n",
    "from book.GF2 import one, zero\n",
    "import book.GF2\n",
    "from book.vecutil import *\n",
    "from book.matutil import *\n",
    "import solve"
   ]
  },
  {
   "cell_type": "code",
   "execution_count": 65,
   "id": "3f3439e4-8dad-4dfa-8672-43235ffe2974",
   "metadata": {
    "collapsed": false
   },
   "outputs": [
    {
     "data": {
      "text/plain": [
       "Vec({0, 1, 2, 3},{0: 0, 1: 0, 2: 0, 3: 0})"
      ]
     },
     "execution_count": 65,
     "metadata": {},
     "output_type": "execute_result"
    }
   ],
   "source": [
    "# 5.14.9\n",
    "# (a)\n",
    "list2vec([one, one, one, one]) + list2vec([one, zero, one, zero]) + list2vec([zero, one, zero, one])\n",
    "# (b)\n",
    "list2vec([0, 0, one, 0]) + list2vec([one, one, 0, one]) + list2vec([one, one, one, one])"
   ]
  },
  {
   "cell_type": "code",
   "execution_count": null,
   "id": "c48ab9dd-f1cd-4a21-b991-c84c48e38c7a",
   "metadata": {
    "collapsed": false
   },
   "outputs": [],
   "source": [
    "# 5.14.10\n",
    "# looking for cycles in the graph"
   ]
  },
  {
   "cell_type": "code",
   "execution_count": 66,
   "id": "23a6ca3c-8559-4ec0-b481-63a56a1bc90a",
   "metadata": {
    "collapsed": false
   },
   "outputs": [
    {
     "data": {
      "text/plain": [
       "[Vec({'b', 'd', 'a', 'c'},{'b': 4, 'd': 0, 'a': 2, 'c': 6}),\n",
       " Vec({0, 1, 2, 3},{0: 6, 1: -4, 2: 27, 3: -3}),\n",
       " Vec({0, 1, 2},{0: 0, 1: one, 2: one})]"
      ]
     },
     "execution_count": 66,
     "metadata": {},
     "output_type": "execute_result"
    }
   ],
   "source": [
    "# Problem 5.14.13\n",
    "def rep2vec(u, veclist):\n",
    "    \"\"\"Returns the vector given coordinate represention u and coordinates in veclist.\"\"\"\n",
    "    return coldict2mat(veclist) * u\n",
    "\n",
    "a0 = Vec({'a','b','c','d'}, {'a':1})\n",
    "a1 = Vec({'a','b','c','d'}, {'b':1})\n",
    "a2 = Vec({'a','b','c','d'}, {'c':1})\n",
    "\n",
    "[\n",
    "    rep2vec(Vec({0,1,2}, {0:2, 1:4, 2:6}), [a0,a1,a2]),\n",
    "    rep2vec(list2vec([5, 3, -2]),\n",
    "            [list2vec(l) for l in [[1,0,2,0],[1,2,5,1],[1,5,-1,3]]]),\n",
    "    rep2vec(list2vec([one,one,0]),\n",
    "            [list2vec(l) for l in [[one,0,one],[one,one,0],[0,0,one]]])\n",
    "]"
   ]
  },
  {
   "cell_type": "code",
   "execution_count": 198,
   "id": "bd21f1ab-6a48-4f06-8d4c-d9cac39291dc",
   "metadata": {
    "collapsed": false
   },
   "outputs": [
    {
     "data": {
      "text/plain": [
       "[Vec({0, 1, 2},{0: 3.0, 1: 0.0, 2: -2.0}),\n",
       " Vec({0, 1, 2},{0: 5.0, 1: 3.0, 2: -2.0}),\n",
       " Vec({0, 1, 2},{0: one, 1: one, 2: 0})]"
      ]
     },
     "execution_count": 198,
     "metadata": {},
     "output_type": "execute_result"
    }
   ],
   "source": [
    "# problem 5.14.14\n",
    "def vec2rep(veclist, v):\n",
    "    \"\"\"Returns the coordinate representation of v in terms of the vectors in veclist.\"\"\"\n",
    "    return solve.solve(coldict2mat(veclist), v)\n",
    "\n",
    "[\n",
    "    vec2rep([a0,a1,a2], Vec({'a','b','c','d'}, {'a':3, 'c':-2})),\n",
    "    vec2rep([list2vec(l) for l in [[1,0,2,0],[1,2,5,1],[1,5,-1,3]]], list2vec([6, -4, 27, -3])),\n",
    "    vec2rep([list2vec(l) for l in [[one,0,one],[one,one,0],[0,0,one]]], list2vec([0, one, one])),\n",
    "]\n"
   ]
  },
  {
   "cell_type": "code",
   "execution_count": 234,
   "id": "b6fc243b-9702-4e5a-bd8b-cf2c34a0d042",
   "metadata": {
    "collapsed": false
   },
   "outputs": [
    {
     "data": {
      "text/plain": [
       "[True, True, False, False, True, False]"
      ]
     },
     "execution_count": 234,
     "metadata": {},
     "output_type": "execute_result"
    }
   ],
   "source": [
    "# 5.14.15\n",
    "importlib.reload(solve)\n",
    "importlib.reload(book.GF2)\n",
    "from book.GF2 import one, zero\n",
    "\n",
    "def sqr(x): return x*x\n",
    "\n",
    "def is_gf2_one(v):\n",
    "    return any([type(v) is type(one) for v in v.f.values()])\n",
    "\n",
    "def is_superfluous(L, i):\n",
    "    \"\"\"Returns True if the i-th vector in L is superfluous.\"\"\"\n",
    "    epsilon = 1e-20\n",
    "    if len(L) == 1:\n",
    "        return False\n",
    "\n",
    "    assert i < len(L)\n",
    "\n",
    "    Li = L[i]\n",
    "    L = L[:i] + L[i+1:]\n",
    "    solution = solve.solve(coldict2mat(L), Li)\n",
    "    # NOTE: no guarantee the solution\n",
    "    if solution == zero_vec(solution.D):\n",
    "        return False\n",
    "    residual = coldict2mat(L) * solution - Li\n",
    "\n",
    "    # Dot-product of GF2 is always zero, so here only check one\n",
    "    if is_gf2_one(residual):\n",
    "        return False\n",
    "\n",
    "    return sqr(residual) < epsilon\n",
    "\n",
    "a0 = Vec({'a','b','c','d'}, {'a':1})\n",
    "a1 = Vec({'a','b','c','d'}, {'b':1})\n",
    "a2 = Vec({'a','b','c','d'}, {'c':1})\n",
    "a3 = Vec({'a','b','c','d'}, {'a':1,'c':3})\n",
    "\n",
    "[\n",
    "    is_superfluous([a0,a1,a2,a3], 3),\n",
    "    is_superfluous([a0,a1,a2,a3], 0),\n",
    "    is_superfluous([a0,a1,a2,a3], 1),\n",
    "    is_superfluous([list2vec(l) for l in [[1, 2, 3]]], 0),\n",
    "    is_superfluous([list2vec(l) for l in [[2, 5, 5, 6], [2, 0, 1, 3], [0, 5, 4, 3]]], 2),\n",
    "    is_superfluous([list2vec(l) for l in [[one, one, 0, 0], [one, one, one, one], [0, 0, 0, one]]], 2),\n",
    "]\n"
   ]
  },
  {
   "cell_type": "code",
   "execution_count": 247,
   "id": "623b3506-76f3-4cff-ada9-22fbc841f1d8",
   "metadata": {
    "collapsed": false
   },
   "outputs": [
    {
     "data": {
      "text/plain": [
       "[True, False, True, False, False, True, True]"
      ]
     },
     "execution_count": 247,
     "metadata": {},
     "output_type": "execute_result"
    }
   ],
   "source": [
    "# problem 5.14.16\n",
    "# NOTE: brute force\n",
    "def is_independent(L):\n",
    "    return all([not is_superfluous(L, i) for i in range(len(L))])\n",
    "\n",
    "# TODO: Do it in one gaussilimination?\n",
    "\n",
    "\n",
    "[\n",
    "    is_independent([a0, a1, a2]),\n",
    "    is_independent([a0, a2, a3]),\n",
    "    is_independent([a0, a1, a3]),\n",
    "    is_independent([a0, a1, a2, a3]),\n",
    "    is_independent([list2vec(l) for l in [[2, 4, 0], [8, 16, 4], [0, 0, 7]]]),\n",
    "    is_independent([list2vec(l) for l in [[1, 3, 0, 0], [2, 1, 1, 0], [1, 1, 4, -1]]]),\n",
    "    is_independent([list2vec(l) for l in [[one, 0, one, 0], [0, one, 0, 0], [one, one, one, one], [one, 0, 0, one]]]),\n",
    "]\n",
    "\n",
    "# is_superfluous([list2vec(l) for l in \n",
    "#                 [\n",
    "#                     [one,one,0,0],\n",
    "#                     [one,one,one,one],\n",
    "#                     [0,0,one,one],\n",
    "#                     # [0,0,0,one],\n",
    "#                     # [0,0,one,0]\n",
    "#                 ]], 0) "
   ]
  },
  {
   "cell_type": "code",
   "execution_count": 248,
   "id": "cc9b3324-b63e-4f8b-b846-eccc68633837",
   "metadata": {
    "collapsed": false
   },
   "outputs": [
    {
     "data": {
      "text/plain": [
       "[[Vec({'b', 'd', 'a', 'c'},{'a': 1}),\n",
       "  Vec({'b', 'd', 'a', 'c'},{'b': 1}),\n",
       "  Vec({'b', 'd', 'a', 'c'},{'c': 1})],\n",
       " [Vec({'b', 'd', 'a', 'c'},{'a': 1}),\n",
       "  Vec({'b', 'd', 'a', 'c'},{'a': 1, 'c': 3}),\n",
       "  Vec({'b', 'd', 'a', 'c'},{'b': 1})],\n",
       " [Vec({0, 1, 2, 3},{0: 1, 1: 1, 2: 2, 3: 1}),\n",
       "  Vec({0, 1, 2, 3},{0: 2, 1: 1, 2: 1, 3: 1}),\n",
       "  Vec({0, 1, 2, 3},{0: 1, 1: 2, 2: 2, 3: 1}),\n",
       "  Vec({0, 1, 2, 3},{0: 2, 1: 2, 2: 1, 3: 2})],\n",
       " [Vec({0, 1, 2, 3},{0: one, 1: one, 2: 0, 3: 0}),\n",
       "  Vec({0, 1, 2, 3},{0: one, 1: one, 2: one, 3: one}),\n",
       "  Vec({0, 1, 2, 3},{0: 0, 1: 0, 2: 0, 3: one})]]"
      ]
     },
     "execution_count": 248,
     "metadata": {},
     "output_type": "execute_result"
    }
   ],
   "source": [
    "# Problem 5.14.17\n",
    "import functools\n",
    "\n",
    "def subset_basis(T):\n",
    "    \"\"\"Returns a subset basis for spanning T.\"\"\"\n",
    "    return functools.reduce(\n",
    "        lambda acc, v: acc + [v] if is_independent(acc + [v]) else acc, T, [])\n",
    "\n",
    "[\n",
    "    subset_basis([a0,a1,a2,a3]),\n",
    "    subset_basis([a0,a3,a1,a2]),\n",
    "    subset_basis([list2vec(l) for l in [\n",
    "        [1,1,2,1],[2,1,1,1],[1,2,2,1],[2,2,1,2],[2,2,2,2]\n",
    "    ]]),\n",
    "    subset_basis([list2vec(l) for l in [\n",
    "        [one,one,0,0],[one,one,one,one],[0,0,one,one],[0,0,0,one],[0,0,one,0]\n",
    "    ]]),\n",
    "]"
   ]
  },
  {
   "cell_type": "code",
   "execution_count": 256,
   "id": "ab614e27-65bb-4e56-8fde-078d2e5e3c74",
   "metadata": {
    "collapsed": false
   },
   "outputs": [
    {
     "data": {
      "text/plain": [
       "[[Vec({'b', 'd', 'a', 'c'},{'a': 1}),\n",
       "  Vec({'b', 'd', 'a', 'c'},{'a': 1, 'c': 3}),\n",
       "  Vec({'b', 'd', 'a', 'c'},{'b': 1})],\n",
       " [Vec({0, 1, 2},{0: 0, 1: 5, 2: 3}),\n",
       "  Vec({0, 1, 2},{0: 0, 1: 2, 2: 2}),\n",
       "  Vec({0, 1, 2},{0: 1, 1: 5, 2: 7})],\n",
       " [Vec({0, 1, 2},{0: 0, 1: 5, 2: 3}),\n",
       "  Vec({0, 1, 2},{0: 0, 1: 2, 2: 2}),\n",
       "  Vec({0, 1, 2},{0: 1, 1: 1, 2: 1})],\n",
       " [Vec({0, 1, 2, 3},{0: 0, 1: one, 2: one, 3: 0}),\n",
       "  Vec({0, 1, 2, 3},{0: one, 1: 0, 2: 0, 3: one}),\n",
       "  Vec({0, 1, 2, 3},{0: one, 1: 0, 2: 0, 3: 0})]]"
      ]
     },
     "execution_count": 256,
     "metadata": {},
     "output_type": "execute_result"
    }
   ],
   "source": [
    "# Problem 5.14.18\n",
    "def superset_basis(T, L):\n",
    "    \"\"\"Returns a superset basis containing T which equals to span L.\"\"\"\n",
    "    return functools.reduce(\n",
    "        lambda acc, v: acc + [v] if is_independent(acc + [v]) else acc, L, T)\n",
    "\n",
    "[\n",
    "    superset_basis([a0, a3], [a0, a1, a2]),\n",
    "    superset_basis(\n",
    "        [list2vec(l) for l in [[0, 5, 3], [0, 2, 2], [1, 5, 7]]],\n",
    "        [list2vec(l) for l in [[1, 1, 1], [0, 1, 1], [0, 0, 1]]],\n",
    "    ),\n",
    "    superset_basis(\n",
    "        [list2vec(l) for l in [[0, 5, 3], [0, 2, 2]]],\n",
    "        [list2vec(l) for l in [[1, 1, 1], [0, 1, 1], [0, 0, 1]]],\n",
    "    ),\n",
    "    superset_basis([list2vec(l) for l in [\n",
    "        [0,one,one,0],[one,0,0,one]\n",
    "    ]], [list2vec(l) for l in [\n",
    "        [one,one,one,one],[one,0,0,0], [0,0,0,one]\n",
    "    ]]),\n",
    "]\n"
   ]
  },
  {
   "cell_type": "code",
   "execution_count": 300,
   "id": "b99a7e17-a5f3-4e39-b677-3763ec1d5631",
   "metadata": {
    "collapsed": false
   },
   "outputs": [
    {
     "data": {
      "text/plain": [
       "[Vec({0, 1, 2, 3},{0: 0.0, 1: 0.0, 2: 1.0, 3: 0.0}),\n",
       " True,\n",
       " Vec({0, 1, 2, 3},{0: 0.0, 1: 0.0, 2: 1.0, 3: 0.0}),\n",
       " Vec({0, 1, 2, 3},{0: one, 1: one, 2: one, 3: 0})]"
      ]
     },
     "execution_count": 300,
     "metadata": {},
     "output_type": "execute_result"
    }
   ],
   "source": [
    "# problem 5.14.19\n",
    "def exchange(S, A, z):\n",
    "    assert is_independent(A + [z])\n",
    "    B = list(set(S) - set(A))\n",
    "    coeff = vec2rep(B+A, z)\n",
    "\n",
    "    # turns into list\n",
    "    coeff = list(coeff.f.values())\n",
    "\n",
    "    # find non-zero coefficient in B\n",
    "    B_coeff = coeff[:len(B)]\n",
    "\n",
    "    # find the first non-zero value in B_coeff\n",
    "    i = next(i for i, v in enumerate(B_coeff) if v != 0)\n",
    "    bi = B_coeff[i]\n",
    "\n",
    "    coeff_rest = coeff[:i] + coeff[i+1:]\n",
    "    B_rest = B[:i] + B[i+1:]\n",
    "\n",
    "    # lined up the new vector\n",
    "    u = list2vec([1/bi] + [-v / bi for v in coeff_rest])\n",
    "    veclist = [z]+B_rest+A\n",
    "\n",
    "    return rep2vec(u, veclist) \n",
    "\n",
    "def accept_list(fn):\n",
    "    def wrapper(*args):\n",
    "        def convert(arg):\n",
    "            if not isinstance(arg, list):\n",
    "                return arg\n",
    "            # nested case\n",
    "            if isinstance(arg[0], list):\n",
    "                return [convert(v) for v in arg]\n",
    "            # plain list\n",
    "            return list2vec(arg)\n",
    "        args = [convert(v) for v in args]\n",
    "        return fn(*args)\n",
    "    return wrapper\n",
    "    \n",
    "exchangeL = accept_list(exchange)\n",
    "\n",
    "S=[list2vec(v) for v in [[0,0,5,3] , [2,0,1,3],[0,0,1,0],[1,2,3,4]]]\n",
    "A=[list2vec(v) for v in [[0,0,5,3],[2,0,1,3]]]\n",
    "z=list2vec([0,2,1,1])\n",
    "\n",
    "[\n",
    "    exchange(S, A, z),\n",
    "    exchange(S, A, z) == exchangeL(\n",
    "        [[0,0,5,3] , [2,0,1,3],[0,0,1,0],[1,2,3,4]],\n",
    "        [[0,0,5,3],[2,0,1,3]],\n",
    "        [0,2,1,1]\n",
    "    ),\n",
    "    exchangeL(\n",
    "        [[0,0,5,3],[2,0,1,3],[0,0,1,0],[1,2,3,4]],[[0,0,5,3],[2,0,1,3]],[0,2,1,1]\n",
    "    ),\n",
    "    exchangeL(\n",
    "        [[0,one,one,one],[one,0,one,one],[one,one,0,one],[one,one,one,0]],\n",
    "        [[0,one,one,one],[one,one,0,one]],\n",
    "        [one,one,one,one]\n",
    "    )\n",
    "]\n"
   ]
  }
 ],
 "metadata": {
  "kernelspec": {
   "argv": [
    "/Users/steveyang/miniconda3/bin/python",
    "-m",
    "ipykernel_launcher",
    "-f",
    "{connection_file}"
   ],
   "display_name": "Python 3 (ipykernel)",
   "env": null,
   "interrupt_mode": "signal",
   "language": "python",
   "metadata": {
    "debugger": true
   },
   "name": "python3"
  },
  "name": "ch5-problem.ipynb"
 },
 "nbformat": 4,
 "nbformat_minor": 5
}
