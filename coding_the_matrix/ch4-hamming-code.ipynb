{
 "cells": [
  {
   "cell_type": "code",
   "execution_count": 1,
   "metadata": {},
   "outputs": [],
   "source": [
    "from book.mat import Mat\n",
    "from book.vec import Vec\n",
    "from book.vecutil import list2vec\n",
    "from book.matutil import *\n",
    "from book.GF2 import one, zero"
   ]
  },
  {
   "cell_type": "code",
   "execution_count": 10,
   "metadata": {},
   "outputs": [
    {
     "data": {
      "text/plain": [
       "[Mat(({0, 1, 2, 3, 4, 5, 6}, {0, 1, 2, 3}), {(0, 0): one, (0, 1): 0, (0, 2): one, (0, 3): one, (1, 0): one, (1, 1): one, (1, 2): 0, (1, 3): one, (2, 0): 0, (2, 1): 0, (2, 2): 0, (2, 3): one, (3, 0): one, (3, 1): one, (3, 2): one, (3, 3): 0, (4, 0): 0, (4, 1): 0, (4, 2): one, (4, 3): 0, (5, 0): 0, (5, 1): one, (5, 2): 0, (5, 3): 0, (6, 0): one, (6, 1): 0, (6, 2): 0, (6, 3): 0}),\n",
       " [one, 0, one, one],\n",
       " [0, 0, one, 0]]"
      ]
     },
     "execution_count": 10,
     "metadata": {},
     "output_type": "execute_result"
    }
   ],
   "source": [
    "# Task 4.14.1\n",
    "def togf2(d):\n",
    "    if d not in [\"1\", \"0\"]:\n",
    "        raise\n",
    "    return one if d == \"1\" else zero\n",
    "\n",
    "rows = \"1011 1101 0001 1110 0010 0100 1000\".split(' ')\n",
    "\n",
    "G = listlist2mat([[togf2(ch) for ch in r] for r in rows])\n",
    "\n",
    "def fn_g(v_x):\n",
    "    return G*v_x\n",
    "\n",
    "[\n",
    "    G,\n",
    "    [G[0, j] for j in G.D[1]],\n",
    "    [G[4, j] for j in G.D[1]]\n",
    "]"
   ]
  },
  {
   "cell_type": "code",
   "execution_count": 11,
   "metadata": {},
   "outputs": [
    {
     "name": "stdout",
     "output_type": "stream",
     "text": [
      "\n",
      " 0 1   2   3 4 5   6\n",
      "--------------------\n",
      " 0 0 one one 0 0 one\n"
     ]
    }
   ],
   "source": [
    "# Task 4.14.2\n",
    "p = list2vec([1, 0, 0, 1])\n",
    "print(fn_g(p))"
   ]
  },
  {
   "cell_type": "code",
   "execution_count": 14,
   "metadata": {},
   "outputs": [
    {
     "data": {
      "text/latex": [
       "$\\displaystyle \\left[\\begin{matrix}a + c + d\\\\a + b + d\\\\d\\\\a + b + c\\\\c\\\\b\\\\a\\end{matrix}\\right]$"
      ],
      "text/plain": [
       "Matrix([\n",
       "[a + c + d],\n",
       "[a + b + d],\n",
       "[        d],\n",
       "[a + b + c],\n",
       "[        c],\n",
       "[        b],\n",
       "[        a]])"
      ]
     },
     "metadata": {},
     "output_type": "display_data"
    },
    {
     "data": {
      "text/latex": [
       "$\\displaystyle \\left[\\begin{matrix}0 & 0 & 0 & 0 & 0 & 0 & 1\\\\0 & 0 & 0 & 0 & 0 & 1 & 0\\\\0 & 0 & 0 & 0 & 1 & 0 & 0\\\\0 & 0 & 1 & 0 & 0 & 0 & 0\\end{matrix}\\right]$"
      ],
      "text/plain": [
       "Matrix([\n",
       "[0, 0, 0, 0, 0, 0, 1],\n",
       "[0, 0, 0, 0, 0, 1, 0],\n",
       "[0, 0, 0, 0, 1, 0, 0],\n",
       "[0, 0, 1, 0, 0, 0, 0]])"
      ]
     },
     "metadata": {},
     "output_type": "display_data"
    },
    {
     "data": {
      "text/latex": [
       "$\\displaystyle \\left[\\begin{matrix}a\\\\b\\\\c\\\\d\\end{matrix}\\right]$"
      ],
      "text/plain": [
       "Matrix([\n",
       "[a],\n",
       "[b],\n",
       "[c],\n",
       "[d]])"
      ]
     },
     "metadata": {},
     "output_type": "display_data"
    },
    {
     "data": {
      "text/plain": [
       "[[0, 0, 0, 0, 0, 0, 1],\n",
       " [0, 0, 0, 0, 0, 1, 0],\n",
       " [0, 0, 0, 0, 1, 0, 0],\n",
       " [0, 0, 1, 0, 0, 0, 0]]"
      ]
     },
     "metadata": {},
     "output_type": "display_data"
    },
    {
     "data": {
      "text/plain": [
       "[None, None, None]"
      ]
     },
     "execution_count": 14,
     "metadata": {},
     "output_type": "execute_result"
    }
   ],
   "source": [
    "from sympy.abc import a, b, c, d\n",
    "from sympy import Matrix\n",
    "# Task 4.14.3\n",
    "# Option 1: RGc -> c, so the R could be G^-1\n",
    "\n",
    "# Option 2: the encoded_c already has the original message embeded inside\n",
    "G_sym = Matrix([[int(ch) for ch in r] for r in rows])\n",
    "c = Matrix([[a, b, c, d]]).transpose()\n",
    "display(G_sym * c)\n",
    "\n",
    "# We could manually construct such as an R_sym\n",
    "R_sym = Matrix.zeros(4, 7)\n",
    "R_sym[3, 2] = 1 # pick d\n",
    "R_sym[2, 4] = 1\n",
    "R_sym[1, 5] = 1\n",
    "R_sym[0, 6] = 1\n",
    "[display(e) for e in \n",
    "[\n",
    "    R_sym,\n",
    "    R_sym * (G_sym * c),\n",
    "]]"
   ]
  },
  {
   "cell_type": "code",
   "execution_count": 5,
   "metadata": {},
   "outputs": [
    {
     "data": {
      "text/plain": [
       "[Mat(({0, 1, 2}, {0, 1, 2, 3}), {(0, 0): 0, (0, 1): 0, (0, 2): 0, (0, 3): 0, (1, 0): 0, (1, 1): 0, (1, 2): 0, (1, 3): 0, (2, 0): 0, (2, 1): 0, (2, 2): 0, (2, 3): 0}),\n",
       " Matrix([\n",
       " [2, 2, 2, 0],\n",
       " [2, 2, 0, 2],\n",
       " [2, 0, 2, 2]])]"
      ]
     },
     "execution_count": 5,
     "metadata": {},
     "output_type": "execute_result"
    }
   ],
   "source": [
    "rows = \"0001111 0110011 1010101\".split(' ')\n",
    "H = listlist2mat([[togf2(ch) for ch in r] for r in rows])\n",
    "H_sym = Matrix([[int(ch) for ch in r] for r in rows])\n",
    "\n",
    "# Error syndrome matrix\n",
    "def fn_h(v_y):\n",
    "    return H*v_y\n",
    "\n",
    "[\n",
    "    H*G,\n",
    "    H_sym*G_sym,  # 2 represents 0 in GF(2)\n",
    "]"
   ]
  },
  {
   "cell_type": "code",
   "execution_count": 72,
   "metadata": {},
   "outputs": [
    {
     "name": "stdout",
     "output_type": "stream",
     "text": [
      "\n",
      "   0 1 2\n",
      "--------\n",
      " one 0 0\n",
      "\n",
      " 0 1 2 3 4   5 6\n",
      "----------------\n",
      " 0 0 0 0 0 one 0\n"
     ]
    }
   ],
   "source": [
    "# 4.14.5 find_error\n",
    "# insight: the column are all unique\n",
    "e = list2vec([0, 0, 0, 1, 0, 0, 0])\n",
    "print(H*e)\n",
    "\n",
    "def find_error(error_syndrome):\n",
    "    \"\"\"vec<3> -> vec<7>\"\"\"\n",
    "    cols = mat2coldict(H)\n",
    "    errors = [i for i, col in cols.items() if col == error_syndrome]\n",
    "    if errors:\n",
    "        error_i = errors[0]\n",
    "        e = [zero] * 7\n",
    "        e[error_i] = one\n",
    "    else:\n",
    "        e = [zero] * 7\n",
    "\n",
    "    return list2vec(e)\n",
    "\n",
    "print(find_error(list2vec([one, one, zero])))"
   ]
  },
  {
   "cell_type": "code",
   "execution_count": 20,
   "metadata": {},
   "outputs": [
    {
     "data": {
      "text/plain": [
       "[Vec({0, 1, 2, 3, 4, 5, 6},{0: one, 1: 0, 2: one, 3: one, 4: 0, 5: one, 6: one}),\n",
       " Vec({0, 1, 2, 3},{0: 0, 1: one, 2: 0, 3: one})]"
      ]
     },
     "execution_count": 20,
     "metadata": {},
     "output_type": "execute_result"
    }
   ],
   "source": [
    "# 4.14.6\n",
    "c_hat = list2vec([togf2(ch) for ch in list(\"1011011\")])\n",
    "R = listlist2mat(R_sym.tolist())\n",
    "def correct(msg):\n",
    "    error = find_error(H*msg)\n",
    "    return R*(msg + error)\n",
    "\n",
    "[\n",
    "    c_hat,\n",
    "    correct(c_hat),\n",
    "]"
   ]
  },
  {
   "cell_type": "code",
   "execution_count": 35,
   "metadata": {},
   "outputs": [
    {
     "data": {
      "text/plain": [
       "Mat(({0, 1, 2, 3, 4, 5, 6}, {0, 1}), {(0, 0): 0, (1, 0): 0, (2, 0): 0, (3, 0): 0, (4, 0): 0, (5, 0): 0, (6, 0): one, (0, 1): one, (1, 1): 0, (2, 1): 0, (3, 1): 0, (4, 1): 0, (5, 1): 0, (6, 1): 0})"
      ]
     },
     "execution_count": 35,
     "metadata": {},
     "output_type": "execute_result"
    }
   ],
   "source": [
    "# 4.14.7\n",
    "def find_error_matrix(S):\n",
    "    return coldict2mat({i: find_error(col) for i, col in mat2coldict(S).items()})\n",
    "\n",
    "find_error_matrix(listlist2mat([[one, zero], [one, zero], [one, one]]))"
   ]
  },
  {
   "cell_type": "code",
   "execution_count": 40,
   "metadata": {},
   "outputs": [
    {
     "data": {
      "text/plain": [
       "'def correct(msg):\\n    error = find_error(H*msg)\\n    return R*(msg + error)\\n'"
      ]
     },
     "execution_count": 40,
     "metadata": {},
     "output_type": "execute_result"
    }
   ],
   "source": [
    "# Task 4.14.8\n",
    "from book.bitutil import *\n",
    "import inspect\n",
    "code = inspect.getsource(correct)\n",
    "\n",
    "bits2str(\n",
    "    str2bits(code)\n",
    ")"
   ]
  },
  {
   "cell_type": "code",
   "execution_count": 46,
   "metadata": {},
   "outputs": [
    {
     "data": {
      "text/plain": [
       "'def correct(msg):\\n    error = find_error(H*msg)\\n    return R*(msg + error)\\n'"
      ]
     },
     "execution_count": 46,
     "metadata": {},
     "output_type": "execute_result"
    }
   ],
   "source": [
    "# Task 4.14.9/10\n",
    "bits2str(\n",
    "    mat2bits(\n",
    "        bits2mat(\n",
    "            str2bits(\n",
    "                code))))"
   ]
  },
  {
   "cell_type": "code",
   "execution_count": 48,
   "metadata": {},
   "outputs": [
    {
     "data": {
      "text/plain": [
       "'def correct(msg):\\x0e \\xa0  error = find_error(H*msg)\\n$`  vmturn Rª(mwg + error)\\n'"
      ]
     },
     "execution_count": 48,
     "metadata": {},
     "output_type": "execute_result"
    }
   ],
   "source": [
    "# 4.14.11\n",
    "P = bits2mat(str2bits(code)) \n",
    "E = noise(P, 0.02)\n",
    "bits2str(mat2bits(P + E))"
   ]
  },
  {
   "cell_type": "code",
   "execution_count": 59,
   "metadata": {},
   "outputs": [
    {
     "data": {
      "text/plain": [
       "[600, 1050]"
      ]
     },
     "execution_count": 59,
     "metadata": {},
     "output_type": "execute_result"
    }
   ],
   "source": [
    "# 4.14.12\n",
    "C = G * P\n",
    "[\n",
    "    # before\n",
    "    len(P.D[0]) * len(P.D[1]),\n",
    "    # after\n",
    "    len(C.D[0]) * len(C.D[1]),\n",
    "]"
   ]
  },
  {
   "cell_type": "code",
   "execution_count": 63,
   "metadata": {},
   "outputs": [
    {
     "data": {
      "text/plain": [
       "'def gorrect(irg(:\\n (  error = findOerrkr(H*msw)\\n   (return R*(Msg + error!\\x8a'"
      ]
     },
     "execution_count": 63,
     "metadata": {},
     "output_type": "execute_result"
    }
   ],
   "source": [
    "# 4.14.13\n",
    "C_TILDE = C + noise(C, 0.02)\n",
    "bits2str(mat2bits(R*C_TILDE))"
   ]
  },
  {
   "cell_type": "code",
   "execution_count": 74,
   "metadata": {},
   "outputs": [
    {
     "data": {
      "text/plain": [
       "'def correct(mvg):\\n    error = find_error(H*msg)\\n    return R*(msg + error)\\n'"
      ]
     },
     "execution_count": 74,
     "metadata": {},
     "output_type": "execute_result"
    }
   ],
   "source": [
    "# 4.14.14/15\n",
    "def correct(A):\n",
    "    return coldict2mat({i: col + find_error(H*col) for i, col in mat2coldict(A).items()})\n",
    "bits2str(mat2bits(R*correct(C_TILDE)))"
   ]
  },
  {
   "cell_type": "code",
   "execution_count": 97,
   "metadata": {},
   "outputs": [
    {
     "data": {
      "text/plain": [
       "[0.1, 1.6, 1.5, 3.3, 6.4, 10.2, 12.4, 12.5, 17.3, 19.3]"
      ]
     },
     "execution_count": 97,
     "metadata": {},
     "output_type": "execute_result"
    }
   ],
   "source": [
    "def char_diff(str1, str2):\n",
    "    diff = 0\n",
    "    for i in range(min(len(str1), len(str2))):\n",
    "        if str1[i] != str2[i]:\n",
    "            diff += 1\n",
    "    diff += abs(len(str1) - len(str2))\n",
    "    return diff\n",
    "    \n",
    "def exp(N=10, p=0.02):\n",
    "    diff = 0.0\n",
    "    for _ in range(N):\n",
    "        P = bits2mat(str2bits(code))\n",
    "        C = G * P\n",
    "        C_TILDE = C + noise(C, p)\n",
    "        bits2str(mat2bits(R*C_TILDE))\n",
    "        received = bits2str(mat2bits(R*correct(C_TILDE)))\n",
    "        diff += char_diff(code, received)\n",
    "    return diff/N\n",
    "\n",
    "[exp(p=p/100) for p in range(1, 11)]\n"
   ]
  }
 ],
 "metadata": {
  "kernelspec": {
   "display_name": "base",
   "language": "python",
   "name": "python3"
  },
  "language_info": {
   "codemirror_mode": {
    "name": "ipython",
    "version": 3
   },
   "file_extension": ".py",
   "mimetype": "text/x-python",
   "name": "python",
   "nbconvert_exporter": "python",
   "pygments_lexer": "ipython3",
   "version": "3.10.8"
  },
  "orig_nbformat": 4
 },
 "nbformat": 4,
 "nbformat_minor": 2
}
