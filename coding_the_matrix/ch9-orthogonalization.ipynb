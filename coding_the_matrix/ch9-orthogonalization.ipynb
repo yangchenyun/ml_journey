{
 "cells": [
  {
   "attachments": {},
   "cell_type": "markdown",
   "metadata": {},
   "source": [
    "# Chapter 9 Orthogonalization\n",
    "\n",
    "Find closest point in the span of several vectors.\n",
    "Find x to minimize: |b − Ax|\n",
    "\n",
    "The section shows using loop invariant to prove certain property of the outcome with induction.\n",
    "\n",
    "## Definition 9.1.1\n",
    "A vector v is orthogonal to a set S of vectors if v is orthogonal to every vector in S.\n",
    "\n",
    "### Lemma 9.1.3\n",
    "A vector v is orthogonal to each of the vectors a1,...,an if and only if it is orthogonal to every vector in Span {a1 , . . . , an }.\n",
    "\n",
    "### Definition - Projection onto / orthogonal to vector space\n",
    "$b = b^{\\Vert V} + b^{\\perp V}$\n",
    "\n",
    "## Computational Problem to find the projection\n",
    "1. Find projections for mutually orthogonal vectors\n",
    "2. Find those orthogonal vectors in vector space (use #1)\n",
    "\n",
    "### Lemma 9.1.6 (Generalized Fire Engine Lemma): \n",
    "Let V be a vector space, and let b be a vector. \n",
    "The point in V closest to b is $b\\perp V$, and the distance is $\\Vert{b \\perp V}\\Vert$\n",
    "\n",
    "Computation requires a list of mutually orthogonal vectors, and computes project_along.\n",
    "\n",
    "### Theorem 9.2.3\n",
    "For a vector b and a list vlist of mutually orthogonal vectors, the procedure project_orthogonal(b,vlist) returns a vector b⊥ such that b⊥ is orthogonal to the vectors in vlist and b − b⊥ is in the span of the vectors in vlist.\n",
    "\n",
    "### Lemma 9.2.4 [Loop Invariant for project orthogonal]\n",
    "Let k =len(vlist). For i = 0, . . . , k, let bi be the value of the variable b after i iterations.  Then :\n",
    "- bi is orthogonal to the first i vectors of vlist, and \n",
    "- b−bi is in the span of the first i vectors of vlist\n",
    "\n",
    "### Lemma 9.3.5 Gram-Schmidt orthogonalization\n",
    "Consider orthogonalize applied to an n-element list [v1, . . . , vn]. After i iterations of the algorithm, Span vstarlist = Span {v1 , . . . , vi }.\n",
    "\n",
    "## Application of the orthogonalization\n",
    "### Proposition 9.5.1: Mutually orthogonal nonzero vectors are linearly independent, which leads to\n",
    "\n",
    "- [Solved] Computational Problem 5.10.1: finding a basis of the vector space spanned by given vectors.\n",
    "- [Solved] Computational Problem 5.5.5: testing whether vectors v1, . . . , vn are linearly dependent.\n",
    "- [Solved] Computing a subset basis\n",
    "\n",
    "Be aware of rounding errors and episilons.\n",
    "\n",
    "## Orthogonal complement\n",
    "\n",
    "### Definition 9.6.1\n",
    "Let W be a vector space over the ℝ, and let U be a subspace of W. \n",
    "The __orthogonal complement of U__ with respect to W is defined to be the set V such that\n",
    "\n",
    "V = { w ∈ W : w is orthogonal to ∀ u ∈ U }\n",
    "\n",
    "### Lemma 9.6.2: V is __a subspace__ of W.\n",
    "- V is a subset of W (by definition)\n",
    "- V is vector space\n",
    "\n",
    "Thus dim U + dim V = dim W\n",
    "\n",
    "### Lemma 9.6.4\n",
    "Let V be the orthogonal complement of U with respect to W. The only vector in U ∩ V is the zero vector.\n",
    "\n",
    "### Lemma 9.6.5  Orthogonal and direct sum\n",
    "Orthogonal complement and complementary subspaces\n",
    "\n",
    "If the orthogonal complement of U with respect to W is V then U⊕V=W\n",
    "\n",
    "### Lemma, orthogonal space is the annihilator\n",
    "The orthogonal complement of U in ℝᶜ is the annihilator Uᵒ\n",
    "\n",
    "### Compute the orthogonal complement !!!\n",
    "Orthogonalize the basis in U + W, use corresponding non-zero basis for W to form the basis for span {W}.\n",
    "\n",
    "The basis in W which is in the span U, would be converted to zero.\n",
    "\n",
    "### Normal vector to a plane defined by equation\n",
    "the word \"normal\" refers to a vector that is perpendicular (i.e., at a right angle) to the plane. The term \"normal vector\" is often used to refer to this vector.\n",
    "\n",
    "Every plane in three-dimensional space has a unique normal vector, and vice versa. \n",
    "\n",
    "When a plane is defined with {[x, y, z] ∈ ℝ³ : [a, b, c] ∙ [x, y, z] = d}:\n",
    "The normal to plane is in the Span [a, b, c].\n",
    "\n",
    "Proofs:\n",
    "Translate the plane and the normal is the same {[x, y, z] ∈ ℝ³ : [a, b, c] ∙ [x, y, z] = 0}\n",
    "Let U = span [a, b, c], the solution is [x, y, z] is U⁰\n",
    "The normal to [x, y, z] is the (U⁰)⁰ = U\n",
    "Thus, [a, b, c] is one normal vector.\n",
    "\n",
    "## QR Matrix Factorization\n",
    "### Definition 9.7.1 orthonomal\n",
    "Mutually orthogonal vectors are said to be orthonormal if they all have norm 1. \n",
    "\n",
    "### Definition 9.7.1 orthogonal matrix\n",
    "A matrix is said to be column-orthogonal if the columns are orthonormal. \n",
    "A square column-orthogonal matrix is said to be __an orthogonal matrix__.\n",
    "\n",
    "### Lemma 9.7.2 Qᵀ == Q⁻¹\n",
    "If Q is a column-orthogonal matrix then QᵀQ is an identity matrix.\n",
    "\n",
    "### Corollary 9.7.3 (Inverse of Orthogonal Matrix): \n",
    "If Q is an orthogonal matrix then its inverse is Qᵀ\n",
    "\n",
    "## QR factorization\n",
    "\n",
    "### Definition 9.7.4 QR factorization\n",
    "The QR factorization of an m × n matrix A (where m ≥ n) is A = QR \n",
    "where Q is an m × n column-orthogonal matrix Q and R is a triangular matrix.\n",
    "\n",
    "Conditions: A is linear dependent.\n",
    "The diagonal elements of R are nonzero. \n",
    "\n",
    "### Lemma 9.7.5\n",
    "In the QR factorization of A, if A’s columns are linearly independent then Col Q = Col A.\n",
    "\n",
    "### Solving Linear Equation\n",
    "- the field is R,\n",
    "- the columns of A are linearly independent, and\n",
    "- A is square.\n",
    "\n",
    "### Theorem 9.8.1\n",
    "Ax = b, could be solved with triangular equation: Rx = Qᵀb\n",
    "\n",
    "### When A is not a square\n",
    "fₐ: ℝᶜ → ℝᴿ: fₐ(x) = Ax\n",
    "|R| > |C|, so fₐ is not onto.  Therefore there are vectors in the co-domain that are not in the image.\n",
    "\n",
    "This is the case of modeling, using low dimensions to predict high dimensions:\n",
    "\n",
    "- finding the closest vector to b among the linear combinations of the columns of A, and\n",
    "- finding the coefficients with which we can express that closest vector as such a linear combination.\n",
    "\n",
    "### Lemma 9.8.3\n",
    "Let Q be a column-orthogonal basis, and let V = Col Q. Then, for any vector b whose domain equals Q’s row-label set, \n",
    "Qᵀb is the coordinate representation of b||V in terms of the columns of Q, and QQᵀ b is b||V itself.\n",
    "\n",
    "### QRSolve solves Least squares\n",
    "A vector x that minimizes ∥Ax − b∥, it is equivalent of finding b||v"
   ]
  },
  {
   "cell_type": "code",
   "execution_count": 2,
   "metadata": {},
   "outputs": [
    {
     "data": {
      "text/plain": [
       "[True,\n",
       " True,\n",
       " False,\n",
       " Vec({0, 1, 2},{0: 0.6666666666666665, 1: -0.6666666666666667, 2: 0.6666666666666665}),\n",
       " Vec({0, 1, 2},{0: 1.0, 1: 0.0, 2: 0.0})]"
      ]
     },
     "execution_count": 2,
     "metadata": {},
     "output_type": "execute_result"
    }
   ],
   "source": [
    "from ch5_problem import accept_list\n",
    "from book.orthogonalization import *\n",
    "from math import sqrt\n",
    "import itertools\n",
    "\n",
    "@accept_list\n",
    "def is_orthogonal(*vlist):\n",
    "    for pair in itertools.combinations(vlist, 2):\n",
    "        if pair[0]*pair[1] != 0:\n",
    "            return False\n",
    "    return True\n",
    "\n",
    "@accept_list\n",
    "def project_orthogonal(b, vlist):\n",
    "    \"\"\"Requires vlist are mutually orthogonal.\"\"\"\n",
    "    for v in vlist:\n",
    "        b = b - project_along(b, v)\n",
    "    return b\n",
    "\n",
    "[\n",
    "    is_orthogonal([1, 2, 1], [-1, 0, 1]),\n",
    "    is_orthogonal([0, 2, 2], [0, 1, -1]),\n",
    "    is_orthogonal([1, 0], [sqrt(2)/2, sqrt(2)/2]),\n",
    "    project_orthogonal([1, 1, 2], [[1, 2, 1], [-1, 0, 1]]),\n",
    "    # problem 9.2.2\n",
    "    project_orthogonal([1, 1, 1], [[0, 2, 2], [0, 1, -1]])\n",
    "]"
   ]
  },
  {
   "cell_type": "code",
   "execution_count": 3,
   "metadata": {},
   "outputs": [
    {
     "data": {
      "text/plain": [
       "[(Vec({0, 1, 2},{0: 0.6666666666666665, 1: -0.6666666666666667, 2: 0.6666666666666665}),\n",
       "  {2: 1, 0: 0.8333333333333334, 1: 0.49999999999999994}),\n",
       " (Vec({0, 1, 2},{0: 1.0, 1: 0.0, 2: 0.0}), {2: 1, 0: 0.5, 1: 0.0})]"
      ]
     },
     "execution_count": 3,
     "metadata": {},
     "output_type": "execute_result"
    }
   ],
   "source": [
    "from book.matutil import *\n",
    "from copy import copy\n",
    "\n",
    "# to compute the sigmas\n",
    "@accept_list\n",
    "def aug_project_orthogonal(b, vlist, eps = 1E-20):\n",
    "    b0 = copy(b)\n",
    "    σdict = {len(vlist):1}\n",
    "    for i,v in enumerate(vlist):\n",
    "        σ = (b*v)/(v*v) if v*v > eps else 0\n",
    "        σdict[i] = σ\n",
    "        b = b - σ*v\n",
    "\n",
    "    # Assert b = [v0, v1, ..., vn, b^] * [σ0, σ1, ..., σn, 1]\n",
    "    assert coldict2mat(vlist + [b]) * Vec(set(σdict.keys()), σdict) == b0\n",
    "    return (b, σdict)\n",
    "\n",
    "[\n",
    "    aug_project_orthogonal([1, 1, 2], [[1, 2, 1], [-1, 0, 1]]),\n",
    "    aug_project_orthogonal([1, 1, 1], [[0, 2, 2], [0, 1, -1]]),\n",
    "]"
   ]
  },
  {
   "cell_type": "code",
   "execution_count": 4,
   "metadata": {},
   "outputs": [
    {
     "data": {
      "text/plain": [
       "[[Vec({0, 1, 2},{0: 2, 1: 0, 2: 0}),\n",
       "  Vec({0, 1, 2},{0: 0.0, 1: 2.0, 2: 2.0}),\n",
       "  Vec({0, 1, 2},{0: 0.0, 1: -1.0, 2: 1.0})],\n",
       " [Vec({0, 1, 2},{0: 1, 1: 0, 2: 2}),\n",
       "  Vec({0, 1, 2},{0: 0.0, 1: 0.0, 2: 0.0}),\n",
       "  Vec({0, 1, 2},{0: 1.6, 1: 0.0, 2: -0.8})]]"
      ]
     },
     "execution_count": 4,
     "metadata": {},
     "output_type": "execute_result"
    }
   ],
   "source": [
    "@accept_list\n",
    "def orthogonalize(vlist):\n",
    "    \"\"\"Requires vlist are mutually orthogonal.\"\"\"\n",
    "    vstarlist = []\n",
    "    for v in vlist:\n",
    "        vstarlist.append(project_orthogonal(v, vstarlist))\n",
    "    return vstarlist\n",
    "\n",
    "[\n",
    "    orthogonalize([[2, 0, 0], [1, 2, 2], [1, 0, 2]]),\n",
    "    orthogonalize([[1, 0, 2], [1, 0, 2], [2, 0, 0]]),\n",
    "]"
   ]
  },
  {
   "cell_type": "code",
   "execution_count": 5,
   "metadata": {},
   "outputs": [],
   "source": [
    "from book.vecutil import *\n",
    "\n",
    "v1, v2 = [[8, -2, 2], [4, 2, 4]]\n",
    "b = [5, -5, 2]\n",
    "\n",
    "# method 1\n",
    "b_prj1 = project_orthogonal(b, orthogonalize([v1, v2]))\n",
    "\n",
    "#method 2\n",
    "b_prj2 = orthogonalize([v1, v2, b])[-1]\n",
    "\n",
    "assert b_prj1 == b_prj2"
   ]
  },
  {
   "cell_type": "code",
   "execution_count": 6,
   "metadata": {},
   "outputs": [],
   "source": [
    "# Helper to make things nicer\n",
    "def round_vec(v):\n",
    "    return Vec(v.D, {k: 0 if abs(v[k]) < 1e-10 else v[k] for k in v.D})\n",
    "\n",
    "# function which accepts list or tuple and recursively round all the Vec objects if any\n",
    "def round_vec_object(obj):\n",
    "    if isinstance(obj, Vec):\n",
    "        return round_vec(obj)\n",
    "    elif isinstance(obj, list):\n",
    "        return [round_vec_object(o) for o in obj]\n",
    "    elif isinstance(obj, tuple):\n",
    "        return tuple([round_vec_object(o) for o in obj])\n",
    "    else:\n",
    "        return obj\n",
    "\n",
    "def round_vec_list_wrapper(fn):\n",
    "    def wrapper(*args, **kwargs):\n",
    "        return round_vec_object(fn(*args, **kwargs))\n",
    "    return wrapper\n",
    "\n",
    "@round_vec_list_wrapper\n",
    "def aug_orthogonalize(vlist):\n",
    "    vstarlist = []\n",
    "    sigma_vecs = []\n",
    "    D = set(range(len(vlist)))\n",
    "    for v in vlist:\n",
    "        (vstar, sigmadict)= aug_project_orthogonal(v, vstarlist)\n",
    "        vstarlist.append(vstar)\n",
    "        sigma_vecs.append(Vec(D, sigmadict))\n",
    "    return vstarlist, sigma_vecs"
   ]
  },
  {
   "cell_type": "code",
   "execution_count": 7,
   "metadata": {},
   "outputs": [
    {
     "data": {
      "text/plain": [
       "([Vec({0, 1, 2, 3},{0: -4, 1: 3, 2: 1, 3: -2}),\n",
       "  Vec({0, 1, 2, 3},{0: 0.5333333333333332, 1: 0.10000000000000009, 2: 2.3666666666666667, 3: 0.2666666666666666}),\n",
       "  Vec({0, 1, 2, 3},{0: 0.41899441340782123, 1: 0.3910614525139665, 2: -0.07821229050279327, 3: -0.29050279329608936}),\n",
       "  Vec({0, 1, 2, 3},{0: 0, 1: 0.33333333333333315, 2: -0.06666666666666665, 3: 0.46666666666666673}),\n",
       "  Vec({0, 1, 2, 3},{0: 0, 1: 0, 2: 0, 3: 0}),\n",
       "  Vec({0, 1, 2, 3},{0: 0, 1: 0, 2: 0, 3: 0})],\n",
       " [Vec({0, 1, 2, 3, 4, 5},{0: 1, 1: 0, 2: 0, 3: 0, 4: 0, 5: 0}),\n",
       "  Vec({0, 1, 2, 3, 4, 5},{0: 0.6333333333333333, 1: 1, 2: 0, 3: 0, 4: 0, 5: 0}),\n",
       "  Vec({0, 1, 2, 3, 4, 5},{0: -0.13333333333333333, 1: 0.08938547486033518, 2: 1, 3: 0, 4: 0, 5: 0}),\n",
       "  Vec({0, 1, 2, 3, 4, 5},{0: 0.1, 1: 0.016759776536312842, 2: 0.9333333333333337, 3: 1, 4: 0, 5: 0}),\n",
       "  Vec({0, 1, 2, 3, 4, 5},{0: 0.03333333333333333, 1: 0.3966480446927375, 2: -0.18666666666666673, 3: -0.2, 4: 1, 5: 0}),\n",
       "  Vec({0, 1, 2, 3, 4, 5},{0: -0.06666666666666667, 1: 0.044692737430167606, 2: -0.6933333333333334, 3: 1.4000000000000004, 4: 0, 5: 1})])"
      ]
     },
     "execution_count": 7,
     "metadata": {},
     "output_type": "execute_result"
    }
   ],
   "source": [
    "# problem 9.11.1\n",
    "U = [[0, 0, 3, 2]]\n",
    "W = [[1, 2, -3, -1], [1, 2, 0, 1], [3, 1, 0, -1], [-1, -2, 3, 1]]\n",
    "\n",
    "# Non zero orghogonal basis of W\n",
    "aug_orthogonalize(U+W)[0]\n",
    "\n",
    "U = [[3, 0, 1]]\n",
    "W = [[1, 0, 0], [1, 0, 1]]\n",
    "aug_orthogonalize(U+W)[0]\n",
    "\n",
    "generators = lambda N: list(list([1 if i == j else 0 for i in range(N)]) for j in range(N))\n",
    "U = [[-4, 3, 1, -2], [-2, 2, 3, -1]]\n",
    "W = generators(4)\n",
    "\n",
    "aug_orthogonalize(U+W)"
   ]
  },
  {
   "cell_type": "code",
   "execution_count": 8,
   "metadata": {},
   "outputs": [
    {
     "data": {
      "text/plain": [
       "(Vec({0, 1},{0: 0, 1: 0}), Vec({0, 1},{0: 0, 1: 0}))"
      ]
     },
     "execution_count": 8,
     "metadata": {},
     "output_type": "execute_result"
    }
   ],
   "source": [
    "# Problem 9.11.3\n",
    "# Finding X = [x1, x2, x3, x4] such that AX = 0\n",
    "# Thinking about dot product, x ∈ X is orthogonal to __all rows of A__.\n",
    "# It is equivalent to find the orgthogonal complement for rows of A.\n",
    "U = [[-4, -1, -3, -2], [0, 4, 0, -1]]\n",
    "W = generators(4)\n",
    "x_a, x_b = aug_orthogonalize(U+W)[0][2:4]\n",
    "A = listlist2mat(U) \n",
    "round_vec_object((A*x_a, A*x_b))"
   ]
  },
  {
   "cell_type": "code",
   "execution_count": 9,
   "metadata": {},
   "outputs": [
    {
     "data": {
      "text/plain": [
       "[Vec({0, 1, 2, 3},{0: 0.7302967433402214, 1: 0.5477225575051661, 2: 0.18257418583505536, 3: 0.3651483716701107}),\n",
       " Vec({0, 1, 2, 3},{0: 0.1867707814860146, 1: 0.4027244975792189, 2: -0.5661489313794816, 3: -0.6945538436511166}),\n",
       " Vec({0, 1, 2, 3},{0: 0.5275409009423367, 1: -0.6531216993058959, 2: -0.5123087286340884, 3: 0.18075511139121447})]"
      ]
     },
     "execution_count": 9,
     "metadata": {},
     "output_type": "execute_result"
    }
   ],
   "source": [
    "# Problam 9.11.9\n",
    "def orthonormalization(L):\n",
    "    return [v/sqrt(v*v) for v in orthogonalize(L)]\n",
    "\n",
    "orthonormalization([[4, 3, 1, 2], [8, 9, -5, -5], [10, 1, -1, 5]])"
   ]
  },
  {
   "cell_type": "code",
   "execution_count": 10,
   "metadata": {},
   "outputs": [
    {
     "name": "stdout",
     "output_type": "stream",
     "text": [
      "\n",
      "           0      1      2\n",
      "     ---------------------\n",
      " 0  |   0.73  0.187  0.528\n",
      " 1  |  0.548  0.403 -0.653\n",
      " 2  |  0.183 -0.566 -0.512\n",
      " 3  |  0.365 -0.695  0.181\n",
      "\n",
      "\n",
      "          0    1      2\n",
      "     ------------------\n",
      " 0  |  5.48 8.03   9.49\n",
      " 1  |     0 11.4 -0.636\n",
      " 2  |     0    0   6.04\n",
      "\n",
      "\n",
      "       0  1  2\n",
      "     ---------\n",
      " 0  |  4  8 10\n",
      " 1  |  3  9  1\n",
      " 2  |  1 -5 -1\n",
      " 3  |  2 -5  5\n",
      "\n",
      "\n",
      "               0 1        2\n",
      "     ----------------------\n",
      " 0  |  -4.44E-16 0        0\n",
      " 1  |          0 0 4.44E-16\n",
      " 2  |  -1.11E-16 0        0\n",
      " 3  |  -2.22E-16 0        0\n",
      "\n"
     ]
    }
   ],
   "source": [
    "from book.mat import sparse_keys\n",
    "\n",
    "def approx_equal(A, B, eps=1e-9):\n",
    "    assert A.D == B.D\n",
    "    domain_equal = A.D[0] == B.D[0] and A.D[1] == B.D[1]\n",
    "    return domain_equal and all(\n",
    "            abs(A[k] - B[k]) < eps for k in sparse_keys(A, B))\n",
    "\n",
    "@accept_list\n",
    "def aug_orthonormalize(L):\n",
    "    vstarlist, sigma_vecs = aug_orthogonalize(L)\n",
    "\n",
    "    # NOTE: the conversion is sort of ugly..\n",
    "    sigma_rows = list(mat2rowdict((coldict2mat(sigma_vecs))).values())\n",
    "    Qlist, R_row_list = zip(*[(v/sqrt(v*v), sqrt(v*v)*sigma) for v, sigma in zip(vstarlist, sigma_rows)])\n",
    "    Rlist = list(mat2coldict((rowdict2mat(R_row_list))).values())\n",
    "    Qlist = list(Qlist)\n",
    "\n",
    "    assert approx_equal((coldict2mat(Qlist) * coldict2mat(Rlist)), coldict2mat(L))\n",
    "    return Qlist, Rlist\n",
    "\n",
    "L = [list2vec(v) for v in [[4,3,1,2],[8,9,-5,-5],[10,1,-1,5]]]\n",
    "Qlist, Rlist = aug_orthonormalize(L)\n",
    "print(coldict2mat(Qlist))\n",
    "print(coldict2mat(Rlist))\n",
    "print(coldict2mat(Qlist)*coldict2mat(Rlist))\n",
    "print(coldict2mat(Qlist)*coldict2mat(Rlist)-coldict2mat(L))"
   ]
  },
  {
   "cell_type": "code",
   "execution_count": 11,
   "metadata": {},
   "outputs": [
    {
     "data": {
      "text/plain": [
       "[([Vec({0, 1, 2},{0: 0.6666666666666666, 1: 0.6666666666666666, 2: 0.3333333333333333}),\n",
       "   Vec({0, 1, 2},{0: 0.7071067811865475, 1: -0.7071067811865475, 2: 0.0})],\n",
       "  [Vec({0, 1},{0: 3.0, 1: 0.0}), Vec({0, 1},{0: 3.0, 1: 1.4142135623730951})])]"
      ]
     },
     "execution_count": 11,
     "metadata": {},
     "output_type": "execute_result"
    }
   ],
   "source": [
    "# problem 9.11.11\n",
    "[\n",
    "    # aug_orthonormalize([[6, 2, 3], [6, 0, 3]]),\n",
    "    aug_orthonormalize([[2, 2, 1], [3, 1, 1]])\n",
    "]"
   ]
  },
  {
   "cell_type": "code",
   "execution_count": 12,
   "metadata": {},
   "outputs": [
    {
     "name": "stdout",
     "output_type": "stream",
     "text": [
      "\n",
      "        A  B\n",
      "     -------\n",
      " a  |  -1  2\n",
      " b  |   5  3\n",
      " c  |   1 -2\n",
      "\n",
      "\n",
      " a  b c\n",
      "-------\n",
      " 1 -1 0\n",
      "\n",
      "      A     B\n",
      "-------------\n",
      " -0.269 0.115\n"
     ]
    },
    {
     "data": {
      "text/plain": [
       "Vec({'B', 'A'},{'A': -2.220446049250313e-16, 'B': 4.440892098500626e-16})"
      ]
     },
     "execution_count": 12,
     "metadata": {},
     "output_type": "execute_result"
    }
   ],
   "source": [
    "from book.triangular import triangular_solve\n",
    "from book.dictutil import dict2list, list2dict\n",
    "\n",
    "def QR_solve(A, b):\n",
    "    col_labels = sorted(A.D[1], key=repr)\n",
    "    Acols = dict2list(mat2coldict(A), col_labels)\n",
    "    Qlist, Rlist = aug_orthonormalize(Acols)\n",
    "\n",
    "    Q = coldict2mat(Qlist)\n",
    "    R = coldict2mat(list2dict(Rlist, col_labels))\n",
    "\n",
    "    return triangular_solve(mat2rowdict(R), col_labels, Q.transpose()*b)\n",
    "\n",
    "A=Mat(({'a','b','c'},{'A','B'}), {('a','A'):-1, ('a','B'):2, ('b','A'):5, ('b','B'):3,('c','A'):1, ('c','B'):-2})\n",
    "b = Vec({'a','b','c'}, {'a':1,'b':-1})\n",
    "print(A)\n",
    "print(b)\n",
    "x = QR_solve(A,b)\n",
    "print(x)\n",
    "A.transpose()*(b-A*x)"
   ]
  }
 ],
 "metadata": {
  "kernelspec": {
   "display_name": "base",
   "language": "python",
   "name": "python3"
  },
  "language_info": {
   "codemirror_mode": {
    "name": "ipython",
    "version": 3
   },
   "file_extension": ".py",
   "mimetype": "text/x-python",
   "name": "python",
   "nbconvert_exporter": "python",
   "pygments_lexer": "ipython3",
   "version": "3.10.8"
  },
  "orig_nbformat": 4
 },
 "nbformat": 4,
 "nbformat_minor": 2
}
