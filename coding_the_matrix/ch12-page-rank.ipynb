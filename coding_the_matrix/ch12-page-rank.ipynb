{
 "cells": [
  {
   "cell_type": "code",
   "execution_count": 3,
   "metadata": {},
   "outputs": [],
   "source": [
    "from importlib import reload\n",
    "import book.pagerank_test as pt\n",
    "import book.pagerank as pr\n",
    "from book.mat import *\n",
    "from book.vec import *"
   ]
  },
  {
   "cell_type": "code",
   "execution_count": 86,
   "metadata": {},
   "outputs": [
    {
     "name": "stdout",
     "output_type": "stream",
     "text": [
      "Reading word meta-index\n",
      "Reading titles\n",
      "Reading link structure\n",
      "..................................................................................\n",
      "Done\n"
     ]
    }
   ],
   "source": [
    "links = pr.read_data()"
   ]
  },
  {
   "cell_type": "code",
   "execution_count": 7,
   "metadata": {},
   "outputs": [],
   "source": [
    "def find_num_links(L):\n",
    "    result = Vec(L.D[1], {})\n",
    "    for k, v in L.f.items():\n",
    "        r, c = k\n",
    "        result[c] += 1\n",
    "    return result\n",
    "\n",
    "num_links = find_num_links(links)"
   ]
  },
  {
   "cell_type": "code",
   "execution_count": 33,
   "metadata": {},
   "outputs": [],
   "source": [
    "def make_Markov(L):\n",
    "    num_links = find_num_links(L)\n",
    "    for k, v in L.f.items():\n",
    "        r, c = k\n",
    "        L[k] = v / num_links[c]\n",
    "    return L"
   ]
  },
  {
   "cell_type": "code",
   "execution_count": 40,
   "metadata": {},
   "outputs": [
    {
     "name": "stdout",
     "output_type": "stream",
     "text": [
      "\n",
      "       1 2 3   4     5   6\n",
      "     ---------------------\n",
      " 1  |  1 0 0 0.5     0   0\n",
      " 2  |  0 0 1 0.5 0.333 0.5\n",
      " 3  |  0 1 0   0     0   0\n",
      " 4  |  0 0 0   0 0.333   0\n",
      " 5  |  0 0 0   0     0 0.5\n",
      " 6  |  0 0 0   0 0.333   0\n",
      "\n"
     ]
    }
   ],
   "source": [
    "reload(pt)\n",
    "print(make_Markov(pt.small_links))"
   ]
  },
  {
   "cell_type": "code",
   "execution_count": 136,
   "metadata": {},
   "outputs": [
    {
     "name": "stdout",
     "output_type": "stream",
     "text": [
      "A.shape = (6, 6)\n"
     ]
    },
    {
     "data": {
      "text/plain": [
       "Vec({1, 2, 3, 4, 5, 6},{1: 0.5220380979609003, 2: 0.6181468460343382, 3: 0.5738401443097172, 4: 0.07052093604033213, 5: 0.07830571469413503, 6: 0.07052093604033213})"
      ]
     },
     "execution_count": 136,
     "metadata": {},
     "output_type": "execute_result"
    }
   ],
   "source": [
    "import math\n",
    "\n",
    "def power_method(A, k, x_0=None, verbose=True):\n",
    "    r1 = 0.85\n",
    "    r2 = 0.15\n",
    "    shape = (len(A.D[0]), len(A.D[1]))\n",
    "    print(f\"A.shape = {shape}\")\n",
    "    x = x_0 or Vec(A.D[1], {i:1 for i in A.D[1]})\n",
    "    # A2_r = Vec(A.D[1], {i:1.0/shape[0] for i in A.D[1]})\n",
    "    # Implicit computes Ax = A_1x + A_2x, leverage A2 is uniform\n",
    "    for i in range(k):\n",
    "        A2_r_x = 1.0/shape[0] * sum(x.f.values())\n",
    "        x = r1 * A * x\n",
    "        for j in x.f.keys(): \n",
    "            x[j] += r2 * A2_r_x\n",
    "        x /= math.sqrt(x*x)\n",
    "        if verbose:\n",
    "            print(f\"Iteration {i} finished.\")\n",
    "    return x\n",
    "\n",
    "reload(pt)\n",
    "make_Markov(pt.small_links)\n",
    "A1 = pt.small_links # in-place update\n",
    "\n",
    "x_t = power_method(A1, 50, None, False)\n",
    "x_t"
   ]
  },
  {
   "cell_type": "code",
   "execution_count": 104,
   "metadata": {},
   "outputs": [
    {
     "data": {
      "text/plain": [
       "['alabama',\n",
       " 'altruism',\n",
       " 'asphalt',\n",
       " 'arabic language',\n",
       " 'attila the hun',\n",
       " 'alexander graham bell',\n",
       " 'albert speer',\n",
       " 'aaron',\n",
       " 'april 6',\n",
       " 'april 12']"
      ]
     },
     "execution_count": 104,
     "metadata": {},
     "output_type": "execute_result"
    }
   ],
   "source": [
    "pr.find_word(\"jordan\")[:10]"
   ]
  },
  {
   "cell_type": "code",
   "execution_count": 105,
   "metadata": {},
   "outputs": [],
   "source": [
    "global_find_word = pr.find_word\n",
    "def wikigoogle(w, k, p):\n",
    "    related = global_find_word(w)\n",
    "    # Why sort on eigen values, what's the meaning of eigen values magnitude?\n",
    "    related.sort(key= lambda x:p[x], reverse=True)\n",
    "    return related[:k]"
   ]
  },
  {
   "cell_type": "code",
   "execution_count": 137,
   "metadata": {},
   "outputs": [
    {
     "name": "stdout",
     "output_type": "stream",
     "text": [
      "A.shape = (825081, 825081)\n",
      "Iteration 0 finished.\n",
      "Iteration 1 finished.\n",
      "Iteration 2 finished.\n",
      "Iteration 3 finished.\n",
      "Iteration 4 finished.\n",
      "Iteration 5 finished.\n",
      "Iteration 6 finished.\n",
      "Iteration 7 finished.\n",
      "Iteration 8 finished.\n",
      "Iteration 9 finished.\n"
     ]
    }
   ],
   "source": [
    "p = power_method(links, 10, p)"
   ]
  },
  {
   "cell_type": "code",
   "execution_count": 133,
   "metadata": {},
   "outputs": [
    {
     "data": {
      "text/plain": [
       "['france',\n",
       " '2006',\n",
       " 'england',\n",
       " 'india',\n",
       " '2001',\n",
       " '1945',\n",
       " '1944',\n",
       " '1975',\n",
       " '1998',\n",
       " '1979',\n",
       " '1948',\n",
       " '1993',\n",
       " '1985',\n",
       " '1996',\n",
       " '1997',\n",
       " '1937',\n",
       " '1984',\n",
       " '1966',\n",
       " '1962',\n",
       " '1936',\n",
       " '1989',\n",
       " '1990',\n",
       " '1922',\n",
       " '1912',\n",
       " '1959',\n",
       " 'sweden',\n",
       " 'ireland',\n",
       " 'april 1',\n",
       " 'november 11',\n",
       " 'major league baseball',\n",
       " 'february 27',\n",
       " 'february 3',\n",
       " 'march 16',\n",
       " 'july 5',\n",
       " 'july 23',\n",
       " 'nato',\n",
       " 'april 21',\n",
       " 'asia',\n",
       " 'serbia',\n",
       " 'april 20',\n",
       " 'december 30',\n",
       " 'may 3',\n",
       " 'august 14',\n",
       " 'august 31',\n",
       " 'december 20',\n",
       " 'south korea',\n",
       " 'supreme court of the united states',\n",
       " 'indonesia',\n",
       " 'january 25',\n",
       " 'october 3',\n",
       " 'september 27',\n",
       " 'hong kong',\n",
       " 'december 14',\n",
       " 'december 7',\n",
       " 'estonia',\n",
       " 'april 13',\n",
       " 'republic of ireland',\n",
       " 'taiwan',\n",
       " 'malaysia',\n",
       " 'singapore',\n",
       " 'republic of china',\n",
       " 'quebec',\n",
       " 'sri lanka',\n",
       " 'sydney',\n",
       " 'beijing',\n",
       " 'bangladesh',\n",
       " 'national football league',\n",
       " 'dublin',\n",
       " 'red army',\n",
       " 'world series',\n",
       " 'kenya',\n",
       " 'dominican republic',\n",
       " 'south carolina',\n",
       " 'michigan',\n",
       " 'baghdad',\n",
       " 'new york yankees',\n",
       " 'new south wales',\n",
       " 'melbourne',\n",
       " 'united states marine corps',\n",
       " 'terrorism',\n",
       " 'harry s. truman',\n",
       " 'golf',\n",
       " 'southeast asia',\n",
       " 'academy award for best picture',\n",
       " 'detroit, michigan',\n",
       " 'columbia university',\n",
       " 'belfast',\n",
       " 'southern united states',\n",
       " 'academy award',\n",
       " 'boston red sox',\n",
       " 'burma',\n",
       " 'george v of the united kingdom',\n",
       " 'manchuria',\n",
       " 'laos',\n",
       " 'william shakespeare',\n",
       " 'economics',\n",
       " 'east asia',\n",
       " 'guerrilla warfare',\n",
       " 'chiang kai-shek',\n",
       " 'tasmania']"
      ]
     },
     "execution_count": 133,
     "metadata": {},
     "output_type": "execute_result"
    }
   ],
   "source": [
    "wikigoogle(\"tiger\", 100, p)\n",
    "# global_find_word(\"matrix\")[:10]"
   ]
  },
  {
   "cell_type": "code",
   "execution_count": 121,
   "metadata": {},
   "outputs": [
    {
     "data": {
      "text/plain": [
       "Vec({1, 2, 3, 4, 5, 6},{1: 0.23534104242732637, 2: 0.4657101620939841, 3: 0.30963216850927805, 4: 0.19058868994445838, 5: 0.7478024213830594, 6: 0.19058868994445838})"
      ]
     },
     "execution_count": 121,
     "metadata": {},
     "output_type": "execute_result"
    }
   ],
   "source": [
    "# Task 12.12.7\n",
    "def power_method_biased(A, k, r_bias_label=None, verbose=True):\n",
    "    r1 = 0.55\n",
    "    r2 = 0.15\n",
    "    r3 = 0.3\n",
    "    shape = (len(A.D[0]), len(A.D[1]))\n",
    "    x = Vec(A.D[1], {i:1 for i in A.D[1]})\n",
    "    # Implicit computes Ax = A_1x + A_2x + A_3x, A_3 only have value \n",
    "    for i in range(k):\n",
    "        A2_r_x = 1.0/shape[0] * sum(x.f.values())\n",
    "        A3_r_x = sum(x.f.values())\n",
    "        x = r1 * A * x\n",
    "        for j in x.f.keys(): \n",
    "            x[j] += r2 * A2_r_x\n",
    "            if r_bias_label == j:\n",
    "                x[j] += r3 * A3_r_x\n",
    "        x /= math.sqrt(x*x)\n",
    "        if verbose:\n",
    "            print(f\"Iteration {i} finished.\")\n",
    "    return x\n",
    "\n",
    "x_t = power_method_biased(A1, 50, 5, False)\n",
    "x_t"
   ]
  },
  {
   "cell_type": "code",
   "execution_count": null,
   "metadata": {},
   "outputs": [],
   "source": [
    "# wikigoogle2, use intersection on related article first"
   ]
  }
 ],
 "metadata": {
  "kernelspec": {
   "display_name": "base",
   "language": "python",
   "name": "python3"
  },
  "language_info": {
   "codemirror_mode": {
    "name": "ipython",
    "version": 3
   },
   "file_extension": ".py",
   "mimetype": "text/x-python",
   "name": "python",
   "nbconvert_exporter": "python",
   "pygments_lexer": "ipython3",
   "version": "3.10.8"
  },
  "orig_nbformat": 4
 },
 "nbformat": 4,
 "nbformat_minor": 2
}
