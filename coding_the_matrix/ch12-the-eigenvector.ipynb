{
 "cells": [
  {
   "attachments": {},
   "cell_type": "markdown",
   "metadata": {},
   "source": [
    "# Chapter 12 - The Eigenvector\n",
    "\n",
    "### Questions I have:\n",
    "- How is matrix related with markov chains?\n",
    "- How is matrix related with Google's page rank algorithm?\n",
    "- How to decompose eigenvector and eigenvalues?\n",
    "- What's the relatioship between eigenvalues and eigenvectors and other known matrix decomposision? (i.e. Orthogonal, SVD)\n",
    "- What's the other applications of eigenvalues and eigenvectors in data science?\n",
    "\n",
    "## Notes\n",
    "After finding a diagonal matrix, any vector could be decomposed as a linear combination of two vectors with eigen values being its coefficients.\n",
    "\n",
    "## Eigenvalues and eigen vectors\n",
    "### Definition 12.3.1\n",
    "For a matrix A whose row-label set equals its column-label set, if λ is a scalar and v is a nonzero vector such that Av = λv, we say that λ is an eigenvalue of A, and v is a corresponding eigenvector.\n",
    "\n",
    "- square matrix\n",
    "- eigen vectors reside in a vector space, named eigenspace\n",
    "\n",
    "Interpretation\n",
    "- In the eigenspace __of A__, multiple by A is equivalent scaling by λ\n",
    "\n",
    "### Lemma 12.3.6, find eigen vectors and values\n",
    "Let A be a square matrix.\n",
    "- The number λ is an eigenvalue of A if and only if A − λ 1 is not invertible.\n",
    "- If λ is in fact an eigenvalue of A then the corresponding eigenspace is the null space of A − λ 1.\n",
    "\n",
    "### Corollary 12.3.8 λ is eigen values for both A and Aᵀ\n",
    "If λ is an eigenvalue of A then it is an eigenvalue of Aᵀ\n",
    "\n",
    "\n",
    "## diagonalizable\n",
    "### Definition Similarity\n",
    "- Definition 12.3.9: We say two square matrices A and B are similar if there is an invertible matrix S such that S⁻¹AS = B\n",
    "- Proposition 12.3.10: Similar matrices have the same eigenvalues.\n",
    "- Definition 12.3.12: If a square matrix A is similar to a diagonal matrix, i.e. if there is an invertible matrix S such that S−1AS = Λ where Λ is a diagonal matrix, we say A is diagonalizable.\n",
    "\n",
    "Interpretation:\n",
    "- Linear transform (with independent basis) doesn't change eigen values, this is a strong property.\n",
    "- Diagonal matrix forms a simple basis, orthogonal general generators; this makes multiplications trivial to perform.\n",
    "\n",
    "### Theorem 12.3.15\n",
    "An n × n matrix is diagonalizable __iff__ it has n linearly independent eigenvectors.\n",
    "\n",
    "- Lemma 12.3.13 If Λ = S⁻¹AS is a diagonal matrix then the diagonal elements of Λ are eigenvalues, and the columns of S are linearly independent eigenvectors\n",
    "- Lemma 12.3.14 If an n × n matrix A has n linearly independent eigenvectors then A is diagonalizable.\n",
    "\n",
    "Numerical property in multiplications:\n",
    "The eigenvalues with large absolute value will dominate; the other terms will be relatively small.\n",
    "\n",
    "## 12.6 Existence of eigenvalues\n",
    "\n",
    "### Definition 12.6.1: Positive-definite matrix\n",
    "A symmetric matrix whose eigenvalues are all positive real numbers is called a positive-definite matrix.\n",
    "Any positive-definite matrix can be written as AᵀA for some invertible matrix A.\n",
    "\n",
    "Positive-semidefinite matrix?\n",
    "\n",
    "### Lemma 12.6.2: distinct eigenvalues -> independent eigen-vectors\n",
    "For a matrix A, for any set T of distinct eigenvalues, the corresponding eigen-vectors are linearly independent\n",
    "\n",
    "### Theorem 12.6.3 distinct eigenvalues -> diagonalizable\n",
    "A n × n matrix with n distinct eigenvalues is diagonalizable.\n",
    "\n",
    "### Theorem 12.6.4 (Diagonalization of symmetric matrices)\n",
    "Let A be a symmetric matrix over R. Then there is an orthogonal matrix Q and a real-valued diagonal matrix Λ such that QᵀAQ = Λ.\n",
    "All the eigenvalues are guaranteed to be real numbers for symmetric matrix.\n",
    "\n",
    "Fortunately, matrices arising in practice are often diagonalizable. #question, exception: Markov chains.\n",
    "\n",
    "### Upper-triangular matrix\n",
    "Lemma 12.6.5: The diagonal elements of an upper-triangular matrix U are the eigenvalues of U.\n",
    "- Use the method to find null space of U - λ1 = 0\n",
    "\n",
    "Definition 12.6.7: The spectrum of an upper-triangular matrix U is __the multiset__ of diagonal elements.\n",
    "\n",
    "### General square matrices\n",
    "Theorem 12.6.9: Every square matrix over C has an eigenvalue.\n",
    "Theorem 12.6.10: For any n × n matrix A, there is a unitary matrix Q such that Q−1AQ is an upper-triangular matrix.\n",
    "\n",
    "Every matrix is __similar__ to upper-triangular matrix, this computes eigen values via QR factorization.\n",
    "\n",
    "## Power method\n",
    "Based on the property of power operation, Aᵗx could approximate the eigenvectors corresponding to the largest eigenvalues.\n",
    "\n",
    "## 12.8 Markov chains\n",
    "Each column represents a probability distribution.\n",
    "\n",
    "Application:\n",
    "- memory block\n",
    "- words generation\n",
    "\n",
    "Stationary condition, or 1 is an eigenvalue of A.\n",
    "\n",
    "Theorem: If every entry of the stochastic matrix is positive, then there is a nonnegative eigen- vector corresponding to the eigenvalue 1, and also (and we’ll see why this is important) every other eigenvalue is smaller in absolute value than 1.\n",
    "\n",
    "Use the power method to find such as value.\n",
    "\n",
    "## 12.10 The determinant\n",
    "Areas of parallelograms -> Volumes of parallelepipeds\n",
    "\n",
    "Area of polygon in terms of parallelogram -> Signed area\n",
    "\n",
    "Determinant is the signed area/volume of parallelpipeds.\n",
    "\n",
    "Proposition 12.10.6: A square matrix A is invertible if and only if its determinant is nonzero.\n",
    "\n",
    "Multilinearity: det A is a linear function of each entry of A. \n",
    "Multiplicativity: det(AB)=(detA)(detB)"
   ]
  },
  {
   "cell_type": "code",
   "execution_count": 1,
   "metadata": {},
   "outputs": [],
   "source": [
    "from book.mat import *\n",
    "from book.matutil import *\n",
    "from book.vec import *\n",
    "from book.vecutil import *\n",
    "\n",
    "import math\n",
    "from math import sqrt"
   ]
  },
  {
   "cell_type": "code",
   "execution_count": 2,
   "metadata": {},
   "outputs": [
    {
     "data": {
      "text/plain": [
       "Vec({0, 1},{0: 144, 1: 89})"
      ]
     },
     "execution_count": 2,
     "metadata": {},
     "output_type": "execute_result"
    }
   ],
   "source": [
    "# Fibonacchi matrix to compute series\n",
    "Fib_M = listlist2mat([[1,1],[1,0]])\n",
    "F_0 = list2vec([1,0])\n",
    "\n",
    "def fib_mul(v, n=0):\n",
    "    if n == 0:\n",
    "        return v\n",
    "    else:\n",
    "        return Fib_M*fib_mul(v, n-1)\n",
    "fib_mul(F_0, 11)"
   ]
  },
  {
   "cell_type": "code",
   "execution_count": 3,
   "metadata": {},
   "outputs": [
    {
     "data": {
      "text/plain": [
       "[Matrix([\n",
       " [89, 55],\n",
       " [55, 34]]),\n",
       " Matrix([\n",
       " [-sqrt(5)*((1/2 - sqrt(5)/2)*(123/2 - 55*sqrt(5)/2) + (1/2 + sqrt(5)/2)*((7/2 - 3*sqrt(5)/2)*(11/2 - 5*sqrt(5)/2)*((1/2 - sqrt(5)/2)*(1/(sqrt(5)/2 + 5/2) + (1 + sqrt(5))/(sqrt(5) + 5)) + (1 + sqrt(5))/(sqrt(5) + 5)) + (7/2 - 3*sqrt(5)/2)*(275 + 123*sqrt(5))*((1/2 - sqrt(5)/2)*(1/(sqrt(5)/2 + 5/2) + (1 + sqrt(5))/(sqrt(5) + 5)) + (1 + sqrt(5))/(sqrt(5) + 5))/(11*sqrt(5) + 25)))/5 + (1 + sqrt(5))*((1/2 - sqrt(5)/2)*((11/2 - 5*sqrt(5)/2)*(-sqrt(5)/5 + (1/2 - sqrt(5)/10)*(1/2 + sqrt(5)/2))*(21*sqrt(5) + 47)/(3*sqrt(5) + 7) + (275 + 123*sqrt(5))*(-sqrt(5)/5 + (1/2 - sqrt(5)/10)*(1/2 + sqrt(5)/2))*(21*sqrt(5) + 47)/((3*sqrt(5) + 7)*(11*sqrt(5) + 25))) + (1/2 + sqrt(5)/2)*(6765*sqrt(5) + 15127)/(55*sqrt(5) + 123))/(sqrt(5) + 5), (sqrt(5)/10 + 1/2)*((1/2 - sqrt(5)/2)*(123/2 - 55*sqrt(5)/2) + (1/2 + sqrt(5)/2)*((7/2 - 3*sqrt(5)/2)*(11/2 - 5*sqrt(5)/2)*((1/2 - sqrt(5)/2)*(1/(sqrt(5)/2 + 5/2) + (1 + sqrt(5))/(sqrt(5) + 5)) + (1 + sqrt(5))/(sqrt(5) + 5)) + (7/2 - 3*sqrt(5)/2)*(275 + 123*sqrt(5))*((1/2 - sqrt(5)/2)*(1/(sqrt(5)/2 + 5/2) + (1 + sqrt(5))/(sqrt(5) + 5)) + (1 + sqrt(5))/(sqrt(5) + 5))/(11*sqrt(5) + 25))) + ((1/2 - sqrt(5)/2)*((11/2 - 5*sqrt(5)/2)*(-sqrt(5)/5 + (1/2 - sqrt(5)/10)*(1/2 + sqrt(5)/2))*(21*sqrt(5) + 47)/(3*sqrt(5) + 7) + (275 + 123*sqrt(5))*(-sqrt(5)/5 + (1/2 - sqrt(5)/10)*(1/2 + sqrt(5)/2))*(21*sqrt(5) + 47)/((3*sqrt(5) + 7)*(11*sqrt(5) + 25))) + (1/2 + sqrt(5)/2)*(6765*sqrt(5) + 15127)/(55*sqrt(5) + 123))/(sqrt(5)/2 + 5/2)],\n",
       " [                                                                             -sqrt(5)*(-55*sqrt(5)/2 + (7/2 - 3*sqrt(5)/2)*(11/2 - 5*sqrt(5)/2)*((1/2 - sqrt(5)/2)*(1/(sqrt(5)/2 + 5/2) + (1 + sqrt(5))/(sqrt(5) + 5)) + (1 + sqrt(5))/(sqrt(5) + 5)) + (7/2 - 3*sqrt(5)/2)*(275 + 123*sqrt(5))*((1/2 - sqrt(5)/2)*(1/(sqrt(5)/2 + 5/2) + (1 + sqrt(5))/(sqrt(5) + 5)) + (1 + sqrt(5))/(sqrt(5) + 5))/(11*sqrt(5) + 25) + 123/2)/5 + (1 + sqrt(5))*((11/2 - 5*sqrt(5)/2)*(-sqrt(5)/5 + (1/2 - sqrt(5)/10)*(1/2 + sqrt(5)/2))*(21*sqrt(5) + 47)/(3*sqrt(5) + 7) + (275 + 123*sqrt(5))*(-sqrt(5)/5 + (1/2 - sqrt(5)/10)*(1/2 + sqrt(5)/2))*(21*sqrt(5) + 47)/((3*sqrt(5) + 7)*(11*sqrt(5) + 25)) + (6765*sqrt(5) + 15127)/(55*sqrt(5) + 123))/(sqrt(5) + 5),                                                                              (sqrt(5)/10 + 1/2)*(-55*sqrt(5)/2 + (7/2 - 3*sqrt(5)/2)*(11/2 - 5*sqrt(5)/2)*((1/2 - sqrt(5)/2)*(1/(sqrt(5)/2 + 5/2) + (1 + sqrt(5))/(sqrt(5) + 5)) + (1 + sqrt(5))/(sqrt(5) + 5)) + (7/2 - 3*sqrt(5)/2)*(275 + 123*sqrt(5))*((1/2 - sqrt(5)/2)*(1/(sqrt(5)/2 + 5/2) + (1 + sqrt(5))/(sqrt(5) + 5)) + (1 + sqrt(5))/(sqrt(5) + 5))/(11*sqrt(5) + 25) + 123/2) + ((11/2 - 5*sqrt(5)/2)*(-sqrt(5)/5 + (1/2 - sqrt(5)/10)*(1/2 + sqrt(5)/2))*(21*sqrt(5) + 47)/(3*sqrt(5) + 7) + (275 + 123*sqrt(5))*(-sqrt(5)/5 + (1/2 - sqrt(5)/10)*(1/2 + sqrt(5)/2))*(21*sqrt(5) + 47)/((3*sqrt(5) + 7)*(11*sqrt(5) + 25)) + (6765*sqrt(5) + 15127)/(55*sqrt(5) + 123))/(sqrt(5)/2 + 5/2)]])]"
      ]
     },
     "execution_count": 3,
     "metadata": {},
     "output_type": "execute_result"
    }
   ],
   "source": [
    "import sympy\n",
    "from sympy import Matrix, linsolve, simplify\n",
    "\n",
    "def Vector(*args):\n",
    "    return Matrix([[a] for a in args])\n",
    "\n",
    "A = Matrix([[1,1],[1,0]])\n",
    "l1 = ((1+sympy.sqrt(5))/2).simplify()\n",
    "l2 = ((1-sympy.sqrt(5))/2).simplify()\n",
    "S = Matrix([[l1, l2],[1,1]]) # S^-1 * A * S is diagonal matrix, it is easier to compute rate of changes\n",
    "Lambda = S.inv() * A * S\n",
    "[\n",
    "    A**10,\n",
    "    S * Lambda**10 * S.inv()\n",
    "]"
   ]
  },
  {
   "cell_type": "code",
   "execution_count": 4,
   "metadata": {},
   "outputs": [
    {
     "data": {
      "text/latex": [
       "$\\displaystyle \\left\\{\\left( \\frac{\\sqrt{5}}{10} + \\frac{1}{2}, \\  \\frac{1}{2} - \\frac{\\sqrt{5}}{10}, \\  \\frac{\\sqrt{5}}{5}, \\  - \\frac{\\sqrt{5}}{5}\\right)\\right\\}$"
      ],
      "text/plain": [
       "{(sqrt(5)/10 + 1/2, 1/2 - sqrt(5)/10, sqrt(5)/5, -sqrt(5)/5)}"
      ]
     },
     "execution_count": 4,
     "metadata": {},
     "output_type": "execute_result"
    }
   ],
   "source": [
    "# For each x^t = A^t * x \n",
    "# It exists decomposition: x^t_i = a_i * l1^t + b_i * l2^t\n",
    "# a_i and b_i are constants which could be calculated by initial conditions\n",
    "L = Matrix([[l1, l2, 0, 0], [0, 0, l1, l2], [l1**2, l2**2, 0, 0], [0, 0, l1**2, l2**2]])\n",
    "X = Matrix([[1, 1, 2, 1]])\n",
    "solution = sympy.linsolve((L, X))\n",
    "solution"
   ]
  },
  {
   "cell_type": "code",
   "execution_count": 5,
   "metadata": {},
   "outputs": [
    {
     "data": {
      "text/latex": [
       "$\\displaystyle \\left[\\begin{matrix}0\\end{matrix}\\right]$"
      ],
      "text/plain": [
       "Matrix([[0]])"
      ]
     },
     "execution_count": 5,
     "metadata": {},
     "output_type": "execute_result"
    }
   ],
   "source": [
    "# a1, b1 could be used as a basis for computation\n",
    "a1, b1, _, _ = solution.args[0]\n",
    "v1 = Vector(l1, 1)\n",
    "v2 = Vector(l2, 1)\n",
    "sympy.simplify(v1.T @ v2)  # orthogonal"
   ]
  },
  {
   "cell_type": "code",
   "execution_count": 6,
   "metadata": {},
   "outputs": [
    {
     "data": {
      "text/plain": [
       "[Matrix([\n",
       " [1],\n",
       " [1]]),\n",
       " Matrix([\n",
       " [2],\n",
       " [1]]),\n",
       " Matrix([\n",
       " [3],\n",
       " [2]])]"
      ]
     },
     "execution_count": 6,
     "metadata": {},
     "output_type": "execute_result"
    }
   ],
   "source": [
    "# S is the matrix which transform basis of eigenvectors to original basis\n",
    "# v1, v2 are eigenvectors of A, and l1, l2 are eigenvalues of A\n",
    "u = Matrix([[a1, b1]]).transpose()\n",
    "[\n",
    "    simplify(S @ u),\n",
    "    simplify(S @ Lambda @ u),\n",
    "    simplify(S @ Lambda @ Lambda @ u),\n",
    "]"
   ]
  },
  {
   "cell_type": "code",
   "execution_count": 7,
   "metadata": {},
   "outputs": [
    {
     "data": {
      "text/latex": [
       "$\\displaystyle \\left[\\begin{matrix}\\tau_{0} \\left(- \\frac{1}{2} + \\frac{\\sqrt{33}}{6}\\right)\\\\\\tau_{0}\\end{matrix}\\right]$"
      ],
      "text/plain": [
       "Matrix([\n",
       "[tau0*(-1/2 + sqrt(33)/6)],\n",
       "[                    tau0]])"
      ]
     },
     "metadata": {},
     "output_type": "display_data"
    },
    {
     "data": {
      "text/latex": [
       "$\\displaystyle \\left[\\begin{matrix}0\\\\0\\end{matrix}\\right]$"
      ],
      "text/plain": [
       "Matrix([\n",
       "[0],\n",
       "[0]])"
      ]
     },
     "metadata": {},
     "output_type": "display_data"
    },
    {
     "data": {
      "text/latex": [
       "$\\displaystyle \\left[\\begin{matrix}\\frac{\\tau_{0} \\left(\\sqrt{33} + 9\\right)}{6}\\\\\\frac{\\tau_{0} \\cdot \\left(5 + \\sqrt{33}\\right)}{2}\\end{matrix}\\right]$"
      ],
      "text/plain": [
       "Matrix([\n",
       "[tau0*(sqrt(33) + 9)/6],\n",
       "[tau0*(5 + sqrt(33))/2]])"
      ]
     },
     "metadata": {},
     "output_type": "display_data"
    },
    {
     "data": {
      "text/latex": [
       "$\\displaystyle \\left[\\begin{matrix}\\frac{\\tau_{0} \\left(\\sqrt{33} + 9\\right)}{6}\\\\\\frac{\\tau_{0} \\cdot \\left(5 + \\sqrt{33}\\right)}{2}\\end{matrix}\\right]$"
      ],
      "text/plain": [
       "Matrix([\n",
       "[tau0*(sqrt(33) + 9)/6],\n",
       "[tau0*(5 + sqrt(33))/2]])"
      ]
     },
     "metadata": {},
     "output_type": "display_data"
    },
    {
     "data": {
      "text/plain": [
       "[None, None, None, None]"
      ]
     },
     "execution_count": 7,
     "metadata": {},
     "output_type": "execute_result"
    }
   ],
   "source": [
    "# Find eigenspace and eigenvalues of A\n",
    "A = Matrix([[1, 2],[3, 4]])\n",
    "λ1 = (5+sympy.sqrt(33))/2\n",
    "B = A - λ1 * sympy.eye(2)\n",
    "B_eigensapce = linsolve((B, Matrix([[0,0]])))\n",
    "v1 = Vector(*B_eigensapce.args[0])\n",
    "[display(x) for x in [\n",
    "    v1,\n",
    "    simplify(B@v1), # non-zero vector in null space\n",
    "    simplify(A@v1),\n",
    "    simplify(λ1*v1),\n",
    "]]"
   ]
  },
  {
   "cell_type": "code",
   "execution_count": 8,
   "metadata": {},
   "outputs": [
    {
     "data": {
      "text/plain": [
       "(Vec({0, 1, 2, 3},{0: 0.3943640250307155, 1: 0.7921813352713714, 2: 0.10496830176478306, 3: 0.453770209945362}),\n",
       " 14.402834217884141)"
      ]
     },
     "execution_count": 8,
     "metadata": {},
     "output_type": "execute_result"
    }
   ],
   "source": [
    "# Problem 12.14.5\n",
    "# x_t = A^tx ≈ a1λ1^t*x_0 + (others)\n",
    "m = [[1, 2, 5, 7], [2, 9, 3, 7], [1, 0, 2, 2], [7, 3, 9, 1]]\n",
    "A = listlist2mat(m)\n",
    "x_0 = list2vec([1, 1, 1, 1])\n",
    "def power(M, x, n):\n",
    "    assert n > 0\n",
    "    for _ in range(n):\n",
    "        x = M*x\n",
    "        x /= sqrt(x*x)\n",
    "    return x\n",
    "N = 50\n",
    "x_t = power(A, x_0, N)\n",
    "l_1 = (A * x_t)[0] / (x_t)[0] # A * x_t = l_1 * x_t\n",
    "x_t, l_1"
   ]
  },
  {
   "cell_type": "code",
   "execution_count": 9,
   "metadata": {},
   "outputs": [
    {
     "data": {
      "text/plain": [
       "array([14.40283422, -6.52407415,  5.55070975, -0.42946982])"
      ]
     },
     "execution_count": 9,
     "metadata": {},
     "output_type": "execute_result"
    }
   ],
   "source": [
    "import numpy as np\n",
    "A = np.array([[1, 2, 5, 7], [2, 9, 3, 7], [1, 0, 2, 2], [7, 3, 9, 1]])\n",
    "λ, v = np.linalg.eig(A)\n",
    "λ1 = λ[0]; v1 = v[:,0]\n",
    "λ1, v1 # v_1 equivalent to -a_1, λ1 has some difference why?\n",
    "λ"
   ]
  },
  {
   "cell_type": "code",
   "execution_count": 10,
   "metadata": {},
   "outputs": [
    {
     "data": {
      "text/latex": [
       "$\\displaystyle \\left[\\begin{matrix}1 & 0 & 0 & 0\\\\0 & 1 & 0 & 0\\\\0 & 0 & 1 & 0\\\\0 & 0 & 0 & 1\\end{matrix}\\right]$"
      ],
      "text/plain": [
       "Matrix([\n",
       "[1, 0, 0, 0],\n",
       "[0, 1, 0, 0],\n",
       "[0, 0, 1, 0],\n",
       "[0, 0, 0, 1]])"
      ]
     },
     "execution_count": 10,
     "metadata": {},
     "output_type": "execute_result"
    }
   ],
   "source": [
    "# Problem 12.14.8\n",
    "# Thought #1:\n",
    "# f(x) = Ax; f^-1(x) = A^-1x\n",
    "# let x be the generators, could get 16 equastions to solve the entire matrix\n",
    "\n",
    "# Thought #2:\n",
    "# [A | I] -> [I | A^-1]\n",
    "A = sympy.Matrix(m)\n",
    "I = sympy.eye(4)\n",
    "RREF, pivot = sympy.Matrix.hstack(A, I).rref()\n",
    "A_inv = RREF[:, 4:]\n",
    "A*A_inv"
   ]
  },
  {
   "cell_type": "code",
   "execution_count": 11,
   "metadata": {},
   "outputs": [
    {
     "data": {
      "text/latex": [
       "$\\displaystyle -0.429469819938505$"
      ],
      "text/plain": [
       "-0.429469819938505"
      ]
     },
     "execution_count": 11,
     "metadata": {},
     "output_type": "execute_result"
    }
   ],
   "source": [
    "A_inv = listlist2mat(RREF[:, 4:].tolist())\n",
    "A_inv\n",
    "N = 10\n",
    "x_t = power(A_inv, x_0, N)\n",
    "l_1 = (A_inv * x_t)[0] / (x_t)[0]\n",
    "1.0/l_1"
   ]
  },
  {
   "cell_type": "code",
   "execution_count": 12,
   "metadata": {},
   "outputs": [
    {
     "name": "stdout",
     "output_type": "stream",
     "text": [
      "-5.854101765316718\n"
     ]
    },
    {
     "data": {
      "text/plain": [
       "9.854101765316718"
      ]
     },
     "execution_count": 12,
     "metadata": {},
     "output_type": "execute_result"
    }
   ],
   "source": [
    "# Problem 12.14.10, TODO\n",
    "# If (A - kI) * x = 0, λ = k\n",
    "def eye(D):\n",
    "    return Mat((D, D), {(r, c): 1 for r in D for c in D if r == c})\n",
    "\n",
    "def better_eigen_values(A, k):\n",
    "    \"\"\"\n",
    "    input: a matrix A and a value k that is an estimate of an eigenvalue λi of A (and is closer to λi than to any other eigenvalue of A)\n",
    "    output: an even better estimate of that eigenvalue.\n",
    "    \"\"\"\n",
    "    assert A.D[0] == A.D[1]\n",
    "    B = A - k*eye(A.D[0])\n",
    "    N = 10\n",
    "    x_0 = list2vec([1 for _ in range(len(A.D[0]))])\n",
    "    x_t = power(B, x_0, N)\n",
    "    l_1 = (B * x_t)[0] / (x_t)[0]\n",
    "    print(l_1)\n",
    "    return k - l_1 # how do I know which sign to use?\n",
    "\n",
    "A = listlist2mat([[3, 0, 1], [4, 8, 1], [9, 0, 0]])\n",
    "k = 4\n",
    "better_eigen_values(A, k)"
   ]
  },
  {
   "cell_type": "code",
   "execution_count": 13,
   "metadata": {},
   "outputs": [
    {
     "data": {
      "text/plain": [
       "(array([ 8.        ,  4.85410197, -1.85410197]),\n",
       " array([[ 0.        ,  0.35577221, -0.20174326],\n",
       "        [ 1.        , -0.66204524, -0.01748605],\n",
       "        [ 0.        ,  0.65963796,  0.97928234]]))"
      ]
     },
     "execution_count": 13,
     "metadata": {},
     "output_type": "execute_result"
    }
   ],
   "source": [
    "A = np.array([[3, 0, 1], [4, 8, 1], [9, 0, 0]])\n",
    "np.linalg.eig(A) # 8, 4.85, -1.85"
   ]
  },
  {
   "cell_type": "code",
   "execution_count": 22,
   "metadata": {},
   "outputs": [
    {
     "data": {
      "text/latex": [
       "$\\displaystyle 1 - λ_{1}^{3}$"
      ],
      "text/plain": [
       "1 - λ1**3"
      ]
     },
     "execution_count": 22,
     "metadata": {},
     "output_type": "execute_result"
    }
   ],
   "source": [
    "λ1 = sympy.symbols('λ1')\n",
    "λ2 = sympy.symbols('λ2')\n",
    "P = Matrix([[0, 1, 0], [0, 0, 1], [1, 0, 0]])\n",
    "(P - sympy.eye(3) * λ1).det()"
   ]
  },
  {
   "cell_type": "code",
   "execution_count": 2,
   "metadata": {},
   "outputs": [
    {
     "ename": "NameError",
     "evalue": "name 'Matrix' is not defined",
     "output_type": "error",
     "traceback": [
      "\u001b[0;31m---------------------------------------------------------------------------\u001b[0m",
      "\u001b[0;31mNameError\u001b[0m                                 Traceback (most recent call last)",
      "Cell \u001b[0;32mIn[2], line 1\u001b[0m\n\u001b[0;32m----> 1\u001b[0m P2 \u001b[39m=\u001b[39m Matrix([[\u001b[39m0\u001b[39m, \u001b[39m0\u001b[39m, \u001b[39m1\u001b[39m], [\u001b[39m0\u001b[39m, \u001b[39m1\u001b[39m, \u001b[39m0\u001b[39m], [\u001b[39m1\u001b[39m, \u001b[39m0\u001b[39m, \u001b[39m0\u001b[39m]])\n\u001b[1;32m      2\u001b[0m D2 \u001b[39m=\u001b[39m (P2 \u001b[39m-\u001b[39m sympy\u001b[39m.\u001b[39meye(\u001b[39m3\u001b[39m) \u001b[39m*\u001b[39m λ2)\u001b[39m.\u001b[39mdet()\n\u001b[1;32m      3\u001b[0m sympy\u001b[39m.\u001b[39msolve(D2, λ2)\n",
      "\u001b[0;31mNameError\u001b[0m: name 'Matrix' is not defined"
     ]
    }
   ],
   "source": [
    "P2 = Matrix([[0, 0, 1], [0, 1, 0], [1, 0, 0]])\n",
    "D2 = (P2 - sympy.eye(3) * λ2).det()\n",
    "sympy.solve(D2, λ2)"
   ]
  }
 ],
 "metadata": {
  "kernelspec": {
   "display_name": "base",
   "language": "python",
   "name": "python3"
  },
  "language_info": {
   "codemirror_mode": {
    "name": "ipython",
    "version": 3
   },
   "file_extension": ".py",
   "mimetype": "text/x-python",
   "name": "python",
   "nbconvert_exporter": "python",
   "pygments_lexer": "ipython3",
   "version": "3.10.8"
  },
  "orig_nbformat": 4
 },
 "nbformat": 4,
 "nbformat_minor": 2
}
