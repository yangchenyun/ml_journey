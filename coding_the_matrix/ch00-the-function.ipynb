{
 "cells": [
  {
   "cell_type": "markdown",
   "metadata": {},
   "source": [
    "# Chapter 0 - The Function"
   ]
  },
  {
   "attachments": {},
   "cell_type": "markdown",
   "metadata": {},
   "source": [
    "## Set terminology and notation\n",
    "Set, $\\in$ an object __belongs__ to a set, or the set __contains__ the object. $S1 \\subseteq S2$, S2 is contained in S2 if __every__ elements in S2 belongs to S2. \n",
    "\n",
    "Set could be infinite, such as $\\mathbb{R}$ or $\\mathbb{c}$, or finite. If set is not infinite, $\\lvert S \\rvert$ is its __cardinality__."
   ]
  },
  {
   "cell_type": "code",
   "execution_count": 38,
   "metadata": {},
   "outputs": [],
   "source": [
    "A = {1, 2, 3}\n",
    "B = {\"♥\", \"♠\", \"♣\", \"♦\"}\n",
    "\n",
    "# Infinite set, represented as a generator\n",
    "def Nat_Inf():\n",
    "    n = 1\n",
    "    while True:\n",
    "        yield n\n",
    "        n += 1\n",
    "\n",
    "def Nat(upto):\n",
    "    N = Nat_Inf()\n",
    "    return {next(N) for _ in range(upto)}\n",
    "\n",
    "\n",
    "def cardinality(s):\n",
    "    return len(s)"
   ]
  },
  {
   "cell_type": "code",
   "execution_count": 8,
   "metadata": {},
   "outputs": [],
   "source": [
    "# Definition: Cartesian product\n",
    "# Reference: Ren ́e Descartes\n",
    "def cartesian_product(a, b):\n",
    "    return [(ai, bi) for bi in b for ai in a]\n",
    "\n",
    "cartesian_product(A, B)\n",
    "\n",
    "# Proposition 0.2.3 |A x B| = |A| . |B|\n",
    "# TODO: how to generalize to all definition\n",
    "assert cardinality(cartesian_product(A, B)) == cardinality(A) * cardinality(B)"
   ]
  },
  {
   "cell_type": "code",
   "execution_count": 39,
   "metadata": {},
   "outputs": [
    {
     "data": {
      "text/plain": [
       "[((1, 1), 1),\n",
       " ((2, 1), 2),\n",
       " ((3, 1), 3),\n",
       " ((4, 1), 4),\n",
       " ((5, 1), 5),\n",
       " ((6, 1), 6),\n",
       " ((7, 1), 7),\n",
       " ((8, 1), 8),\n",
       " ((9, 1), 9),\n",
       " ((10, 1), 10),\n",
       " ((1, 2), 2),\n",
       " ((2, 2), 4),\n",
       " ((3, 2), 6),\n",
       " ((4, 2), 8),\n",
       " ((5, 2), 10),\n",
       " ((6, 2), 12),\n",
       " ((7, 2), 14),\n",
       " ((8, 2), 16),\n",
       " ((9, 2), 18),\n",
       " ((10, 2), 20),\n",
       " ((1, 3), 3),\n",
       " ((2, 3), 6),\n",
       " ((3, 3), 9),\n",
       " ((4, 3), 12),\n",
       " ((5, 3), 15),\n",
       " ((6, 3), 18),\n",
       " ((7, 3), 21),\n",
       " ((8, 3), 24),\n",
       " ((9, 3), 27),\n",
       " ((10, 3), 30),\n",
       " ((1, 4), 4),\n",
       " ((2, 4), 8),\n",
       " ((3, 4), 12),\n",
       " ((4, 4), 16),\n",
       " ((5, 4), 20),\n",
       " ((6, 4), 24),\n",
       " ((7, 4), 28),\n",
       " ((8, 4), 32),\n",
       " ((9, 4), 36),\n",
       " ((10, 4), 40),\n",
       " ((1, 5), 5),\n",
       " ((2, 5), 10),\n",
       " ((3, 5), 15),\n",
       " ((4, 5), 20),\n",
       " ((5, 5), 25),\n",
       " ((6, 5), 30),\n",
       " ((7, 5), 35),\n",
       " ((8, 5), 40),\n",
       " ((9, 5), 45),\n",
       " ((10, 5), 50),\n",
       " ((1, 6), 6),\n",
       " ((2, 6), 12),\n",
       " ((3, 6), 18),\n",
       " ((4, 6), 24),\n",
       " ((5, 6), 30),\n",
       " ((6, 6), 36),\n",
       " ((7, 6), 42),\n",
       " ((8, 6), 48),\n",
       " ((9, 6), 54),\n",
       " ((10, 6), 60),\n",
       " ((1, 7), 7),\n",
       " ((2, 7), 14),\n",
       " ((3, 7), 21),\n",
       " ((4, 7), 28),\n",
       " ((5, 7), 35),\n",
       " ((6, 7), 42),\n",
       " ((7, 7), 49),\n",
       " ((8, 7), 56),\n",
       " ((9, 7), 63),\n",
       " ((10, 7), 70),\n",
       " ((1, 8), 8),\n",
       " ((2, 8), 16),\n",
       " ((3, 8), 24),\n",
       " ((4, 8), 32),\n",
       " ((5, 8), 40),\n",
       " ((6, 8), 48),\n",
       " ((7, 8), 56),\n",
       " ((8, 8), 64),\n",
       " ((9, 8), 72),\n",
       " ((10, 8), 80),\n",
       " ((1, 9), 9),\n",
       " ((2, 9), 18),\n",
       " ((3, 9), 27),\n",
       " ((4, 9), 36),\n",
       " ((5, 9), 45),\n",
       " ((6, 9), 54),\n",
       " ((7, 9), 63),\n",
       " ((8, 9), 72),\n",
       " ((9, 9), 81),\n",
       " ((10, 9), 90),\n",
       " ((1, 10), 10),\n",
       " ((2, 10), 20),\n",
       " ((3, 10), 30),\n",
       " ((4, 10), 40),\n",
       " ((5, 10), 50),\n",
       " ((6, 10), 60),\n",
       " ((7, 10), 70),\n",
       " ((8, 10), 80),\n",
       " ((9, 10), 90),\n",
       " ((10, 10), 100)]"
      ]
     },
     "execution_count": 39,
     "metadata": {},
     "output_type": "execute_result"
    }
   ],
   "source": [
    "# The function\n",
    "# function: assigns a possible value for every input in set D\n",
    "# image and pre-image: the output is the __image__ of input, the input is the __pre-image__ of output\n",
    "# domain of the function: set of __possible__ inputs\n",
    "# co-domain: the set of __possible__ outputs\n",
    "\n",
    "double = lambda s: (s, s * 2)\n",
    "mul = lambda s: (s, s[0] * s[1])\n",
    "\n",
    "[double(n) for n in Nat(10)]\n",
    "[mul(n) for n in cartesian_product(Nat(10), Nat(10))]"
   ]
  },
  {
   "attachments": {},
   "cell_type": "markdown",
   "metadata": {},
   "source": [
    "# Function notations\n",
    "A function's image is denoted as $f(q)$.\n",
    "\n",
    "If $r = f(q)$, q maps to r under f, denoted as $q \\rightarrow r$\n",
    "\n",
    "$f : D \\rightarrow F$ denotes function with domain $D$ and co-domain $F$. \n",
    "\n",
    "$F^D$ denotes __all functions__ fro $D$ to $F$. for all functions map from words to real number, $\\mathbb{R}^W$\n",
    "\n",
    "## Procedures and computational problems\n",
    "Procedure is a description of computation steps with inputs which produces outputs\n",
    "Computational problem is an input-output problem\n",
    "\n",
    "For each $f$ there are two problems:\n",
    "- Forward problem, given $a$ compute $f(a)$\n",
    "- Backward problem, given $r$ and co-domain, compute any pre-image (if exists), i.e. integer factoring\n",
    "\n",
    "Solving backward problem for general $f$ is difficult, and solving for a restricted set $f$ is not applicable.\n",
    "\n",
    "> \"We must navigate between the Scylla of computational intractability and the Charybdis of inapplicability.\" (where where Scylla and Charybdis were two sea monsters that posed dangers to sailors navigating the Strait of Messina.)\n",
    "\n",
    "Linear functions are at a good balance.\n",
    "\n",
    "### Fact 0.3.9 (?)\n",
    "For finite sets $D$ and $F$, $|D^F| = |D|^{|F|}$\n"
   ]
  },
  {
   "cell_type": "code",
   "execution_count": 44,
   "metadata": {},
   "outputs": [],
   "source": [
    "# identity function D -> D\n",
    "id = lambda x: x\n",
    "\n",
    "# composition of functions\n",
    "f = lambda x: x + 1\n",
    "g = lambda x: x ** 2\n",
    "h = lambda x: x * 3\n",
    "gf = lambda x: g(f(x))\n",
    "\n",
    "[gf(x) for x in Nat(10)]\n",
    "\n",
    "# Proposition 0.3.12 (Associativity of composition)\n",
    "# TODO: full proof on all cases\n",
    "for x in Nat(10):\n",
    "    assert g(f(h(x))) == gf(h(x))"
   ]
  },
  {
   "cell_type": "code",
   "execution_count": 46,
   "metadata": {},
   "outputs": [],
   "source": [
    "## 0.3.7 Functional inverse\n",
    "\n",
    "# Definition 0.3.13: inverse function. f and g are functional inverses of each other if\n",
    "# f(g(x)) is id(x) on the domain of g and g(f(x)) is id(x) on the domain of f\n",
    "\n",
    "# Definition 0.3.14: f is __one-to-one__ if f(x) == f(y), implies x == y;  \n",
    "#                    f D -> F is __onto__ if for every z \\in F, there exists x \\in D, f(x) = D\n",
    "\n",
    "# Lemma 0.3.16: An invertible function is one-to-one.\n",
    "# Lemma 0.3.17: An invertible function is onto.\n",
    "# Theorem 0.3.18 (Function Invertibility Theorem): A function is invertible iffit is one-to-one and onto.\n",
    "# Lemma 0.3.19: Every function has at most one functional inverse.\n",
    "# Lemma 0.3.20: If f and g are invertible functions and f ◦ g exists then f ◦ g is invertible and (f ◦ g)^−1 = g^−1 ◦ f^−1 ."
   ]
  },
  {
   "attachments": {},
   "cell_type": "markdown",
   "metadata": {},
   "source": [
    "## 0.4 Probability\n",
    "\n",
    "### Definition probability distribution\n",
    "\n",
    "$Pr(\\omega)$ from a finite domain $\\Omega$ to the set $\\mathbb{R}+$ of nonnegative reals if $\\sum_{\\forall \\omega \\in \\Omega} Pr(\\omega) = 1$\n",
    "\n",
    "$PR(.)$ is called the probability of outcome.\n",
    "\n",
    "### Definitino of Event\n",
    "\n",
    "A set of outcomes is called an event.\n",
    "\n",
    "### Principle 0.4.5 (Fundamental Principle of Probability Theory): \n",
    "\n",
    "The probability of an (independent) event is the sum of probabilities of the outcomes making up the event.\n",
    "\n",
    "### Probability inference\n",
    "Applying a function to random input, we can use probability theory to derive the probability distribution of the output."
   ]
  },
  {
   "cell_type": "code",
   "execution_count": 68,
   "metadata": {},
   "outputs": [
    {
     "name": "stdout",
     "output_type": "stream",
     "text": [
      "0.43608732687125307\n",
      "0.38251064142179936\n",
      "0.25911064523391614\n",
      "0.2816237446114279\n",
      "0.1426572702919373\n",
      "0.9676716503218403\n",
      "0.7793827965378007\n",
      "0.9337460640902843\n",
      "0.4002157824445963\n",
      "0.9023777893434325\n",
      "1.0100628401970795\n",
      "0.9952118754966738\n",
      "0.9984688848535856\n",
      "0.9992076729718941\n",
      "1.0037906351958985\n",
      "0.9920036477325369\n",
      "0.9970502344629801\n",
      "0.9919630905714335\n",
      "1.0021840077548294\n",
      "0.9998222355630747\n"
     ]
    }
   ],
   "source": [
    "import random\n",
    "\n",
    "# uniform distributions\n",
    "Pr = {'heads':1/2, 'tails':1/2}\n",
    "Pr = {1:1/6, 2:1/6, 3:1/6, 4:1/6, 5:1/6, 6:1/6}\n",
    "\n",
    "for _ in range(10):\n",
    "    print(random.uniform(0, 1))\n",
    "\n",
    "# Nonuniform distributions\n",
    "for _ in range(10):\n",
    "    print(random.gauss(1, 0.01))"
   ]
  },
  {
   "cell_type": "code",
   "execution_count": 54,
   "metadata": {},
   "outputs": [],
   "source": [
    "# 0.4.4 Perfect secrecy\n",
    "\n",
    "# Reference: \n",
    "# Kerckhoffs Doctrine is that the security of a cryptosystem should depend only on the secrecy of the key used, \n",
    "# not on the secrecy of the system itself (security through obscurity).\n",
    "\n",
    "# Definition. the probability distribution of the output does not reveal any information on the input (except length)"
   ]
  },
  {
   "cell_type": "code",
   "execution_count": 69,
   "metadata": {},
   "outputs": [
    {
     "name": "stdout",
     "output_type": "stream",
     "text": [
      "[0, 1, 2, 3, 4, 5, 6, 7]\n",
      "[0, 1, 2, 3, 4, 5, 6, 7, 8, 9, 10, 11, 12, 13, 14, 15, 16, 17, 18, 19, 20, 21, 22, 23, 24, 25, 26]\n"
     ]
    }
   ],
   "source": [
    "# Task 0.5.32\n",
    "def all_3_digit_numbers(base, digits):\n",
    "    compute = lambda d1, d2, d3: base**2 * d1 + base * d2 + d3\n",
    "    for prod in cartesian_product(digits, cartesian_product(digits, digits)):\n",
    "        d1 = prod[0]\n",
    "        d2 = prod[1][0]\n",
    "        d3 = prod[1][1]\n",
    "        yield compute(d1, d2, d3)\n",
    "\n",
    "print(sorted(all_3_digit_numbers(2, {0, 1})))\n",
    "print(sorted(all_3_digit_numbers(3, {0, 1, 2})))"
   ]
  }
 ],
 "metadata": {
  "kernelspec": {
   "display_name": "base",
   "language": "python",
   "name": "python3"
  },
  "language_info": {
   "codemirror_mode": {
    "name": "ipython",
    "version": 3
   },
   "file_extension": ".py",
   "mimetype": "text/x-python",
   "name": "python",
   "nbconvert_exporter": "python",
   "pygments_lexer": "ipython3",
   "version": "3.10.8"
  },
  "orig_nbformat": 4
 },
 "nbformat": 4,
 "nbformat_minor": 2
}
