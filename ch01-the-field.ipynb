{
 "cells": [
  {
   "attachments": {},
   "cell_type": "markdown",
   "metadata": {},
   "source": [
    "# Chapter 1 - The Field\n",
    "\n",
    "A field is a collection of values with a plus operation and a times operation\n",
    "\n",
    "\n",
    "## Key concepts\n",
    "- complex number, function overload, absolute value and conjugation of complex number\n",
    "- transformation functions on complex number, adding, multiplying; \n",
    "- euler's formula and polar representation of complex number\n",
    "- under polar representation, multiplying could be decomposed as rotation and scaling"
   ]
  },
  {
   "cell_type": "code",
   "execution_count": 18,
   "metadata": {},
   "outputs": [
    {
     "data": {
      "text/plain": [
       "[1j, (1+3j), (-9+0j), 1.0, 3.0, complex]"
      ]
     },
     "execution_count": 18,
     "metadata": {},
     "output_type": "execute_result"
    }
   ],
   "source": [
    "# complex number\n",
    "x = 1 + 3j\n",
    "[\n",
    "    1j,\n",
    "    1+3j,\n",
    "    (x - 1)**2,\n",
    "    x.real,\n",
    "    x.imag,\n",
    "    type(x),\n",
    "]"
   ]
  },
  {
   "cell_type": "code",
   "execution_count": 21,
   "metadata": {},
   "outputs": [
    {
     "data": {
      "text/plain": [
       "(1.2-0.6j)"
      ]
     },
     "execution_count": 21,
     "metadata": {},
     "output_type": "execute_result"
    }
   ],
   "source": [
    "# concept of overloading\n",
    "def solve1(a,b,c): return (c-b)/a\n",
    "solve1(10, 5, 30)\n",
    "solve1(10+5j, 5, 20)\n",
    "\n",
    "# for linear operations, the following contract is needed:\n",
    "# - concepts and theorems are stated as +/-/*/%\n",
    "# - operators have commutativity and distributivity"
   ]
  },
  {
   "attachments": {},
   "cell_type": "markdown",
   "metadata": {},
   "source": [
    "## Playing with $\\mathbb{C}$"
   ]
  },
  {
   "cell_type": "code",
   "execution_count": 89,
   "metadata": {},
   "outputs": [],
   "source": [
    "from book.plotting import plot\n",
    "S = {2 + 2j, 3 + 2j, 1.75 + 1j, 2 + 1j, 2.25 + 1j, 2.5 + 1j, 2.75 + 1j, 3 + 1j, 3.25 + 1j}\n",
    "plot(S, 4)"
   ]
  },
  {
   "cell_type": "code",
   "execution_count": 40,
   "metadata": {},
   "outputs": [
    {
     "name": "stdout",
     "output_type": "stream",
     "text": [
      "[3.1622776601683795, (3-4j)]\n"
     ]
    }
   ],
   "source": [
    "# Definition: The absolute value of a complex number z, written |z| is the distance from \n",
    "#             the origin to the corresponding point in the complex plane.\n",
    "# Definition 1.4.2: The conjugate of a complex number z, written z̄, is defined as z.real−z.imag.\n",
    "print([\n",
    "        abs(x),\n",
    "        (3+4j).conjugate(),\n",
    "])\n",
    "\n",
    "# Proposition: |z|^2 = z . z̄\n",
    "assert abs(x * x) == x * x.conjugate()"
   ]
  },
  {
   "cell_type": "code",
   "execution_count": 104,
   "metadata": {},
   "outputs": [],
   "source": [
    "# Definition: translation is a function which transforms numbers in set with add. f(z) = z + z_0, inversible.\n",
    "def translate(z, z0): return z + z0\n",
    "plot({translate(z, 1+2j) for z in S})"
   ]
  },
  {
   "cell_type": "code",
   "execution_count": 45,
   "metadata": {},
   "outputs": [],
   "source": [
    "# multiple by real number is scaling: f(z, a) = (a*z.real, a*z.imag)\n"
   ]
  },
  {
   "cell_type": "code",
   "execution_count": null,
   "metadata": {},
   "outputs": [],
   "source": [
    "# multiple by -1, rotating 180 degress\n",
    "plot({z * -1 for z in S})"
   ]
  },
  {
   "cell_type": "code",
   "execution_count": 50,
   "metadata": {},
   "outputs": [],
   "source": [
    "# multiple by i, rotating 90 degress\n",
    "plot({z * 1j for z in S}, 4)"
   ]
  },
  {
   "cell_type": "code",
   "execution_count": 105,
   "metadata": {},
   "outputs": [],
   "source": [
    "# Task 1.4.8\n",
    "plot({translate(z * 0.5j, 2-1j) for z in S}, 4)"
   ]
  },
  {
   "cell_type": "code",
   "execution_count": 83,
   "metadata": {},
   "outputs": [],
   "source": [
    "# Task 1.4.10\n",
    "from book import image\n",
    "data = image.file2image(\"./book/img01.png\")\n",
    "pts = [complex(x, y) \n",
    "       for y, row in enumerate(reversed(data)) # NOTE: reverse the y-axis and read rows\n",
    "       for x, intensity in enumerate(row) if intensity[0] < 120]\n",
    "plot({z for z in pts}, len(data), 1)"
   ]
  },
  {
   "cell_type": "code",
   "execution_count": 88,
   "metadata": {},
   "outputs": [],
   "source": [
    "# Task 1.4.12\n",
    "plot({z * 0.5j + 2-1j for z in pts}, len(data)/2, 1)"
   ]
  },
  {
   "cell_type": "code",
   "execution_count": 90,
   "metadata": {},
   "outputs": [],
   "source": [
    "# Remark 1.4.15: The argument of z is the angle formed by z with 1 + 0i.\n",
    "\n",
    "# Definition: The angle is the line segments formed by the argument of z1 and z2"
   ]
  },
  {
   "cell_type": "code",
   "execution_count": 92,
   "metadata": {},
   "outputs": [],
   "source": [
    "# Euler’s formula states that, for any real number θ, e**i·θ is the point z on the unit circle with argument θ.\n",
    "# special case for (θ = pi) e**(i*pi) = -1\n",
    "\n",
    "# Reference: Leonhard Euler"
   ]
  },
  {
   "cell_type": "code",
   "execution_count": 99,
   "metadata": {},
   "outputs": [],
   "source": [
    "# Task 1.4.17\n",
    "import math\n",
    "plot({z for z in [math.e ** (2*math.pi*1j/n) for n in range(1, 20)]})"
   ]
  },
  {
   "cell_type": "code",
   "execution_count": 102,
   "metadata": {},
   "outputs": [],
   "source": [
    "# Euler's formula offers a polar representation of complex number: z = r * e^(i·θ)\n",
    "# - θ is the argument of z \n",
    "# - r is the absolute of z\n",
    "\n",
    "# Rotation by τ\n",
    "# f(z) = z*e^(τi)\n",
    "\n",
    "def rotate(z, tau): return z*math.e**(tau * 1j) \n",
    "\n",
    "# Task 1.4.18\n",
    "plot({rotate(z, math.pi/4) for z in S})\n",
    "\n",
    "# Task 1.4.19\n",
    "plot({rotate(z, math.pi/4) for z in pts}, 200)"
   ]
  },
  {
   "cell_type": "code",
   "execution_count": 108,
   "metadata": {},
   "outputs": [],
   "source": [
    "# Both scaling and rotation both consist in multiplication, a rotation and a scaling can be combined\n",
    "\n",
    "# Task 1.4.20\n",
    "h = len(data)\n",
    "w = len(data[0])\n",
    "plot({0.5 * rotate(translate(z,complex(-w/2, -h/2)), math.pi/4) for z in pts}, 200)"
   ]
  },
  {
   "attachments": {},
   "cell_type": "markdown",
   "metadata": {},
   "source": [
    "# 1.5 Playing with GF (2)\n",
    "\n",
    "## Reference\n",
    "Galois is known for his work in the area of abstract algebra, particularly in the field of group theory."
   ]
  },
  {
   "cell_type": "code",
   "execution_count": 115,
   "metadata": {},
   "outputs": [
    {
     "data": {
      "text/plain": [
       "[one, 0, one, 0, one]"
      ]
     },
     "execution_count": 115,
     "metadata": {},
     "output_type": "execute_result"
    }
   ],
   "source": [
    "from book.GF2 import one, zero\n",
    "# Galois Field\n",
    "[\n",
    "    one*one,\n",
    "    one*zero,\n",
    "    one + zero,\n",
    "    one+one,\n",
    "    -one\n",
    "]"
   ]
  },
  {
   "cell_type": "code",
   "execution_count": null,
   "metadata": {},
   "outputs": [],
   "source": [
    "# 1.5.1 Perfect secrecy revisited\n",
    "# The previous system is k -> k + p GF(2)\n",
    "# long message could be encrypted bit by bit, and each bit is independent, so remains perfect secrecy\n",
    "\n",
    "# The system is called one-time pad.\n",
    "# A one-time pad is a cryptographic technique that uses a random and secret key of the same length as the message being encrypted. \n",
    "# The key is used only once and then destroyed, hence the name \"one-time\" pad.\n",
    "# Limitation: key distribution, key length needs to equal to message length"
   ]
  },
  {
   "cell_type": "code",
   "execution_count": 201,
   "metadata": {},
   "outputs": [
    {
     "name": "stdout",
     "output_type": "stream",
     "text": [
      "0110001100011000110001100011000110001100011000110001100\n",
      "ZIZHVPHZIVW\n",
      "\n",
      "0110101101011010110101101011010110101101011010110101101\n",
      "YJYGUOGYJUX\n",
      "\n",
      "1001010010100101001010010100101001010010100101001010010\n",
      "HWHZLRZHWLI\n",
      "\n",
      "1001110011100111001110011100111001110011100111001110011\n",
      "GXGYKQYGXKJ\n",
      "\n"
     ]
    }
   ],
   "source": [
    "# Problem 1.5.1\n",
    "import functools\n",
    "char_map = {chr(i + 65): i for i in range(26)}\n",
    "char_map_inv = {i: chr(i + 65) for i in range(26)}\n",
    "bits_map = lambda n: format(n, \"05b\")\n",
    "bits_map_inv = lambda s: int(s, 2)\n",
    "\n",
    "def to_gf(digit): return {'1': one, '0': zero}[digit]\n",
    "def from_gf(gf):  return {one: '1', zero: '0'}[gf]\n",
    "\n",
    "def encrypt(key, s):\n",
    "    return ''.join(from_gf(to_gf(ch) + to_gf(k))\n",
    "         for ch, k in zip(list(s), key))\n",
    "def decrypt(key, s):\n",
    "    return ''.join(from_gf(to_gf(ch) - to_gf(k)) \n",
    "            for ch, k in zip(list(s), key))\n",
    "\n",
    "# Example:\n",
    "flawed_key = list('00110') * 11\n",
    "flawed_encrypt = functools.partial(encrypt, flawed_key)\n",
    "flawed_decrypt = functools.partial(decrypt, flawed_key)\n",
    "[\n",
    "    char_map_inv[bits_map_inv(\n",
    "        flawed_decrypt(\n",
    "            flawed_encrypt(bits_map(char_map[ch]))))\n",
    "] for ch in \"HELLOWORLDA\"]\n",
    "\n",
    "cyphertext = '10101 00100 10101 01011 11001 00011 01011 10101 00100 11001 11010'\n",
    "# NOTE: Full search to find a valid key(s) which is consistant with functions domains\n",
    "for i in range(32):\n",
    "    key = list(format(i, \"05b\")) * 11\n",
    "    attempted_decrypt = functools.partial(decrypt, key)\n",
    "    if all(bits_map_inv(attempted_decrypt(ch)) in char_map_inv\n",
    "           for ch in cyphertext.split(' ')):\n",
    "        print(''.join(key))\n",
    "        decrypted = [char_map_inv[\n",
    "            bits_map_inv(attempted_decrypt(ch))\n",
    "        ] for ch in cyphertext.split(' ')]\n",
    "        print(''.join(decrypted))\n",
    "        assert cyphertext == ' '.join(encrypt(key, bits_map(char_map[ch])) for ch in decrypted)\n",
    "        print()"
   ]
  },
  {
   "cell_type": "code",
   "execution_count": 202,
   "metadata": {},
   "outputs": [],
   "source": [
    "# Network coding using GF(2)\n",
    "# Powerful application to double the bandwidth"
   ]
  },
  {
   "cell_type": "code",
   "execution_count": null,
   "metadata": {},
   "outputs": [],
   "source": [
    "# Problem 1.7.12\n",
    "def transform(a, b, L):\n",
    "    return [a * z + b for z in L]\n",
    "\n",
    "# (z + (1 + 1j)) * -1j)*2, up 1, right 1, clock-wise 90, scale by 2\n",
    "# 2 * (b + 1) - 2 * (a + 1) * i"
   ]
  }
 ],
 "metadata": {
  "kernelspec": {
   "display_name": "base",
   "language": "python",
   "name": "python3"
  },
  "language_info": {
   "codemirror_mode": {
    "name": "ipython",
    "version": 3
   },
   "file_extension": ".py",
   "mimetype": "text/x-python",
   "name": "python",
   "nbconvert_exporter": "python",
   "pygments_lexer": "ipython3",
   "version": "3.10.8"
  },
  "orig_nbformat": 4
 },
 "nbformat": 4,
 "nbformat_minor": 2
}
