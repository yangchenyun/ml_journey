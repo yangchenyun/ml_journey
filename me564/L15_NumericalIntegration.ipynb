{
 "cells": [
  {
   "cell_type": "markdown",
   "metadata": {},
   "source": [
    "# Numerical integration with the rectangle and trapezoidal rules\n",
    "The true value is $$\\int_0^{10} sin(x)dx = 1.8391$$ and we will see how we can approximate this integral below."
   ]
  },
  {
   "cell_type": "code",
   "execution_count": 1,
   "metadata": {},
   "outputs": [],
   "source": [
    "# import libraries\n",
    "import numpy as np\n",
    "from matplotlib import pyplot as plt"
   ]
  },
  {
   "cell_type": "code",
   "execution_count": 2,
   "metadata": {},
   "outputs": [
    {
     "data": {
      "image/png": "[encoded data removed]",
      "text/plain": [
       "<Figure size 432x288 with 1 Axes>"
      ]
     },
     "metadata": {
      "needs_background": "light"
     },
     "output_type": "display_data"
    }
   ],
   "source": [
    "# define physical constants and time base\n",
    "a = 0\n",
    "b = 10\n",
    "dxf = 0.01\n",
    "xf = np.linspace(a, b, int(b / dxf))\n",
    "yf = np.sin(xf)\n",
    "plt.figure()\n",
    "plt.grid(True)\n",
    "plt.plot(xf, yf)\n",
    "\n",
    "dxc = 0.5\n",
    "xc = np.linspace(a, b, int(b / dxc))\n",
    "edges = np.linspace(a, b, int(b / dxc) + 1, endpoint=True)\n",
    "yc = np.sin(xc)\n",
    "plt.stairs(yc, edges, color='r')\n",
    "plt.grid(True)\n",
    "plt.show()"
   ]
  },
  {
   "cell_type": "code",
   "execution_count": 3,
   "metadata": {},
   "outputs": [
    {
     "name": "stdout",
     "output_type": "stream",
     "text": [
      "1.842605279599356\n"
     ]
    }
   ],
   "source": [
    "n = len(xc)\n",
    "\n",
    "# left-rectangle rule\n",
    "area1 = 0\n",
    "for i in range(n - 1):\n",
    "    area1 = area1 + yc[i] * dxc\n",
    "print(area1)"
   ]
  },
  {
   "cell_type": "code",
   "execution_count": 4,
   "metadata": {},
   "outputs": [
    {
     "name": "stdout",
     "output_type": "stream",
     "text": [
      "1.570594724154671\n"
     ]
    }
   ],
   "source": [
    "# right-rectangle rule\n",
    "area2 = 0\n",
    "for i in range(n - 1):\n",
    "    area2 = area2 + yc[i + 1] * dxc\n",
    "print(area2)"
   ]
  },
  {
   "cell_type": "code",
   "execution_count": 5,
   "metadata": {},
   "outputs": [
    {
     "name": "stdout",
     "output_type": "stream",
     "text": [
      "1.706600001877013\n"
     ]
    }
   ],
   "source": [
    "# trapezoid rule\n",
    "area3 = 0\n",
    "for i in range(n - 1):\n",
    "    area3 = area3 + (dxc / 2) * (yc[i] + yc[i + 1])\n",
    "print(area3)"
   ]
  },
  {
   "cell_type": "code",
   "execution_count": 6,
   "metadata": {},
   "outputs": [
    {
     "name": "stdout",
     "output_type": "stream",
     "text": [
      "1.842605279599356 1.570594724154671 1.7964210546073824\n",
      "1.842605279599356 1.570594724154671 1.706600001877013\n"
     ]
    }
   ],
   "source": [
    "# we can also use built in python functions\n",
    "area1 = sum(yc[:-1]) * dxc;\n",
    "area2 = sum(yc[1:]) * dxc;\n",
    "area3 = np.trapz(yc, xc);\n",
    "print(area1, area2, area3)\n",
    "area3 = np.trapz(yc) * dxc;\n",
    "print(area1, area2, area3)"
   ]
  },
  {
   "cell_type": "code",
   "execution_count": 7,
   "metadata": {},
   "outputs": [
    {
     "name": "stdout",
     "output_type": "stream",
     "text": [
      "1.842605279599356 1.570594724154671 1.8390561727575017\n",
      "1.842605279599356 1.570594724154671 1.837217116584743\n"
     ]
    }
   ],
   "source": [
    "# we can also figure out better estimate using fine resolution data\n",
    "area1f = sum(yf[:-1]) * dxf\n",
    "area2f = sum(yf[1:]) * dxf\n",
    "area3f = np.trapz(yf, xf)  # This one gets very close to the true value of 1.8391!\n",
    "print(area1, area2, area3f) \n",
    "area3f = np.trapz(yf) * dxf\n",
    "print(area1, area2, area3f)"
   ]
  }
 ],
 "metadata": {
  "kernelspec": {
   "display_name": "Python 3",
   "language": "python",
   "name": "python3"
  },
  "language_info": {
   "codemirror_mode": {
    "name": "ipython",
    "version": 3
   },
   "file_extension": ".py",
   "mimetype": "text/x-python",
   "name": "python",
   "nbconvert_exporter": "python",
   "pygments_lexer": "ipython3",
   "version": "3.7.4"
  }
 },
 "nbformat": 4,
 "nbformat_minor": 2
}
